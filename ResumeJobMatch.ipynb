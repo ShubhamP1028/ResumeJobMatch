{
  "cells": [
    {
      "cell_type": "markdown",
      "source": [],
      "metadata": {
        "id": "8CIto0yBPo5e"
      },
      "id": "8CIto0yBPo5e"
    },
    {
      "cell_type": "markdown",
      "source": [
        "neccessary package install"
      ],
      "metadata": {
        "id": "1rbkRmzRPpep"
      },
      "id": "1rbkRmzRPpep"
    },
    {
      "cell_type": "code",
      "execution_count": 5,
      "id": "7b78ee74",
      "metadata": {
        "colab": {
          "base_uri": "https://localhost:8080/"
        },
        "id": "7b78ee74",
        "outputId": "c5f8d326-af28-4eba-f5fe-80f3a69bc4cd"
      },
      "outputs": [
        {
          "output_type": "stream",
          "name": "stderr",
          "text": [
            "[nltk_data] Downloading package punkt_tab to /root/nltk_data...\n",
            "[nltk_data]   Package punkt_tab is already up-to-date!\n"
          ]
        },
        {
          "output_type": "execute_result",
          "data": {
            "text/plain": [
              "True"
            ]
          },
          "metadata": {},
          "execution_count": 5
        }
      ],
      "source": [
        "!pip install -q datasets transformers seqeval sentence-transformers accelerate scikit-learn faiss-cpu evaluate\n",
        "import nltk\n",
        "nltk.download('punkt_tab')"
      ]
    },
    {
      "cell_type": "code",
      "execution_count": 6,
      "id": "u4HPvcTsLhKK",
      "metadata": {
        "colab": {
          "base_uri": "https://localhost:8080/"
        },
        "id": "u4HPvcTsLhKK",
        "outputId": "0c1ae4b0-2df0-4795-d8dd-8fcc08ca422e"
      },
      "outputs": [
        {
          "output_type": "stream",
          "name": "stdout",
          "text": [
            "['Technology Skills.txt', 'Alternate Titles.txt', 'Task Ratings.txt', 'Emerging Tasks.txt', 'Education, Training, and Experience Categories.txt', 'Abilities to Work Context.txt', 'Occupation Level Metadata.txt', 'Work Values.txt', 'RIASEC Keywords.txt', 'Education, Training, and Experience.txt', 'Task Categories.txt', 'Job Zone Reference.txt', 'Task Statements.txt', 'Work Styles.txt', 'Abilities.txt', 'Read Me.txt', 'Survey Booklet Locations.txt', 'Skills.txt', 'Skills to Work Context.txt', 'Abilities to Work Activities.txt', 'Work Context Categories.txt', 'Interests Illustrative Occupations.txt', 'IWA Reference.txt', 'Occupation Data.txt', 'Knowledge.txt', 'Related Occupations.txt', 'Level Scale Anchors.txt', 'Scales Reference.txt', 'Interests Illustrative Activities.txt', 'Content Model Reference.txt', 'Tools Used.txt', 'DWA Reference.txt', 'Work Context.txt', 'Job Zones.txt', 'Work Activities.txt', 'UNSPSC Reference.txt', 'Basic Interests to RIASEC.txt', 'Skills to Work Activities.txt', 'Tasks to DWAs.txt', 'Sample of Reported Titles.txt', 'Interests.txt']\n",
            "['cv (3425)_annotated.json', 'cv (4915)_annotated.json', 'cv (1354)_annotated.json', 'cv (2587)_annotated.json', 'cv (381)_annotated.json', 'cv (1328)_annotated.json', 'cv (1062)_annotated.json', 'cv (802)_annotated.json', 'cv (3245)_annotated.json', 'cv (3016)_annotated.json', 'cv (3215)_annotated.json', 'cv (402)_annotated.json', 'cv (2006)_annotated.json', 'cv (1819)_annotated.json', 'cv (3656)_annotated.json', 'cv (4662)_annotated.json', 'cv (2200)_annotated.json', 'cv (3593)_annotated.json', 'cv (1404)_annotated.json', 'cv (1808)_annotated.json', 'cv (1574)_annotated.json', 'cv (4104)_annotated.json', 'cv (4919)_annotated.json', 'cv (4351)_annotated.json', 'cv (2932)_annotated.json', 'cv (527)_annotated.json', 'cv (4950)_annotated.json', 'cv (3655)_annotated.json', 'cv (365)_annotated.json', 'cv (602)_annotated.json', 'cv (2849)_annotated.json', 'cv (914)_annotated.json', 'cv (1238)_annotated.json', 'cv (3895)_annotated.json', 'cv (2214)_annotated.json', 'cv (271)_annotated.json', 'cv (2472)_annotated.json', 'cv (422)_annotated.json', 'cv (1224)_annotated.json', 'cv (2929)_annotated.json', 'cv (2589)_annotated.json', 'cv (1457)_annotated.json', 'cv (3025)_annotated.json', 'cv (219)_annotated.json', 'cv (2110)_annotated.json', 'cv (611)_annotated.json', 'cv (2066)_annotated.json', 'cv (2564)_annotated.json', 'cv (4954)_annotated.json', 'cv (405)_annotated.json', 'cv (1603)_annotated.json', 'cv (114)_annotated.json', 'cv (2303)_annotated.json', 'cv (3397)_annotated.json', 'cv (259)_annotated.json', 'cv (453)_annotated.json', 'cv (4869)_annotated.json', 'cv (1710)_annotated.json', 'cv (80)_annotated.json', 'cv (2753)_annotated.json', 'cv (193)_annotated.json', 'cv (1647)_annotated.json', 'cv (1130)_annotated.json', 'cv (4794)_annotated.json', 'cv (1606)_annotated.json', 'cv (3720)_annotated.json', 'cv (759)_annotated.json', 'cv (1810)_annotated.json', 'cv (1772)_annotated.json', 'cv (2219)_annotated.json', 'cv (3284)_annotated.json', 'cv (869)_annotated.json', 'cv (770)_annotated.json', 'cv (1589)_annotated.json', 'cv (3210)_annotated.json', 'cv (2576)_annotated.json', 'cv (1618)_annotated.json', 'cv (2349)_annotated.json', 'cv (210)_annotated.json', 'cv (350)_annotated.json', 'cv (1641)_annotated.json', 'cv (3860)_annotated.json', 'cv (3920)_annotated.json', 'cv (2297)_annotated.json', 'cv (756)_annotated.json', 'cv (2010)_annotated.json', 'cv (821)_annotated.json', 'cv (2706)_annotated.json', 'cv (3778)_annotated.json', 'cv (1162)_annotated.json', 'cv (2021)_annotated.json', 'cv (4453)_annotated.json', 'cv (1843)_annotated.json', 'cv (4213)_annotated.json', 'cv (1456)_annotated.json', 'cv (2902)_annotated.json', 'cv (4651)_annotated.json', 'cv (893)_annotated.json', 'cv (2408)_annotated.json', 'cv (4302)_annotated.json', 'cv (3369)_annotated.json', 'cv (1407)_annotated.json', 'cv (2549)_annotated.json', 'cv (1611)_annotated.json', 'cv (466)_annotated.json', 'cv (2916)_annotated.json', 'cv (2094)_annotated.json', 'cv (2955)_annotated.json', 'cv (3271)_annotated.json', 'cv (575)_annotated.json', 'cv (3333)_annotated.json', 'cv (3120)_annotated.json', 'cv (2277)_annotated.json', 'cv (3290)_annotated.json', 'cv (5026)_annotated.json', 'cv (262)_annotated.json', 'cv (3845)_annotated.json', 'cv (2389)_annotated.json', 'cv (2500)_annotated.json', 'cv (3188)_annotated.json', 'cv (844)_annotated.json', 'cv (4756)_annotated.json', 'cv (2150)_annotated.json', 'cv (3848)_annotated.json', 'cv (3158)_annotated.json', 'cv (4482)_annotated.json', 'cv (3822)_annotated.json', 'cv (766)_annotated.json', 'cv (3632)_annotated.json', 'cv (4036)_annotated.json', 'cv (3486)_annotated.json', 'cv (825)_annotated.json', 'cv (2634)_annotated.json', 'cv (2122)_annotated.json', 'cv (3032)_annotated.json', 'cv (3440)_annotated.json', 'cv (3717)_annotated.json', 'cv (3141)_annotated.json', 'cv (1716)_annotated.json', 'cv (3579)_annotated.json', 'cv (2278)_annotated.json', 'cv (4368)_annotated.json', 'cv (2074)_annotated.json', 'cv (595)_annotated.json', 'cv (3221)_annotated.json', 'cv (2603)_annotated.json', 'cv (2257)_annotated.json', 'cv (2376)_annotated.json', 'cv (1059)_annotated.json', 'cv (1854)_annotated.json', 'cv (3739)_annotated.json', 'cv (3824)_annotated.json', 'cv (820)_annotated.json', 'cv (1967)_annotated.json', 'cv (3190)_annotated.json', 'cv (360)_annotated.json', 'cv (1129)_annotated.json', 'cv (4468)_annotated.json', 'cv (2914)_annotated.json', 'cv (183)_annotated.json', 'cv (2937)_annotated.json', 'cv (1105)_annotated.json', 'cv (4267)_annotated.json', 'cv (561)_annotated.json', 'cv (2733)_annotated.json', 'cv (851)_annotated.json', 'cv (4443)_annotated.json', 'cv (2439)_annotated.json', 'cv (4168)_annotated.json', 'cv (594)_annotated.json', 'cv (434)_annotated.json', 'cv (584)_annotated.json', 'cv (2768)_annotated.json', 'cv (3941)_annotated.json', 'cv (486)_annotated.json', 'cv (3279)_annotated.json', 'cv (4452)_annotated.json', 'cv (3437)_annotated.json', 'cv (4515)_annotated.json', 'cv (4280)_annotated.json', 'cv (4401)_annotated.json', 'cv (1744)_annotated.json', 'cv (1037)_annotated.json', 'cv (4078)_annotated.json', 'cv (4618)_annotated.json', 'cv (2250)_annotated.json', 'cv (1815)_annotated.json', 'cv (3530)_annotated.json', 'cv (3807)_annotated.json', 'cv (246)_annotated.json', 'cv (2816)_annotated.json', 'cv (2)_annotated.json', 'cv (2490)_annotated.json', 'cv (2286)_annotated.json', 'cv (2809)_annotated.json', 'cv (4067)_annotated.json', 'cv (2181)_annotated.json', 'cv (164)_annotated.json', 'cv (4873)_annotated.json', 'cv (2316)_annotated.json', 'cv (473)_annotated.json', 'cv (1236)_annotated.json', 'cv (3864)_annotated.json', 'cv (1982)_annotated.json', 'cv (3935)_annotated.json', 'cv (3695)_annotated.json', 'cv (3881)_annotated.json', 'cv (4499)_annotated.json', 'cv (965)_annotated.json', 'cv (684)_annotated.json', 'cv (215)_annotated.json', 'cv (4225)_annotated.json', 'cv (2256)_annotated.json', 'cv (311)_annotated.json', 'cv (4231)_annotated.json', 'cv (3364)_annotated.json', 'cv (2121)_annotated.json', 'cv (3749)_annotated.json', 'cv (4576)_annotated.json', 'cv (2011)_annotated.json', 'cv (3019)_annotated.json', 'cv (3535)_annotated.json', 'cv (2682)_annotated.json', 'cv (2223)_annotated.json', 'cv (3034)_annotated.json', 'cv (2301)_annotated.json', 'cv (901)_annotated.json', 'cv (1379)_annotated.json', 'cv (3644)_annotated.json', 'cv (3272)_annotated.json', 'cv (56)_annotated.json', 'cv (2650)_annotated.json', 'cv (4979)_annotated.json', 'cv (529)_annotated.json', 'cv (4875)_annotated.json', 'cv (4030)_annotated.json', 'cv (66)_annotated.json', 'cv (4069)_annotated.json', 'cv (4907)_annotated.json', 'cv (1747)_annotated.json', 'cv (1628)_annotated.json', 'cv (299)_annotated.json', 'cv (1704)_annotated.json', 'cv (748)_annotated.json', 'cv (4027)_annotated.json', 'cv (2193)_annotated.json', 'cv (5000)_annotated.json', 'cv (553)_annotated.json', 'cv (2920)_annotated.json', 'cv (3004)_annotated.json', 'cv (2815)_annotated.json', 'cv (369)_annotated.json', 'cv (2099)_annotated.json', 'cv (741)_annotated.json', 'cv (693)_annotated.json', 'cv (1822)_annotated.json', 'cv (4299)_annotated.json', 'cv (3908)_annotated.json', 'cv (4897)_annotated.json', 'cv (4300)_annotated.json', 'cv (3080)_annotated.json', 'cv (1269)_annotated.json', 'cv (1991)_annotated.json', 'cv (1957)_annotated.json', 'cv (2298)_annotated.json', 'cv (4511)_annotated.json', 'cv (4519)_annotated.json', 'cv (2140)_annotated.json', 'cv (2300)_annotated.json', 'cv (3360)_annotated.json', 'cv (4438)_annotated.json', 'cv (746)_annotated.json', 'cv (1567)_annotated.json', 'cv (2965)_annotated.json', 'cv (1368)_annotated.json', 'cv (3313)_annotated.json', 'cv (4323)_annotated.json', 'cv (4229)_annotated.json', 'cv (389)_annotated.json', 'cv (1376)_annotated.json', 'cv (2973)_annotated.json', 'cv (4023)_annotated.json', 'cv (2120)_annotated.json', 'cv (3072)_annotated.json', 'cv (1114)_annotated.json', 'cv (403)_annotated.json', 'cv (2663)_annotated.json', 'cv (609)_annotated.json', 'cv (3133)_annotated.json', 'cv (4530)_annotated.json', 'cv (4671)_annotated.json', 'cv (1184)_annotated.json', 'cv (1389)_annotated.json', 'cv (661)_annotated.json', 'cv (2691)_annotated.json', 'cv (1588)_annotated.json', 'cv (400)_annotated.json', 'cv (4251)_annotated.json', 'cv (4672)_annotated.json', 'cv (2412)_annotated.json', 'cv (3421)_annotated.json', 'cv (324)_annotated.json', 'cv (3831)_annotated.json', 'cv (4137)_annotated.json', 'cv (1189)_annotated.json', 'cv (2064)_annotated.json', 'cv (3788)_annotated.json', 'cv (1711)_annotated.json', 'cv (3771)_annotated.json', 'cv (1572)_annotated.json', 'cv (1015)_annotated.json', 'cv (3268)_annotated.json', 'cv (3009)_annotated.json', 'cv (4052)_annotated.json', 'cv (3878)_annotated.json', 'cv (387)_annotated.json', 'cv (1871)_annotated.json', 'cv (4542)_annotated.json', 'cv (2235)_annotated.json', 'cv (999)_annotated.json', 'cv (1155)_annotated.json', 'cv (935)_annotated.json', 'cv (1483)_annotated.json', 'cv (2994)_annotated.json', 'cv (4318)_annotated.json', 'cv (243)_annotated.json', 'cv (4622)_annotated.json', 'cv (1434)_annotated.json', 'cv (902)_annotated.json', 'cv (300)_annotated.json', 'cv (1362)_annotated.json', 'cv (1955)_annotated.json', 'cv (932)_annotated.json', 'cv (320)_annotated.json', 'cv (4816)_annotated.json', 'cv (2152)_annotated.json', 'cv (866)_annotated.json', 'cv (2305)_annotated.json', 'cv (1661)_annotated.json', 'cv (3354)_annotated.json', 'cv (2891)_annotated.json', 'cv (2141)_annotated.json', 'cv (973)_annotated.json', 'cv (4217)_annotated.json', 'cv (3392)_annotated.json', 'cv (1622)_annotated.json', 'cv (317)_annotated.json', 'cv (4603)_annotated.json', 'cv (3688)_annotated.json', 'cv (2479)_annotated.json', 'cv (1613)_annotated.json', 'cv (204)_annotated.json', 'cv (185)_annotated.json', 'cv (1850)_annotated.json', 'cv (538)_annotated.json', 'cv (4731)_annotated.json', 'cv (1464)_annotated.json', 'cv (2518)_annotated.json', 'cv (3978)_annotated.json', 'cv (3393)_annotated.json', 'cv (137)_annotated.json', 'cv (4571)_annotated.json', 'cv (153)_annotated.json', 'cv (2910)_annotated.json', 'cv (2251)_annotated.json', 'cv (1495)_annotated.json', 'cv (2642)_annotated.json', 'cv (955)_annotated.json', 'cv (380)_annotated.json', 'cv (569)_annotated.json', 'cv (4723)_annotated.json', 'cv (666)_annotated.json', 'cv (2124)_annotated.json', 'cv (4575)_annotated.json', 'cv (1546)_annotated.json', 'cv (55)_annotated.json', 'cv (4148)_annotated.json', 'cv (1178)_annotated.json', 'cv (3218)_annotated.json', 'cv (355)_annotated.json', 'cv (426)_annotated.json', 'cv (3756)_annotated.json', 'cv (1423)_annotated.json', 'cv (1557)_annotated.json', 'cv (104)_annotated.json', 'cv (2941)_annotated.json', 'cv (505)_annotated.json', 'cv (3578)_annotated.json', 'cv (2355)_annotated.json', 'cv (1610)_annotated.json', 'cv (2077)_annotated.json', 'cv (471)_annotated.json', 'cv (2936)_annotated.json', 'cv (2524)_annotated.json', 'cv (1131)_annotated.json', 'cv (3681)_annotated.json', 'cv (1829)_annotated.json', 'cv (287)_annotated.json', 'cv (4011)_annotated.json', 'cv (1021)_annotated.json', 'cv (2393)_annotated.json', 'cv (1219)_annotated.json', 'cv (1771)_annotated.json', 'cv (99)_annotated.json', 'cv (4411)_annotated.json', 'cv (3149)_annotated.json', 'cv (1715)_annotated.json', 'cv (3533)_annotated.json', 'cv (4450)_annotated.json', 'cv (3042)_annotated.json', 'cv (3810)_annotated.json', 'cv (1254)_annotated.json', 'cv (861)_annotated.json', 'cv (4890)_annotated.json', 'cv (1781)_annotated.json', 'cv (2570)_annotated.json', 'cv (2366)_annotated.json', 'cv (470)_annotated.json', 'cv (3769)_annotated.json', 'cv (2231)_annotated.json', 'cv (1983)_annotated.json', 'cv (606)_annotated.json', 'cv (793)_annotated.json', 'cv (1719)_annotated.json', 'cv (521)_annotated.json', 'cv (4156)_annotated.json', 'cv (4700)_annotated.json', 'cv (988)_annotated.json', 'cv (1714)_annotated.json', 'cv (709)_annotated.json', 'cv (4272)_annotated.json', 'cv (3331)_annotated.json', 'cv (2293)_annotated.json', 'cv (2314)_annotated.json', 'cv (3858)_annotated.json', 'cv (4185)_annotated.json', 'cv (4524)_annotated.json', 'cv (5004)_annotated.json', 'cv (151)_annotated.json', 'cv (4614)_annotated.json', 'cv (4527)_annotated.json', 'cv (4129)_annotated.json', 'cv (24)_annotated.json', 'cv (1051)_annotated.json', 'cv (2592)_annotated.json', 'cv (2211)_annotated.json', 'cv (2183)_annotated.json', 'cv (1731)_annotated.json', 'cv (4776)_annotated.json', 'cv (3175)_annotated.json', 'cv (309)_annotated.json', 'cv (2546)_annotated.json', 'cv (997)_annotated.json', 'cv (1074)_annotated.json', 'cv (2767)_annotated.json', 'cv (2894)_annotated.json', 'cv (2411)_annotated.json', 'cv (1111)_annotated.json', 'cv (3512)_annotated.json', 'cv (3577)_annotated.json', 'cv (1787)_annotated.json', 'cv (3185)_annotated.json', 'cv (683)_annotated.json', 'cv (2047)_annotated.json', 'cv (2880)_annotated.json', 'cv (1852)_annotated.json', 'cv (1500)_annotated.json', 'cv (2445)_annotated.json', 'cv (4965)_annotated.json', 'cv (3222)_annotated.json', 'cv (2724)_annotated.json', 'cv (794)_annotated.json', 'cv (3551)_annotated.json', 'cv (4153)_annotated.json', 'cv (876)_annotated.json', 'cv (1617)_annotated.json', 'cv (1392)_annotated.json', 'cv (1341)_annotated.json', 'cv (448)_annotated.json', 'cv (3967)_annotated.json', 'cv (4263)_annotated.json', 'cv (3548)_annotated.json', 'cv (4081)_annotated.json', 'cv (3762)_annotated.json', 'cv (2572)_annotated.json', 'cv (3146)_annotated.json', 'cv (3523)_annotated.json', 'cv (1194)_annotated.json', 'cv (542)_annotated.json', 'cv (1956)_annotated.json', 'cv (1964)_annotated.json', 'cv (2142)_annotated.json', 'cv (4100)_annotated.json', 'cv (1364)_annotated.json', 'cv (574)_annotated.json', 'cv (2343)_annotated.json', 'cv (310)_annotated.json', 'cv (3777)_annotated.json', 'cv (2370)_annotated.json', 'cv (3465)_annotated.json', 'cv (1478)_annotated.json', 'cv (3652)_annotated.json', 'cv (2385)_annotated.json', 'cv (2657)_annotated.json', 'cv (4474)_annotated.json', 'cv (3885)_annotated.json', 'cv (3294)_annotated.json', 'cv (539)_annotated.json', 'cv (4583)_annotated.json', 'cv (845)_annotated.json', 'cv (1172)_annotated.json', 'cv (4747)_annotated.json', 'cv (1380)_annotated.json', 'cv (3808)_annotated.json', 'cv (3450)_annotated.json', 'cv (2773)_annotated.json', 'cv (599)_annotated.json', 'cv (455)_annotated.json', 'cv (2441)_annotated.json', 'cv (3952)_annotated.json', 'cv (257)_annotated.json', 'cv (3217)_annotated.json', 'cv (4481)_annotated.json', 'cv (2964)_annotated.json', 'cv (3829)_annotated.json', 'cv (4307)_annotated.json', 'cv (4177)_annotated.json', 'cv (1303)_annotated.json', 'cv (3408)_annotated.json', 'cv (4181)_annotated.json', 'cv (3258)_annotated.json', 'cv (2048)_annotated.json', 'cv (3330)_annotated.json', 'cv (2262)_annotated.json', 'cv (2775)_annotated.json', 'cv (3933)_annotated.json', 'cv (546)_annotated.json', 'cv (987)_annotated.json', 'cv (4275)_annotated.json', 'cv (1124)_annotated.json', 'cv (4844)_annotated.json', 'cv (662)_annotated.json', 'cv (877)_annotated.json', 'cv (4178)_annotated.json', 'cv (2092)_annotated.json', 'cv (2918)_annotated.json', 'cv (194)_annotated.json', 'cv (2989)_annotated.json', 'cv (2138)_annotated.json', 'cv (2739)_annotated.json', 'cv (1623)_annotated.json', 'cv (1752)_annotated.json', 'cv (816)_annotated.json', 'cv (565)_annotated.json', 'cv (4730)_annotated.json', 'cv (3453)_annotated.json', 'cv (3061)_annotated.json', 'cv (408)_annotated.json', 'cv (202)_annotated.json', 'cv (3207)_annotated.json', 'cv (613)_annotated.json', 'cv (1813)_annotated.json', 'cv (2526)_annotated.json', 'cv (625)_annotated.json', 'cv (4102)_annotated.json', 'cv (4420)_annotated.json', 'cv (3573)_annotated.json', 'cv (3171)_annotated.json', 'cv (1679)_annotated.json', 'cv (1778)_annotated.json', 'cv (3782)_annotated.json', 'cv (3257)_annotated.json', 'cv (645)_annotated.json', 'cv (3892)_annotated.json', 'cv (3324)_annotated.json', 'cv (4858)_annotated.json', 'cv (2375)_annotated.json', 'cv (4620)_annotated.json', 'cv (3986)_annotated.json', 'cv (2485)_annotated.json', 'cv (197)_annotated.json', 'cv (537)_annotated.json', 'cv (1659)_annotated.json', 'cv (3703)_annotated.json', 'cv (4509)_annotated.json', 'cv (3419)_annotated.json', 'cv (946)_annotated.json', 'cv (3495)_annotated.json', 'cv (650)_annotated.json', 'cv (4376)_annotated.json', 'cv (472)_annotated.json', 'cv (4005)_annotated.json', 'cv (191)_annotated.json', 'cv (4944)_annotated.json', 'cv (1020)_annotated.json', 'cv (2563)_annotated.json', 'cv (3183)_annotated.json', 'cv (2323)_annotated.json', 'cv (3696)_annotated.json', 'cv (4959)_annotated.json', 'cv (726)_annotated.json', 'cv (636)_annotated.json', 'cv (5017)_annotated.json', 'cv (2899)_annotated.json', 'cv (2666)_annotated.json', 'cv (5020)_annotated.json', 'cv (1370)_annotated.json', 'cv (2218)_annotated.json', 'cv (241)_annotated.json', 'cv (2071)_annotated.json', 'cv (2139)_annotated.json', 'cv (4031)_annotated.json', 'cv (2267)_annotated.json', 'cv (2987)_annotated.json', 'cv (4641)_annotated.json', 'cv (2424)_annotated.json', 'cv (1424)_annotated.json', 'cv (3740)_annotated.json', 'cv (1534)_annotated.json', 'cv (1898)_annotated.json', 'cv (2199)_annotated.json', 'cv (4680)_annotated.json', 'cv (3237)_annotated.json', 'cv (4815)_annotated.json', 'cv (176)_annotated.json', 'cv (392)_annotated.json', 'cv (2290)_annotated.json', 'cv (579)_annotated.json', 'cv (362)_annotated.json', 'cv (2249)_annotated.json', 'cv (826)_annotated.json', 'cv (1471)_annotated.json', 'cv (4594)_annotated.json', 'cv (694)_annotated.json', 'cv (4135)_annotated.json', 'cv (3670)_annotated.json', 'cv (4485)_annotated.json', 'cv (2072)_annotated.json', 'cv (2627)_annotated.json', 'cv (2904)_annotated.json', 'cv (4057)_annotated.json', 'cv (4336)_annotated.json', 'cv (2238)_annotated.json', 'cv (3196)_annotated.json', 'cv (4007)_annotated.json', 'cv (379)_annotated.json', 'cv (154)_annotated.json', 'cv (5011)_annotated.json', 'cv (4324)_annotated.json', 'cv (1204)_annotated.json', 'cv (3715)_annotated.json', 'cv (4270)_annotated.json', 'cv (3075)_annotated.json', 'cv (3140)_annotated.json', 'cv (261)_annotated.json', 'cv (173)_annotated.json', 'cv (1425)_annotated.json', 'cv (3611)_annotated.json', 'cv (2515)_annotated.json', 'cv (2954)_annotated.json', 'cv (3319)_annotated.json', 'cv (1913)_annotated.json', 'cv (1770)_annotated.json', 'cv (2422)_annotated.json', 'cv (2154)_annotated.json', 'cv (2026)_annotated.json', 'cv (177)_annotated.json', 'cv (1987)_annotated.json', 'cv (407)_annotated.json', 'cv (3760)_annotated.json', 'cv (659)_annotated.json', 'cv (1786)_annotated.json', 'cv (4285)_annotated.json', 'cv (4192)_annotated.json', 'cv (1405)_annotated.json', 'cv (2761)_annotated.json', 'cv (1906)_annotated.json', 'cv (3478)_annotated.json', 'cv (1789)_annotated.json', 'cv (3890)_annotated.json', 'cv (2613)_annotated.json', 'cv (3637)_annotated.json', 'cv (2243)_annotated.json', 'cv (3069)_annotated.json', 'cv (4813)_annotated.json', 'cv (3176)_annotated.json', 'cv (1592)_annotated.json', 'cv (2668)_annotated.json', 'cv (3481)_annotated.json', 'cv (2371)_annotated.json', 'cv (1159)_annotated.json', 'cv (4290)_annotated.json', 'cv (1643)_annotated.json', 'cv (2512)_annotated.json', 'cv (2173)_annotated.json', 'cv (3642)_annotated.json', 'cv (640)_annotated.json', 'cv (2182)_annotated.json', 'cv (2320)_annotated.json', 'cv (2061)_annotated.json', 'cv (1156)_annotated.json', 'cv (4329)_annotated.json', 'cv (4870)_annotated.json', 'cv (4707)_annotated.json', 'cv (4371)_annotated.json', 'cv (1029)_annotated.json', 'cv (2606)_annotated.json', 'cv (411)_annotated.json', 'cv (4194)_annotated.json', 'cv (1195)_annotated.json', 'cv (2017)_annotated.json', 'cv (3731)_annotated.json', 'cv (1436)_annotated.json', 'cv (909)_annotated.json', 'cv (4818)_annotated.json', 'cv (1069)_annotated.json', 'cv (3058)_annotated.json', 'cv (1279)_annotated.json', 'cv (3625)_annotated.json', 'cv (4619)_annotated.json', 'cv (4932)_annotated.json', 'cv (3973)_annotated.json', 'cv (4688)_annotated.json', 'cv (1355)_annotated.json', 'cv (1977)_annotated.json', 'cv (2331)_annotated.json', 'cv (1060)_annotated.json', 'cv (3837)_annotated.json', 'cv (4378)_annotated.json', 'cv (1347)_annotated.json', 'cv (700)_annotated.json', 'cv (809)_annotated.json', 'cv (708)_annotated.json', 'cv (3648)_annotated.json', 'cv (3874)_annotated.json', 'cv (1636)_annotated.json', 'cv (200)_annotated.json', 'cv (551)_annotated.json', 'cv (3671)_annotated.json', 'cv (1475)_annotated.json', 'cv (2208)_annotated.json', 'cv (2126)_annotated.json', 'cv (2179)_annotated.json', 'cv (106)_annotated.json', 'cv (1378)_annotated.json', 'cv (3683)_annotated.json', 'cv (1426)_annotated.json', 'cv (1312)_annotated.json', 'cv (2097)_annotated.json', 'cv (2103)_annotated.json', 'cv (487)_annotated.json', 'cv (4412)_annotated.json', 'cv (1962)_annotated.json', 'cv (2227)_annotated.json', 'cv (3204)_annotated.json', 'cv (1776)_annotated.json', 'cv (4119)_annotated.json', 'cv (3888)_annotated.json', 'cv (2662)_annotated.json', 'cv (278)_annotated.json', 'cv (247)_annotated.json', 'cv (3098)_annotated.json', 'cv (2619)_annotated.json', 'cv (4190)_annotated.json', 'cv (1748)_annotated.json', 'cv (4728)_annotated.json', 'cv (707)_annotated.json', 'cv (1085)_annotated.json', 'cv (875)_annotated.json', 'cv (2348)_annotated.json', 'cv (1151)_annotated.json', 'cv (880)_annotated.json', 'cv (3564)_annotated.json', 'cv (3179)_annotated.json', 'cv (11)_annotated.json', 'cv (1413)_annotated.json', 'cv (2567)_annotated.json', 'cv (3253)_annotated.json', 'cv (3562)_annotated.json', 'cv (3156)_annotated.json', 'cv (4990)_annotated.json', 'cv (3972)_annotated.json', 'cv (4581)_annotated.json', 'cv (1521)_annotated.json', 'cv (3259)_annotated.json', 'cv (2523)_annotated.json', 'cv (1489)_annotated.json', 'cv (1352)_annotated.json', 'cv (3018)_annotated.json', 'cv (3899)_annotated.json', 'cv (4446)_annotated.json', 'cv (1319)_annotated.json', 'cv (1420)_annotated.json', 'cv (1625)_annotated.json', 'cv (4029)_annotated.json', 'cv (4572)_annotated.json', 'cv (4497)_annotated.json', 'cv (889)_annotated.json', 'cv (2413)_annotated.json', 'cv (981)_annotated.json', 'cv (3466)_annotated.json', 'cv (1007)_annotated.json', 'cv (1210)_annotated.json', 'cv (2975)_annotated.json', 'cv (4820)_annotated.json', 'cv (2087)_annotated.json', 'cv (1594)_annotated.json', 'cv (2359)_annotated.json', 'cv (3636)_annotated.json', 'cv (3851)_annotated.json', 'cv (2101)_annotated.json', 'cv (1331)_annotated.json', 'cv (4867)_annotated.json', 'cv (1942)_annotated.json', 'cv (4385)_annotated.json', 'cv (783)_annotated.json', 'cv (2636)_annotated.json', 'cv (4906)_annotated.json', 'cv (1438)_annotated.json', 'cv (4916)_annotated.json', 'cv (4311)_annotated.json', 'cv (1226)_annotated.json', 'cv (3231)_annotated.json', 'cv (149)_annotated.json', 'cv (4381)_annotated.json', 'cv (4431)_annotated.json', 'cv (4395)_annotated.json', 'cv (3953)_annotated.json', 'cv (3969)_annotated.json', 'cv (2602)_annotated.json', 'cv (1877)_annotated.json', 'cv (2582)_annotated.json', 'cv (3834)_annotated.json', 'cv (3527)_annotated.json', 'cv (3273)_annotated.json', 'cv (881)_annotated.json', 'cv (1954)_annotated.json', 'cv (2782)_annotated.json', 'cv (3586)_annotated.json', 'cv (1455)_annotated.json', 'cv (1245)_annotated.json', 'cv (868)_annotated.json', 'cv (4044)_annotated.json', 'cv (2856)_annotated.json', 'cv (4659)_annotated.json', 'cv (927)_annotated.json', 'cv (3251)_annotated.json', 'cv (4513)_annotated.json', 'cv (2836)_annotated.json', 'cv (1281)_annotated.json', 'cv (2450)_annotated.json', 'cv (1833)_annotated.json', 'cv (1340)_annotated.json', 'cv (1023)_annotated.json', 'cv (4632)_annotated.json', 'cv (4773)_annotated.json', 'cv (2654)_annotated.json', 'cv (3987)_annotated.json', 'cv (4569)_annotated.json', 'cv (2292)_annotated.json', 'cv (617)_annotated.json', 'cv (159)_annotated.json', 'cv (212)_annotated.json', 'cv (1167)_annotated.json', 'cv (3750)_annotated.json', 'cv (4288)_annotated.json', 'cv (3865)_annotated.json', 'cv (847)_annotated.json', 'cv (639)_annotated.json', 'cv (4859)_annotated.json', 'cv (3276)_annotated.json', 'cv (2051)_annotated.json', 'cv (4312)_annotated.json', 'cv (751)_annotated.json', 'cv (2625)_annotated.json', 'cv (1225)_annotated.json', 'cv (547)_annotated.json', 'cv (1346)_annotated.json', 'cv (3684)_annotated.json', 'cv (1252)_annotated.json', 'cv (4259)_annotated.json', 'cv (3192)_annotated.json', 'cv (1646)_annotated.json', 'cv (4054)_annotated.json', 'cv (718)_annotated.json', 'cv (4673)_annotated.json', 'cv (2108)_annotated.json', 'cv (864)_annotated.json', 'cv (1027)_annotated.json', 'cv (76)_annotated.json', 'cv (2722)_annotated.json', 'cv (2992)_annotated.json', 'cv (3827)_annotated.json', 'cv (908)_annotated.json', 'cv (4013)_annotated.json', 'cv (874)_annotated.json', 'cv (349)_annotated.json', 'cv (4810)_annotated.json', 'cv (1031)_annotated.json', 'cv (4512)_annotated.json', 'cv (929)_annotated.json', 'cv (2598)_annotated.json', 'cv (3839)_annotated.json', 'cv (3091)_annotated.json', 'cv (4936)_annotated.json', 'cv (758)_annotated.json', 'cv (3382)_annotated.json', 'cv (4967)_annotated.json', 'cv (671)_annotated.json', 'cv (4222)_annotated.json', 'cv (4196)_annotated.json', 'cv (3443)_annotated.json', 'cv (1705)_annotated.json', 'cv (3184)_annotated.json', 'cv (4456)_annotated.json', 'cv (3349)_annotated.json', 'cv (1016)_annotated.json', 'cv (3799)_annotated.json', 'cv (1325)_annotated.json', 'cv (3708)_annotated.json', 'cv (3857)_annotated.json', 'cv (839)_annotated.json', 'cv (1690)_annotated.json', 'cv (1549)_annotated.json', 'cv (2147)_annotated.json', 'cv (1888)_annotated.json', 'cv (4169)_annotated.json', 'cv (2191)_annotated.json', 'cv (2027)_annotated.json', 'cv (2693)_annotated.json', 'cv (3006)_annotated.json', 'cv (828)_annotated.json', 'cv (1192)_annotated.json', 'cv (332)_annotated.json', 'cv (2187)_annotated.json', 'cv (4854)_annotated.json', 'cv (3621)_annotated.json', 'cv (3575)_annotated.json', 'cv (3927)_annotated.json', 'cv (2283)_annotated.json', 'cv (3582)_annotated.json', 'cv (3976)_annotated.json', 'cv (4388)_annotated.json', 'cv (3780)_annotated.json', 'cv (3531)_annotated.json', 'cv (2309)_annotated.json', 'cv (1555)_annotated.json', 'cv (343)_annotated.json', 'cv (3574)_annotated.json', 'cv (2271)_annotated.json', 'cv (2289)_annotated.json', 'cv (3454)_annotated.json', 'cv (2502)_annotated.json', 'cv (2425)_annotated.json', 'cv (3563)_annotated.json', 'cv (4086)_annotated.json', 'cv (2873)_annotated.json', 'cv (779)_annotated.json', 'cv (1681)_annotated.json', 'cv (761)_annotated.json', 'cv (1806)_annotated.json', 'cv (2383)_annotated.json', 'cv (4663)_annotated.json', 'cv (1740)_annotated.json', 'cv (4449)_annotated.json', 'cv (4904)_annotated.json', 'cv (2591)_annotated.json', 'cv (23)_annotated.json', 'cv (2921)_annotated.json', 'cv (2240)_annotated.json', 'cv (1064)_annotated.json', 'cv (1720)_annotated.json', 'cv (1115)_annotated.json', 'cv (2792)_annotated.json', 'cv (2959)_annotated.json', 'cv (95)_annotated.json', 'cv (1524)_annotated.json', 'cv (108)_annotated.json', 'cv (2069)_annotated.json', 'cv (2129)_annotated.json', 'cv (4545)_annotated.json', 'cv (4682)_annotated.json', 'cv (1583)_annotated.json', 'cv (3361)_annotated.json', 'cv (1270)_annotated.json', 'cv (3043)_annotated.json', 'cv (3649)_annotated.json', 'cv (4991)_annotated.json', 'cv (2855)_annotated.json', 'cv (2474)_annotated.json', 'cv (4184)_annotated.json', 'cv (607)_annotated.json', 'cv (2476)_annotated.json', 'cv (2009)_annotated.json', 'cv (2799)_annotated.json', 'cv (3390)_annotated.json', 'cv (4150)_annotated.json', 'cv (1400)_annotated.json', 'cv (102)_annotated.json', 'cv (2471)_annotated.json', 'cv (3011)_annotated.json', 'cv (3838)_annotated.json', 'cv (2453)_annotated.json', 'cv (628)_annotated.json', 'cv (3537)_annotated.json', 'cv (780)_annotated.json', 'cv (221)_annotated.json', 'cv (2520)_annotated.json', 'cv (4317)_annotated.json', 'cv (3610)_annotated.json', 'cv (3607)_annotated.json', 'cv (1421)_annotated.json', 'cv (1001)_annotated.json', 'cv (1788)_annotated.json', 'cv (4163)_annotated.json', 'cv (1125)_annotated.json', 'cv (2213)_annotated.json', 'cv (1296)_annotated.json', 'cv (2596)_annotated.json', 'cv (1235)_annotated.json', 'cv (3280)_annotated.json', 'cv (977)_annotated.json', 'cv (48)_annotated.json', 'cv (2102)_annotated.json', 'cv (3306)_annotated.json', 'cv (3240)_annotated.json', 'cv (1581)_annotated.json', 'cv (2681)_annotated.json', 'cv (4)_annotated.json', 'cv (1199)_annotated.json', 'cv (4634)_annotated.json', 'cv (975)_annotated.json', 'cv (685)_annotated.json', 'cv (2202)_annotated.json', 'cv (2246)_annotated.json', 'cv (2003)_annotated.json', 'cv (4948)_annotated.json', 'cv (4537)_annotated.json', 'cv (936)_annotated.json', 'cv (3050)_annotated.json', 'cv (4389)_annotated.json', 'cv (4183)_annotated.json', 'cv (2743)_annotated.json', 'cv (942)_annotated.json', 'cv (2879)_annotated.json', 'cv (1437)_annotated.json', 'cv (1134)_annotated.json', 'cv (1730)_annotated.json', 'cv (467)_annotated.json', 'cv (677)_annotated.json', 'cv (2534)_annotated.json', 'cv (141)_annotated.json', 'cv (3017)_annotated.json', 'cv (1593)_annotated.json', 'cv (853)_annotated.json', 'cv (1221)_annotated.json', 'cv (1161)_annotated.json', 'cv (3039)_annotated.json', 'cv (201)_annotated.json', 'cv (3543)_annotated.json', 'cv (4322)_annotated.json', 'cv (3687)_annotated.json', 'cv (3689)_annotated.json', 'cv (1079)_annotated.json', 'cv (670)_annotated.json', 'cv (1213)_annotated.json', 'cv (1949)_annotated.json', 'cv (3604)_annotated.json', 'cv (1166)_annotated.json', 'cv (3000)_annotated.json', 'cv (3744)_annotated.json', 'cv (3774)_annotated.json', 'cv (1461)_annotated.json', 'cv (1556)_annotated.json', 'cv (4667)_annotated.json', 'cv (1025)_annotated.json', 'cv (4387)_annotated.json', 'cv (3873)_annotated.json', 'cv (4696)_annotated.json', 'cv (3811)_annotated.json', 'cv (1616)_annotated.json', 'cv (3086)_annotated.json', 'cv (2993)_annotated.json', 'cv (238)_annotated.json', 'cv (2766)_annotated.json', 'cv (4862)_annotated.json', 'cv (4804)_annotated.json', 'cv (2281)_annotated.json', 'cv (3403)_annotated.json', 'cv (1366)_annotated.json', 'cv (974)_annotated.json', 'cv (3300)_annotated.json', 'cv (1915)_annotated.json', 'cv (4606)_annotated.json', 'cv (4692)_annotated.json', 'cv (4526)_annotated.json', 'cv (1632)_annotated.json', 'cv (3914)_annotated.json', 'cv (2736)_annotated.json', 'cv (3090)_annotated.json', 'cv (4076)_annotated.json', 'cv (2365)_annotated.json', 'cv (502)_annotated.json', 'cv (4760)_annotated.json', 'cv (1578)_annotated.json', 'cv (2517)_annotated.json', 'cv (3526)_annotated.json', 'cv (930)_annotated.json', 'cv (1332)_annotated.json', 'cv (4445)_annotated.json', 'cv (1410)_annotated.json', 'cv (4427)_annotated.json', 'cv (2740)_annotated.json', 'cv (3030)_annotated.json', 'cv (1817)_annotated.json', 'cv (1746)_annotated.json', 'cv (4999)_annotated.json', 'cv (450)_annotated.json', 'cv (498)_annotated.json', 'cv (4021)_annotated.json', 'cv (1773)_annotated.json', 'cv (2718)_annotated.json', 'cv (2036)_annotated.json', 'cv (807)_annotated.json', 'cv (2697)_annotated.json', 'cv (3796)_annotated.json', 'cv (252)_annotated.json', 'cv (1463)_annotated.json', 'cv (2837)_annotated.json', 'cv (418)_annotated.json', 'cv (563)_annotated.json', 'cv (2649)_annotated.json', 'cv (823)_annotated.json', 'cv (557)_annotated.json', 'cv (2863)_annotated.json', 'cv (2330)_annotated.json', 'cv (2769)_annotated.json', 'cv (2647)_annotated.json', 'cv (1945)_annotated.json', 'cv (657)_annotated.json', 'cv (3539)_annotated.json', 'cv (3583)_annotated.json', 'cv (3490)_annotated.json', 'cv (1784)_annotated.json', 'cv (3339)_annotated.json', 'cv (4124)_annotated.json', 'cv (2510)_annotated.json', 'cv (749)_annotated.json', 'cv (3110)_annotated.json', 'cv (2287)_annotated.json', 'cv (4444)_annotated.json', 'cv (4346)_annotated.json', 'cv (2318)_annotated.json', 'cv (3003)_annotated.json', 'cv (3172)_annotated.json', 'cv (1306)_annotated.json', 'cv (2455)_annotated.json', 'cv (2369)_annotated.json', 'cv (4409)_annotated.json', 'cv (2813)_annotated.json', 'cv (528)_annotated.json', 'cv (1824)_annotated.json', 'cv (127)_annotated.json', 'cv (1107)_annotated.json', 'cv (1249)_annotated.json', 'cv (4561)_annotated.json', 'cv (1075)_annotated.json', 'cv (2184)_annotated.json', 'cv (4774)_annotated.json', 'cv (4160)_annotated.json', 'cv (1072)_annotated.json', 'cv (2826)_annotated.json', 'cv (781)_annotated.json', 'cv (2707)_annotated.json', 'cv (2665)_annotated.json', 'cv (2068)_annotated.json', 'cv (2943)_annotated.json', 'cv (4848)_annotated.json', 'cv (2974)_annotated.json', 'cv (4209)_annotated.json', 'cv (4568)_annotated.json', 'cv (2442)_annotated.json', 'cv (2201)_annotated.json', 'cv (2833)_annotated.json', 'cv (3312)_annotated.json', 'cv (2063)_annotated.json', 'cv (4718)_annotated.json', 'cv (4162)_annotated.json', 'cv (750)_annotated.json', 'cv (2419)_annotated.json', 'cv (4623)_annotated.json', 'cv (5022)_annotated.json', 'cv (6)_annotated.json', 'cv (2676)_annotated.json', 'cv (1738)_annotated.json', 'cv (2189)_annotated.json', 'cv (3229)_annotated.json', 'cv (516)_annotated.json', 'cv (2242)_annotated.json', 'cv (2747)_annotated.json', 'cv (3266)_annotated.json', 'cv (660)_annotated.json', 'cv (3041)_annotated.json', 'cv (587)_annotated.json', 'cv (2637)_annotated.json', 'cv (1077)_annotated.json', 'cv (792)_annotated.json', 'cv (2185)_annotated.json', 'cv (3227)_annotated.json', 'cv (2559)_annotated.json', 'cv (2165)_annotated.json', 'cv (497)_annotated.json', 'cv (2315)_annotated.json', 'cv (1674)_annotated.json', 'cv (4503)_annotated.json', 'cv (2874)_annotated.json', 'cv (2542)_annotated.json', 'cv (2614)_annotated.json', 'cv (791)_annotated.json', 'cv (960)_annotated.json', 'cv (3117)_annotated.json', 'cv (1542)_annotated.json', 'cv (3137)_annotated.json', 'cv (368)_annotated.json', 'cv (1845)_annotated.json', 'cv (3452)_annotated.json', 'cv (2506)_annotated.json', 'cv (2898)_annotated.json', 'cv (3979)_annotated.json', 'cv (1033)_annotated.json', 'cv (444)_annotated.json', 'cv (1454)_annotated.json', 'cv (2750)_annotated.json', 'cv (1179)_annotated.json', 'cv (4694)_annotated.json', 'cv (3274)_annotated.json', 'cv (3194)_annotated.json', 'cv (2778)_annotated.json', 'cv (711)_annotated.json', 'cv (3476)_annotated.json', 'cv (4972)_annotated.json', 'cv (1212)_annotated.json', 'cv (4987)_annotated.json', 'cv (4830)_annotated.json', 'cv (859)_annotated.json', 'cv (1530)_annotated.json', 'cv (1299)_annotated.json', 'cv (86)_annotated.json', 'cv (2759)_annotated.json', 'cv (3861)_annotated.json', 'cv (1568)_annotated.json', 'cv (3560)_annotated.json', 'cv (3449)_annotated.json', 'cv (994)_annotated.json', 'cv (4061)_annotated.json', 'cv (397)_annotated.json', 'cv (3546)_annotated.json', 'cv (3794)_annotated.json', 'cv (4493)_annotated.json', 'cv (2394)_annotated.json', 'cv (2178)_annotated.json', 'cv (3645)_annotated.json', 'cv (2985)_annotated.json', 'cv (3391)_annotated.json', 'cv (3167)_annotated.json', 'cv (2626)_annotated.json', 'cv (4176)_annotated.json', 'cv (1782)_annotated.json', 'cv (4762)_annotated.json', 'cv (1663)_annotated.json', 'cv (378)_annotated.json', 'cv (1342)_annotated.json', 'cv (5025)_annotated.json', 'cv (2387)_annotated.json', 'cv (3278)_annotated.json', 'cv (541)_annotated.json', 'cv (3044)_annotated.json', 'cv (1851)_annotated.json', 'cv (4363)_annotated.json', 'cv (1757)_annotated.json', 'cv (3026)_annotated.json', 'cv (1701)_annotated.json', 'cv (2622)_annotated.json', 'cv (3712)_annotated.json', 'cv (3634)_annotated.json', 'cv (1439)_annotated.json', 'cv (4206)_annotated.json', 'cv (3293)_annotated.json', 'cv (3439)_annotated.json', 'cv (4735)_annotated.json', 'cv (3733)_annotated.json', 'cv (2423)_annotated.json', 'cv (292)_annotated.json', 'cv (1092)_annotated.json', 'cv (3254)_annotated.json', 'cv (4855)_annotated.json', 'cv (4703)_annotated.json', 'cv (578)_annotated.json', 'cv (3691)_annotated.json', 'cv (1198)_annotated.json', 'cv (2019)_annotated.json', 'cv (1953)_annotated.json', 'cv (1897)_annotated.json', 'cv (512)_annotated.json', 'cv (4461)_annotated.json', 'cv (188)_annotated.json', 'cv (2225)_annotated.json', 'cv (2711)_annotated.json', 'cv (4966)_annotated.json', 'cv (4725)_annotated.json', 'cv (2364)_annotated.json', 'cv (266)_annotated.json', 'cv (440)_annotated.json', 'cv (4507)_annotated.json', 'cv (2990)_annotated.json', 'cv (1316)_annotated.json', 'cv (4856)_annotated.json', 'cv (2096)_annotated.json', 'cv (334)_annotated.json', 'cv (3242)_annotated.json', 'cv (4060)_annotated.json', 'cv (2944)_annotated.json', 'cv (77)_annotated.json', 'cv (1533)_annotated.json', 'cv (3036)_annotated.json', 'cv (3056)_annotated.json', 'cv (918)_annotated.json', 'cv (3180)_annotated.json', 'cv (3775)_annotated.json', 'cv (1093)_annotated.json', 'cv (1255)_annotated.json', 'cv (3467)_annotated.json', 'cv (1537)_annotated.json', 'cv (1785)_annotated.json', 'cv (4996)_annotated.json', 'cv (3338)_annotated.json', 'cv (4787)_annotated.json', 'cv (3475)_annotated.json', 'cv (1602)_annotated.json', 'cv (1050)_annotated.json', 'cv (796)_annotated.json', 'cv (4114)_annotated.json', 'cv (391)_annotated.json', 'cv (1941)_annotated.json', 'cv (2933)_annotated.json', 'cv (3594)_annotated.json', 'cv (4831)_annotated.json', 'cv (3719)_annotated.json', 'cv (4769)_annotated.json', 'cv (3513)_annotated.json', 'cv (3819)_annotated.json', 'cv (1517)_annotated.json', 'cv (2561)_annotated.json', 'cv (3882)_annotated.json', 'cv (567)_annotated.json', 'cv (1493)_annotated.json', 'cv (3406)_annotated.json', 'cv (814)_annotated.json', 'cv (1640)_annotated.json', 'cv (4117)_annotated.json', 'cv (564)_annotated.json', 'cv (4157)_annotated.json', 'cv (1645)_annotated.json', 'cv (1665)_annotated.json', 'cv (3814)_annotated.json', 'cv (1737)_annotated.json', 'cv (4155)_annotated.json', 'cv (3332)_annotated.json', 'cv (4849)_annotated.json', 'cv (2765)_annotated.json', 'cv (895)_annotated.json', 'cv (2162)_annotated.json', 'cv (2308)_annotated.json', 'cv (3565)_annotated.json', 'cv (5024)_annotated.json', 'cv (4660)_annotated.json', 'cv (3089)_annotated.json', 'cv (3474)_annotated.json', 'cv (4595)_annotated.json', 'cv (2427)_annotated.json', 'cv (4260)_annotated.json', 'cv (30)_annotated.json', 'cv (3571)_annotated.json', 'cv (1966)_annotated.json', 'cv (1163)_annotated.json', 'cv (4457)_annotated.json', 'cv (97)_annotated.json', 'cv (2313)_annotated.json', 'cv (1527)_annotated.json', 'cv (117)_annotated.json', 'cv (3128)_annotated.json', 'cv (3640)_annotated.json', 'cv (2496)_annotated.json', 'cv (107)_annotated.json', 'cv (3764)_annotated.json', 'cv (3477)_annotated.json', 'cv (4441)_annotated.json', 'cv (4158)_annotated.json', 'cv (3070)_annotated.json', 'cv (3073)_annotated.json', 'cv (3326)_annotated.json', 'cv (763)_annotated.json', 'cv (203)_annotated.json', 'cv (952)_annotated.json', 'cv (4738)_annotated.json', 'cv (5034)_annotated.json', 'cv (2843)_annotated.json', 'cv (3916)_annotated.json', 'cv (4347)_annotated.json', 'cv (736)_annotated.json', 'cv (544)_annotated.json', 'cv (148)_annotated.json', 'cv (2459)_annotated.json', 'cv (4837)_annotated.json', 'cv (3940)_annotated.json', 'cv (2742)_annotated.json', 'cv (993)_annotated.json', 'cv (1010)_annotated.json', 'cv (3494)_annotated.json', 'cv (3491)_annotated.json', 'cv (4016)_annotated.json', 'cv (1838)_annotated.json', 'cv (3250)_annotated.json', 'cv (2889)_annotated.json', 'cv (1899)_annotated.json', 'cv (4717)_annotated.json', 'cv (888)_annotated.json', 'cv (1104)_annotated.json', 'cv (4664)_annotated.json', 'cv (887)_annotated.json', 'cv (2669)_annotated.json', 'cv (4417)_annotated.json', 'cv (1467)_annotated.json', 'cv (886)_annotated.json', 'cv (4777)_annotated.json', 'cv (74)_annotated.json', 'cv (1893)_annotated.json', 'cv (1153)_annotated.json', 'cv (3488)_annotated.json', 'cv (906)_annotated.json', 'cv (1926)_annotated.json', 'cv (633)_annotated.json', 'cv (2398)_annotated.json', 'cv (351)_annotated.json', 'cv (37)_annotated.json', 'cv (3709)_annotated.json', 'cv (3852)_annotated.json', 'cv (374)_annotated.json', 'cv (4357)_annotated.json', 'cv (4122)_annotated.json', 'cv (2940)_annotated.json', 'cv (690)_annotated.json', 'cv (4227)_annotated.json', 'cv (3047)_annotated.json', 'cv (719)_annotated.json', 'cv (2339)_annotated.json', 'cv (2850)_annotated.json', 'cv (624)_annotated.json', 'cv (2273)_annotated.json', 'cv (120)_annotated.json', 'cv (3132)_annotated.json', 'cv (3055)_annotated.json', 'cv (3232)_annotated.json', 'cv (762)_annotated.json', 'cv (4629)_annotated.json', 'cv (1905)_annotated.json', 'cv (3789)_annotated.json', 'cv (1415)_annotated.json', 'cv (2132)_annotated.json', 'cv (1109)_annotated.json', 'cv (367)_annotated.json', 'cv (3686)_annotated.json', 'cv (3620)_annotated.json', 'cv (190)_annotated.json', 'cv (2999)_annotated.json', 'cv (2670)_annotated.json', 'cv (1985)_annotated.json', 'cv (4842)_annotated.json', 'cv (768)_annotated.json', 'cv (3076)_annotated.json', 'cv (1042)_annotated.json', 'cv (3785)_annotated.json', 'cv (2234)_annotated.json', 'cv (1476)_annotated.json', 'cv (2414)_annotated.json', 'cv (1760)_annotated.json', 'cv (2958)_annotated.json', 'cv (1706)_annotated.json', 'cv (4675)_annotated.json', 'cv (196)_annotated.json', 'cv (4207)_annotated.json', 'cv (3028)_annotated.json', 'cv (4781)_annotated.json', 'cv (283)_annotated.json', 'cv (1394)_annotated.json', 'cv (2008)_annotated.json', 'cv (2751)_annotated.json', 'cv (2247)_annotated.json', 'cv (3990)_annotated.json', 'cv (1118)_annotated.json', 'cv (157)_annotated.json', 'cv (3088)_annotated.json', 'cv (1310)_annotated.json', 'cv (2035)_annotated.json', 'cv (2197)_annotated.json', 'cv (4228)_annotated.json', 'cv (554)_annotated.json', 'cv (4683)_annotated.json', 'cv (4923)_annotated.json', 'cv (1372)_annotated.json', 'cv (1735)_annotated.json', 'cv (62)_annotated.json', 'cv (3309)_annotated.json', 'cv (3919)_annotated.json', 'cv (1887)_annotated.json', 'cv (5015)_annotated.json', 'cv (3950)_annotated.json', 'cv (4977)_annotated.json', 'cv (4174)_annotated.json', 'cv (1657)_annotated.json', 'cv (3842)_annotated.json', 'cv (4283)_annotated.json', 'cv (4792)_annotated.json', 'cv (860)_annotated.json', 'cv (312)_annotated.json', 'cv (4852)_annotated.json', 'cv (2222)_annotated.json', 'cv (2895)_annotated.json', 'cv (2341)_annotated.json', 'cv (3203)_annotated.json', 'cv (1825)_annotated.json', 'cv (1349)_annotated.json', 'cv (2507)_annotated.json', 'cv (1344)_annotated.json', 'cv (626)_annotated.json', 'cv (1995)_annotated.json', 'cv (4143)_annotated.json', 'cv (2261)_annotated.json', 'cv (4492)_annotated.json', 'cv (4901)_annotated.json', 'cv (2252)_annotated.json', 'cv (4476)_annotated.json', 'cv (1675)_annotated.json', 'cv (420)_annotated.json', 'cv (4140)_annotated.json', 'cv (1283)_annotated.json', 'cv (4819)_annotated.json', 'cv (3660)_annotated.json', 'cv (1056)_annotated.json', 'cv (4370)_annotated.json', 'cv (4881)_annotated.json', 'cv (3936)_annotated.json', 'cv (2448)_annotated.json', 'cv (225)_annotated.json', 'cv (3238)_annotated.json', 'cv (205)_annotated.json', 'cv (1867)_annotated.json', 'cv (1150)_annotated.json', 'cv (1924)_annotated.json', 'cv (737)_annotated.json', 'cv (4929)_annotated.json', 'cv (2851)_annotated.json', 'cv (216)_annotated.json', 'cv (2605)_annotated.json', 'cv (712)_annotated.json', 'cv (2464)_annotated.json', 'cv (1858)_annotated.json', 'cv (124)_annotated.json', 'cv (3484)_annotated.json', 'cv (4261)_annotated.json', 'cv (4902)_annotated.json', 'cv (3079)_annotated.json', 'cv (978)_annotated.json', 'cv (4399)_annotated.json', 'cv (4560)_annotated.json', 'cv (1676)_annotated.json', 'cv (1322)_annotated.json', 'cv (1473)_annotated.json', 'cv (12)_annotated.json', 'cv (2438)_annotated.json', 'cv (3525)_annotated.json', 'cv (799)_annotated.json', 'cv (364)_annotated.json', 'cv (4407)_annotated.json', 'cv (3035)_annotated.json', 'cv (4356)_annotated.json', 'cv (1273)_annotated.json', 'cv (1391)_annotated.json', 'cv (4330)_annotated.json', 'cv (1727)_annotated.json', 'cv (4171)_annotated.json', 'cv (4242)_annotated.json', 'cv (4239)_annotated.json', 'cv (1601)_annotated.json', 'cv (3545)_annotated.json', 'cv (165)_annotated.json', 'cv (3174)_annotated.json', 'cv (3389)_annotated.json', 'cv (1526)_annotated.json', 'cv (4108)_annotated.json', 'cv (1936)_annotated.json', 'cv (523)_annotated.json', 'cv (4971)_annotated.json', 'cv (883)_annotated.json', 'cv (3103)_annotated.json', 'cv (2848)_annotated.json', 'cv (3492)_annotated.json', 'cv (1123)_annotated.json', 'cv (4024)_annotated.json', 'cv (1339)_annotated.json', 'cv (2052)_annotated.json', 'cv (4549)_annotated.json', 'cv (2708)_annotated.json', 'cv (4255)_annotated.json', 'cv (4268)_annotated.json', 'cv (3458)_annotated.json', 'cv (1648)_annotated.json', 'cv (2865)_annotated.json', 'cv (1529)_annotated.json', 'cv (415)_annotated.json', 'cv (1032)_annotated.json', 'cv (4127)_annotated.json', 'cv (1171)_annotated.json', 'cv (2729)_annotated.json', 'cv (1231)_annotated.json', 'cv (4296)_annotated.json', 'cv (2458)_annotated.json', 'cv (2228)_annotated.json', 'cv (4518)_annotated.json', 'cv (2344)_annotated.json', 'cv (2686)_annotated.json', 'cv (2188)_annotated.json', 'cv (2288)_annotated.json', 'cv (4644)_annotated.json', 'cv (2639)_annotated.json', 'cv (49)_annotated.json', 'cv (2982)_annotated.json', 'cv (1358)_annotated.json', 'cv (2945)_annotated.json', 'cv (2828)_annotated.json', 'cv (446)_annotated.json', 'cv (2536)_annotated.json', 'cv (2831)_annotated.json', 'cv (4732)_annotated.json', 'cv (3134)_annotated.json', 'cv (3954)_annotated.json', 'cv (3977)_annotated.json', 'cv (2044)_annotated.json', 'cv (373)_annotated.json', 'cv (2161)_annotated.json', 'cv (3206)_annotated.json', 'cv (1458)_annotated.json', 'cv (4782)_annotated.json', 'cv (3949)_annotated.json', 'cv (4578)_annotated.json', 'cv (121)_annotated.json', 'cv (1841)_annotated.json', 'cv (118)_annotated.json', 'cv (84)_annotated.json', 'cv (3983)_annotated.json', 'cv (4931)_annotated.json', 'cv (384)_annotated.json', 'cv (1445)_annotated.json', 'cv (4955)_annotated.json', 'cv (2601)_annotated.json', 'cv (3048)_annotated.json', 'cv (454)_annotated.json', 'cv (3666)_annotated.json', 'cv (4096)_annotated.json', 'cv (1246)_annotated.json', 'cv (4257)_annotated.json', 'cv (2207)_annotated.json', 'cv (1083)_annotated.json', 'cv (1501)_annotated.json', 'cv (2415)_annotated.json', 'cv (1190)_annotated.json', 'cv (4741)_annotated.json', 'cv (801)_annotated.json', 'cv (1765)_annotated.json', 'cv (1880)_annotated.json', 'cv (1035)_annotated.json', 'cv (1395)_annotated.json', 'cv (2404)_annotated.json', 'cv (313)_annotated.json', 'cv (2903)_annotated.json', 'cv (824)_annotated.json', 'cv (4458)_annotated.json', 'cv (4547)_annotated.json', 'cv (1895)_annotated.json', 'cv (423)_annotated.json', 'cv (3765)_annotated.json', 'cv (3823)_annotated.json', 'cv (3850)_annotated.json', 'cv (3910)_annotated.json', 'cv (494)_annotated.json', 'cv (3288)_annotated.json', 'cv (1569)_annotated.json', 'cv (3515)_annotated.json', 'cv (5030)_annotated.json', 'cv (2170)_annotated.json', 'cv (2396)_annotated.json', 'cv (2811)_annotated.json', 'cv (904)_annotated.json', 'cv (2241)_annotated.json', 'cv (4220)_annotated.json', 'cv (3255)_annotated.json', 'cv (4210)_annotated.json', 'cv (4187)_annotated.json', 'cv (3189)_annotated.json', 'cv (4253)_annotated.json', 'cv (2558)_annotated.json', 'cv (2073)_annotated.json', 'cv (2236)_annotated.json', 'cv (1726)_annotated.json', 'cv (1586)_annotated.json', 'cv (4310)_annotated.json', 'cv (130)_annotated.json', 'cv (3662)_annotated.json', 'cv (3704)_annotated.json', 'cv (4250)_annotated.json', 'cv (3352)_annotated.json', 'cv (865)_annotated.json', 'cv (3853)_annotated.json', 'cv (3095)_annotated.json', 'cv (4082)_annotated.json', 'cv (4691)_annotated.json', 'cv (2700)_annotated.json', 'cv (10)_annotated.json', 'cv (1860)_annotated.json', 'cv (1847)_annotated.json', 'cv (4490)_annotated.json', 'cv (4286)_annotated.json', 'cv (3260)_annotated.json', 'cv (3024)_annotated.json', 'cv (1367)_annotated.json', 'cv (2821)_annotated.json', 'cv (1508)_annotated.json', 'cv (4577)_annotated.json', 'cv (4151)_annotated.json', 'cv (4998)_annotated.json', 'cv (3896)_annotated.json', 'cv (1796)_annotated.json', 'cv (1315)_annotated.json', 'cv (2721)_annotated.json', 'cv (4333)_annotated.json', 'cv (3159)_annotated.json', 'cv (1717)_annotated.json', 'cv (2080)_annotated.json', 'cv (4465)_annotated.json', 'cv (618)_annotated.json', 'cv (1170)_annotated.json', 'cv (3998)_annotated.json', 'cv (2432)_annotated.json', 'cv (3960)_annotated.json', 'cv (3836)_annotated.json', 'cv (1022)_annotated.json', 'cv (1173)_annotated.json', 'cv (4050)_annotated.json', 'cv (2014)_annotated.json', 'cv (3337)_annotated.json', 'cv (593)_annotated.json', 'cv (2128)_annotated.json', 'cv (3742)_annotated.json', 'cv (1422)_annotated.json', 'cv (92)_annotated.json', 'cv (4605)_annotated.json', 'cv (898)_annotated.json', 'cv (4405)_annotated.json', 'cv (4525)_annotated.json', 'cv (1576)_annotated.json', 'cv (835)_annotated.json', 'cv (2163)_annotated.json', 'cv (4514)_annotated.json', 'cv (4291)_annotated.json', 'cv (1777)_annotated.json', 'cv (1832)_annotated.json', 'cv (4553)_annotated.json', 'cv (673)_annotated.json', 'cv (2699)_annotated.json', 'cv (4279)_annotated.json', 'cv (4976)_annotated.json', 'cv (1320)_annotated.json', 'cv (4463)_annotated.json', 'cv (1258)_annotated.json', 'cv (907)_annotated.json', 'cv (4392)_annotated.json', 'cv (323)_annotated.json', 'cv (3828)_annotated.json', 'cv (1004)_annotated.json', 'cv (2031)_annotated.json', 'cv (4349)_annotated.json', 'cv (1680)_annotated.json', 'cv (3747)_annotated.json', 'cv (3102)_annotated.json', 'cv (1152)_annotated.json', 'cv (1091)_annotated.json', 'cv (3891)_annotated.json', 'cv (2748)_annotated.json', 'cv (581)_annotated.json', 'cv (2674)_annotated.json', 'cv (4552)_annotated.json', 'cv (4394)_annotated.json', 'cv (1488)_annotated.json', 'cv (480)_annotated.json', 'cv (4825)_annotated.json', 'cv (2042)_annotated.json', 'cv (3463)_annotated.json', 'cv (2620)_annotated.json', 'cv (3869)_annotated.json', 'cv (1702)_annotated.json', 'cv (882)_annotated.json', 'cv (34)_annotated.json', 'cv (1414)_annotated.json', 'cv (4201)_annotated.json', 'cv (3964)_annotated.json', 'cv (1396)_annotated.json', 'cv (3415)_annotated.json', 'cv (1100)_annotated.json', 'cv (1595)_annotated.json', 'cv (4003)_annotated.json', 'cv (4589)_annotated.json', 'cv (2791)_annotated.json', 'cv (1359)_annotated.json', 'cv (1732)_annotated.json', 'cv (4020)_annotated.json', 'cv (507)_annotated.json', 'cv (2023)_annotated.json', 'cv (1981)_annotated.json', 'cv (258)_annotated.json', 'cv (1713)_annotated.json', 'cv (4403)_annotated.json', 'cv (4331)_annotated.json', 'cv (2166)_annotated.json', 'cv (2070)_annotated.json', 'cv (2351)_annotated.json', 'cv (2527)_annotated.json', 'cv (3428)_annotated.json', 'cv (2754)_annotated.json', 'cv (1272)_annotated.json', 'cv (3556)_annotated.json', 'cv (2852)_annotated.json', 'cv (1003)_annotated.json', 'cv (4812)_annotated.json', 'cv (2296)_annotated.json', 'cv (2229)_annotated.json', 'cv (4755)_annotated.json', 'cv (4037)_annotated.json', 'cv (359)_annotated.json', 'cv (414)_annotated.json', 'cv (3355)_annotated.json', 'cv (465)_annotated.json', 'cv (600)_annotated.json', 'cv (2198)_annotated.json', 'cv (550)_annotated.json', 'cv (199)_annotated.json', 'cv (4230)_annotated.json', 'cv (4101)_annotated.json', 'cv (2049)_annotated.json', 'cv (819)_annotated.json', 'cv (1742)_annotated.json', 'cv (192)_annotated.json', 'cv (3596)_annotated.json', 'cv (4713)_annotated.json', 'cv (4098)_annotated.json', 'cv (4951)_annotated.json', 'cv (2521)_annotated.json', 'cv (2659)_annotated.json', 'cv (3243)_annotated.json', 'cv (3800)_annotated.json', 'cv (3092)_annotated.json', 'cv (1309)_annotated.json', 'cv (2877)_annotated.json', 'cv (161)_annotated.json', 'cv (4402)_annotated.json', 'cv (3847)_annotated.json', 'cv (1203)_annotated.json', 'cv (890)_annotated.json', 'cv (1005)_annotated.json', 'cv (941)_annotated.json', 'cv (1390)_annotated.json', 'cv (984)_annotated.json', 'cv (2216)_annotated.json', 'cv (156)_annotated.json', 'cv (3427)_annotated.json', 'cv (831)_annotated.json', 'cv (3234)_annotated.json', 'cv (4803)_annotated.json', 'cv (4106)_annotated.json', 'cv (29)_annotated.json', 'cv (2254)_annotated.json', 'cv (2367)_annotated.json', 'cv (1145)_annotated.json', 'cv (4744)_annotated.json', 'cv (4397)_annotated.json', 'cv (4562)_annotated.json', 'cv (2220)_annotated.json', 'cv (2901)_annotated.json', 'cv (3863)_annotated.json', 'cv (4252)_annotated.json', 'cv (1753)_annotated.json', 'cv (4921)_annotated.json', 'cv (1201)_annotated.json', 'cv (1108)_annotated.json', 'cv (4064)_annotated.json', 'cv (2995)_annotated.json', 'cv (1144)_annotated.json', 'cv (126)_annotated.json', 'cv (316)_annotated.json', 'cv (1668)_annotated.json', 'cv (109)_annotated.json', 'cv (2547)_annotated.json', 'cv (2580)_annotated.json', 'cv (4236)_annotated.json', 'cv (1278)_annotated.json', 'cv (2543)_annotated.json', 'cv (4814)_annotated.json', 'cv (1351)_annotated.json', 'cv (1065)_annotated.json', 'cv (4041)_annotated.json', 'cv (1324)_annotated.json', 'cv (3287)_annotated.json', 'cv (1008)_annotated.json', 'cv (3282)_annotated.json', 'cv (4978)_annotated.json', 'cv (152)_annotated.json', 'cv (590)_annotated.json', 'cv (424)_annotated.json', 'cv (4877)_annotated.json', 'cv (3249)_annotated.json', 'cv (4930)_annotated.json', 'cv (1904)_annotated.json', 'cv (4695)_annotated.json', 'cv (353)_annotated.json', 'cv (1036)_annotated.json', 'cv (2597)_annotated.json', 'cv (774)_annotated.json', 'cv (924)_annotated.json', 'cv (3442)_annotated.json', 'cv (2329)_annotated.json', 'cv (4287)_annotated.json', 'cv (3716)_annotated.json', 'cv (1479)_annotated.json', 'cv (3351)_annotated.json', 'cv (3587)_annotated.json', 'cv (4868)_annotated.json', 'cv (2984)_annotated.json', 'cv (556)_annotated.json', 'cv (2127)_annotated.json', 'cv (2951)_annotated.json', 'cv (3783)_annotated.json', 'cv (970)_annotated.json', 'cv (2599)_annotated.json', 'cv (2363)_annotated.json', 'cv (4826)_annotated.json', 'cv (1968)_annotated.json', 'cv (4616)_annotated.json', 'cv (1708)_annotated.json', 'cv (331)_annotated.json', 'cv (2384)_annotated.json', 'cv (410)_annotated.json', 'cv (2112)_annotated.json', 'cv (4933)_annotated.json', 'cv (4689)_annotated.json', 'cv (2491)_annotated.json', 'cv (2041)_annotated.json', 'cv (2233)_annotated.json', 'cv (4269)_annotated.json', 'cv (1976)_annotated.json', 'cv (961)_annotated.json', 'cv (4711)_annotated.json', 'cv (2397)_annotated.json', 'cv (2088)_annotated.json', 'cv (52)_annotated.json', 'cv (753)_annotated.json', 'cv (2790)_annotated.json', 'cv (1938)_annotated.json', 'cv (1209)_annotated.json', 'cv (250)_annotated.json', 'cv (4298)_annotated.json', 'cv (4107)_annotated.json', 'cv (4154)_annotated.json', 'cv (2284)_annotated.json', 'cv (1840)_annotated.json', 'cv (282)_annotated.json', 'cv (301)_annotated.json', 'cv (1835)_annotated.json', 'cv (2690)_annotated.json', 'cv (4462)_annotated.json', 'cv (4742)_annotated.json', 'cv (4580)_annotated.json', 'cv (4180)_annotated.json', 'cv (2694)_annotated.json', 'cv (2878)_annotated.json', 'cv (2403)_annotated.json', 'cv (2977)_annotated.json', 'cv (2797)_annotated.json', 'cv (771)_annotated.json', 'cv (939)_annotated.json', 'cv (3553)_annotated.json', 'cv (2525)_annotated.json', 'cv (2321)_annotated.json', 'cv (3641)_annotated.json', 'cv (629)_annotated.json', 'cv (4316)_annotated.json', 'cv (4917)_annotated.json', 'cv (449)_annotated.json', 'cv (15)_annotated.json', 'cv (4669)_annotated.json', 'cv (805)_annotated.json', 'cv (4314)_annotated.json', 'cv (27)_annotated.json', 'cv (4437)_annotated.json', 'cv (1293)_annotated.json', 'cv (1990)_annotated.json', 'cv (1470)_annotated.json', 'cv (3414)_annotated.json', 'cv (499)_annotated.json', 'cv (2573)_annotated.json', 'cv (1582)_annotated.json', 'cv (4610)_annotated.json', 'cv (235)_annotated.json', 'cv (3665)_annotated.json', 'cv (4969)_annotated.json', 'cv (105)_annotated.json', 'cv (923)_annotated.json', 'cv (1673)_annotated.json', 'cv (4601)_annotated.json', 'cv (3116)_annotated.json', 'cv (298)_annotated.json', 'cv (4430)_annotated.json', 'cv (115)_annotated.json', 'cv (3630)_annotated.json', 'cv (1745)_annotated.json', 'cv (1545)_annotated.json', 'cv (4775)_annotated.json', 'cv (2655)_annotated.json', 'cv (3633)_annotated.json', 'cv (4058)_annotated.json', 'cv (4328)_annotated.json', 'cv (4871)_annotated.json', 'cv (3420)_annotated.json', 'cv (4851)_annotated.json', 'cv (2498)_annotated.json', 'cv (4850)_annotated.json', 'cv (3904)_annotated.json', 'cv (4308)_annotated.json', 'cv (3385)_annotated.json', 'cv (3698)_annotated.json', 'cv (377)_annotated.json', 'cv (1965)_annotated.json', 'cv (3445)_annotated.json', 'cv (2062)_annotated.json', 'cv (4136)_annotated.json', 'cv (4258)_annotated.json', 'cv (2553)_annotated.json', 'cv (4817)_annotated.json', 'cv (2931)_annotated.json', 'cv (3472)_annotated.json', 'cv (3383)_annotated.json', 'cv (1741)_annotated.json', 'cv (4920)_annotated.json', 'cv (4522)_annotated.json', 'cv (5027)_annotated.json', 'cv (1670)_annotated.json', 'cv (1604)_annotated.json', 'cv (3701)_annotated.json', 'cv (695)_annotated.json', 'cv (2630)_annotated.json', 'cv (4615)_annotated.json', 'cv (2501)_annotated.json', 'cv (3049)_annotated.json', 'cv (1929)_annotated.json', 'cv (3509)_annotated.json', 'cv (3435)_annotated.json', 'cv (776)_annotated.json', 'cv (4989)_annotated.json', 'cv (1009)_annotated.json', 'cv (610)_annotated.json', 'cv (1443)_annotated.json', 'cv (2957)_annotated.json', 'cv (1902)_annotated.json', 'cv (2463)_annotated.json', 'cv (3654)_annotated.json', 'cv (843)_annotated.json', 'cv (4544)_annotated.json', 'cv (4141)_annotated.json', 'cv (477)_annotated.json', 'cv (4893)_annotated.json', 'cv (621)_annotated.json', 'cv (2012)_annotated.json', 'cv (3256)_annotated.json', 'cv (3499)_annotated.json', 'cv (4488)_annotated.json', 'cv (788)_annotated.json', 'cv (535)_annotated.json', 'cv (2203)_annotated.json', 'cv (72)_annotated.json', 'cv (2212)_annotated.json', 'cv (1304)_annotated.json', 'cv (3868)_annotated.json', 'cv (1102)_annotated.json', 'cv (897)_annotated.json', 'cv (4550)_annotated.json', 'cv (572)_annotated.json', 'cv (33)_annotated.json', 'cv (4404)_annotated.json', 'cv (3989)_annotated.json', 'cv (744)_annotated.json', 'cv (1418)_annotated.json', 'cv (1859)_annotated.json', 'cv (4132)_annotated.json', 'cv (4436)_annotated.json', 'cv (3297)_annotated.json', 'cv (2802)_annotated.json', 'cv (3168)_annotated.json', 'cv (933)_annotated.json', 'cv (3536)_annotated.json', 'cv (1916)_annotated.json', 'cv (2991)_annotated.json', 'cv (3020)_annotated.json', 'cv (1292)_annotated.json', 'cv (1350)_annotated.json', 'cv (3441)_annotated.json', 'cv (3469)_annotated.json', 'cv (3436)_annotated.json', 'cv (2310)_annotated.json', 'cv (4599)_annotated.json', 'cv (3975)_annotated.json', 'cv (3187)_annotated.json', 'cv (3795)_annotated.json', 'cv (294)_annotated.json', 'cv (917)_annotated.json', 'cv (4649)_annotated.json', 'cv (842)_annotated.json', 'cv (3613)_annotated.json', 'cv (1397)_annotated.json', 'cv (2117)_annotated.json', 'cv (2590)_annotated.json', 'cv (4914)_annotated.json', 'cv (4654)_annotated.json', 'cv (649)_annotated.json', 'cv (207)_annotated.json', 'cv (3147)_annotated.json', 'cv (714)_annotated.json', 'cv (2406)_annotated.json', 'cv (520)_annotated.json', 'cv (1440)_annotated.json', 'cv (1468)_annotated.json', 'cv (1335)_annotated.json', 'cv (326)_annotated.json', 'cv (2146)_annotated.json', 'cv (5005)_annotated.json', 'cv (3040)_annotated.json', 'cv (3136)_annotated.json', 'cv (4555)_annotated.json', 'cv (1090)_annotated.json', 'cv (1084)_annotated.json', 'cv (1721)_annotated.json', 'cv (3372)_annotated.json', 'cv (2307)_annotated.json', 'cv (2796)_annotated.json', 'cv (4898)_annotated.json', 'cv (1099)_annotated.json', 'cv (2924)_annotated.json', 'cv (4631)_annotated.json', 'cv (3345)_annotated.json', 'cv (3417)_annotated.json', 'cv (3805)_annotated.json', 'cv (3943)_annotated.json', 'cv (992)_annotated.json', 'cv (3316)_annotated.json', 'cv (2835)_annotated.json', 'cv (3958)_annotated.json', 'cv (3224)_annotated.json', 'cv (3374)_annotated.json', 'cv (1140)_annotated.json', 'cv (1466)_annotated.json', 'cv (96)_annotated.json', 'cv (488)_annotated.json', 'cv (543)_annotated.json', 'cv (2762)_annotated.json', 'cv (1565)_annotated.json', 'cv (2745)_annotated.json', 'cv (2437)_annotated.json', 'cv (1614)_annotated.json', 'cv (4790)_annotated.json', 'cv (3743)_annotated.json', 'cv (1094)_annotated.json', 'cv (710)_annotated.json', 'cv (4783)_annotated.json', 'cv (3460)_annotated.json', 'cv (2752)_annotated.json', 'cv (1639)_annotated.json', 'cv (394)_annotated.json', 'cv (3541)_annotated.json', 'cv (430)_annotated.json', 'cv (848)_annotated.json', 'cv (2577)_annotated.json', 'cv (1509)_annotated.json', 'cv (4335)_annotated.json', 'cv (873)_annotated.json', 'cv (2976)_annotated.json', 'cv (4159)_annotated.json', 'cv (3418)_annotated.json', 'cv (4440)_annotated.json', 'cv (2756)_annotated.json', 'cv (1141)_annotated.json', 'cv (4865)_annotated.json', 'cv (4860)_annotated.json', 'cv (1844)_annotated.json', 'cv (375)_annotated.json', 'cv (94)_annotated.json', 'cv (2913)_annotated.json', 'cv (2342)_annotated.json', 'cv (1317)_annotated.json', 'cv (1487)_annotated.json', 'cv (73)_annotated.json', 'cv (4770)_annotated.json', 'cv (2274)_annotated.json', 'cv (2434)_annotated.json', 'cv (1520)_annotated.json', 'cv (239)_annotated.json', 'cv (3589)_annotated.json', 'cv (476)_annotated.json', 'cv (2723)_annotated.json', 'cv (1334)_annotated.json', 'cv (3524)_annotated.json', 'cv (3370)_annotated.json', 'cv (3520)_annotated.json', 'cv (1333)_annotated.json', 'cv (2860)_annotated.json', 'cv (1241)_annotated.json', 'cv (827)_annotated.json', 'cv (144)_annotated.json', 'cv (2927)_annotated.json', 'cv (4708)_annotated.json', 'cv (2060)_annotated.json', 'cv (4845)_annotated.json', 'cv (3038)_annotated.json', 'cv (1866)_annotated.json', 'cv (3214)_annotated.json', 'cv (570)_annotated.json', 'cv (3235)_annotated.json', 'cv (3381)_annotated.json', 'cv (1313)_annotated.json', 'cv (2744)_annotated.json', 'cv (2812)_annotated.json', 'cv (2557)_annotated.json', 'cv (2304)_annotated.json', 'cv (1101)_annotated.json', 'cv (4305)_annotated.json', 'cv (715)_annotated.json', 'cv (2130)_annotated.json', 'cv (4567)_annotated.json', 'cv (4928)_annotated.json', 'cv (1736)_annotated.json', 'cv (1485)_annotated.json', 'cv (1523)_annotated.json', 'cv (1451)_annotated.json', 'cv (2947)_annotated.json', 'cv (1692)_annotated.json', 'cv (372)_annotated.json', 'cv (3244)_annotated.json', 'cv (803)_annotated.json', 'cv (57)_annotated.json', 'cv (4276)_annotated.json', 'cv (2457)_annotated.json', 'cv (3485)_annotated.json', 'cv (2842)_annotated.json', 'cv (2378)_annotated.json', 'cv (3413)_annotated.json', 'cv (1142)_annotated.json', 'cv (1793)_annotated.json', 'cv (273)_annotated.json', 'cv (2644)_annotated.json', 'cv (2834)_annotated.json', 'cv (3727)_annotated.json', 'cv (1901)_annotated.json', 'cv (1637)_annotated.json', 'cv (4353)_annotated.json', 'cv (4687)_annotated.json', 'cv (2930)_annotated.json', 'cv (2556)_annotated.json', 'cv (3208)_annotated.json', 'cv (1491)_annotated.json', 'cv (4010)_annotated.json', 'cv (2535)_annotated.json', 'cv (1507)_annotated.json', 'cv (4165)_annotated.json', 'cv (1337)_annotated.json', 'cv (3064)_annotated.json', 'cv (515)_annotated.json', 'cv (698)_annotated.json', 'cv (757)_annotated.json', 'cv (3674)_annotated.json', 'cv (4745)_annotated.json', 'cv (3001)_annotated.json', 'cv (2803)_annotated.json', 'cv (4341)_annotated.json', 'cv (5008)_annotated.json', 'cv (2938)_annotated.json', 'cv (2737)_annotated.json', 'cv (142)_annotated.json', 'cv (4935)_annotated.json', 'cv (4733)_annotated.json', 'cv (3236)_annotated.json', 'cv (4661)_annotated.json', 'cv (4367)_annotated.json', 'cv (51)_annotated.json', 'cv (1543)_annotated.json', 'cv (956)_annotated.json', 'cv (1862)_annotated.json', 'cv (2327)_annotated.json', 'cv (755)_annotated.json', 'cv (4779)_annotated.json', 'cv (2562)_annotated.json', 'cv (4705)_annotated.json', 'cv (4214)_annotated.json', 'cv (2279)_annotated.json', 'cv (3263)_annotated.json', 'cv (206)_annotated.json', 'cv (4506)_annotated.json', 'cv (413)_annotated.json', 'cv (3213)_annotated.json', 'cv (4535)_annotated.json', 'cv (1149)_annotated.json', 'cv (1973)_annotated.json', 'cv (376)_annotated.json', 'cv (795)_annotated.json', 'cv (3275)_annotated.json', 'cv (1963)_annotated.json', 'cv (3060)_annotated.json', 'cv (3820)_annotated.json', 'cv (739)_annotated.json', 'cv (2617)_annotated.json', 'cv (168)_annotated.json', 'cv (4380)_annotated.json', 'cv (2829)_annotated.json', 'cv (4042)_annotated.json', 'cv (4749)_annotated.json', 'cv (532)_annotated.json', 'cv (1369)_annotated.json', 'cv (437)_annotated.json', 'cv (1869)_annotated.json', 'cv (3348)_annotated.json', 'cv (2635)_annotated.json', 'cv (3327)_annotated.json', 'cv (3600)_annotated.json', 'cv (4621)_annotated.json', 'cv (2698)_annotated.json', 'cv (1993)_annotated.json', 'cv (1266)_annotated.json', 'cv (3638)_annotated.json', 'cv (4254)_annotated.json', 'cv (3)_annotated.json', 'cv (4103)_annotated.json', 'cv (4685)_annotated.json', 'cv (3109)_annotated.json', 'cv (2237)_annotated.json', 'cv (4293)_annotated.json', 'cv (4698)_annotated.json', 'cv (3667)_annotated.json', 'cv (962)_annotated.json', 'cv (64)_annotated.json', 'cv (1211)_annotated.json', 'cv (1891)_annotated.json', 'cv (1818)_annotated.json', 'cv (2469)_annotated.json', 'cv (2057)_annotated.json', 'cv (451)_annotated.json', 'cv (2335)_annotated.json', 'cv (3877)_annotated.json', 'cv (4342)_annotated.json', 'cv (348)_annotated.json', 'cv (3902)_annotated.json', 'cv (3346)_annotated.json', 'cv (69)_annotated.json', 'cv (1609)_annotated.json', 'cv (2076)_annotated.json', 'cv (123)_annotated.json', 'cv (3459)_annotated.json', 'cv (2652)_annotated.json', 'cv (4765)_annotated.json', 'cv (1579)_annotated.json', 'cv (4975)_annotated.json', 'cv (3429)_annotated.json', 'cv (849)_annotated.json', 'cv (447)_annotated.json', 'cv (2226)_annotated.json', 'cv (2040)_annotated.json', 'cv (495)_annotated.json', 'cv (4521)_annotated.json', 'cv (2550)_annotated.json', 'cv (2104)_annotated.json', 'cv (4354)_annotated.json', 'cv (213)_annotated.json', 'cv (2056)_annotated.json', 'cv (509)_annotated.json', 'cv (4958)_annotated.json', 'cv (4780)_annotated.json', 'cv (2857)_annotated.json', 'cv (7)_annotated.json', 'cv (2028)_annotated.json', 'cv (3483)_annotated.json', 'cv (461)_annotated.json', 'cv (3328)_annotated.json', 'cv (1522)_annotated.json', 'cv (2581)_annotated.json', 'cv (4393)_annotated.json', 'cv (3813)_annotated.json', 'cv (2883)_annotated.json', 'cv (4486)_annotated.json', 'cv (1384)_annotated.json', 'cv (211)_annotated.json', 'cv (3803)_annotated.json', 'cv (1684)_annotated.json', 'cv (513)_annotated.json', 'cv (172)_annotated.json', 'cv (1944)_annotated.json', 'cv (1802)_annotated.json', 'cv (4533)_annotated.json', 'cv (4640)_annotated.json', 'cv (4531)_annotated.json', 'cv (1285)_annotated.json', 'cv (3679)_annotated.json', 'cv (3699)_annotated.json', 'cv (3963)_annotated.json', 'cv (1550)_annotated.json', 'cv (4131)_annotated.json', 'cv (2176)_annotated.json', 'cv (1251)_annotated.json', 'cv (3832)_annotated.json', 'cv (2489)_annotated.json', 'cv (2085)_annotated.json', 'cv (2569)_annotated.json', 'cv (125)_annotated.json', 'cv (764)_annotated.json', 'cv (3846)_annotated.json', 'cv (4070)_annotated.json', 'cv (4321)_annotated.json', 'cv (1864)_annotated.json', 'cv (1814)_annotated.json', 'cv (4980)_annotated.json', 'cv (2969)_annotated.json', 'cv (655)_annotated.json', 'cv (3376)_annotated.json', 'cv (4202)_annotated.json', 'cv (4751)_annotated.json', 'cv (2473)_annotated.json', 'cv (1011)_annotated.json', 'cv (605)_annotated.json', 'cv (4491)_annotated.json', 'cv (4079)_annotated.json', 'cv (2961)_annotated.json', 'cv (1584)_annotated.json', 'cv (2516)_annotated.json', 'cv (496)_annotated.json', 'cv (1465)_annotated.json', 'cv (1409)_annotated.json', 'cv (3053)_annotated.json', 'cv (3367)_annotated.json', 'cv (4019)_annotated.json', 'cv (635)_annotated.json', 'cv (4761)_annotated.json', 'cv (3818)_annotated.json', 'cv (2784)_annotated.json', 'cv (3113)_annotated.json', 'cv (675)_annotated.json', 'cv (2687)_annotated.json', 'cv (1230)_annotated.json', 'cv (1619)_annotated.json', 'cv (3898)_annotated.json', 'cv (1780)_annotated.json', 'cv (1146)_annotated.json', 'cv (65)_annotated.json', 'cv (2872)_annotated.json', 'cv (4693)_annotated.json', 'cv (3843)_annotated.json', 'cv (1336)_annotated.json', 'cv (1797)_annotated.json', 'cv (1696)_annotated.json', 'cv (4166)_annotated.json', 'cv (2468)_annotated.json', 'cv (2263)_annotated.json', 'cv (4188)_annotated.json', 'cv (948)_annotated.json', 'cv (3455)_annotated.json', 'cv (4960)_annotated.json', 'cv (2381)_annotated.json', 'cv (4009)_annotated.json', 'cv (504)_annotated.json', 'cv (4306)_annotated.json', 'cv (3761)_annotated.json', 'cv (2886)_annotated.json', 'cv (1017)_annotated.json', 'cv (669)_annotated.json', 'cv (1654)_annotated.json', 'cv (4015)_annotated.json', 'cv (2382)_annotated.json', 'cv (2083)_annotated.json', 'cv (3093)_annotated.json', 'cv (910)_annotated.json', 'cv (1196)_annotated.json', 'cv (3401)_annotated.json', 'cv (857)_annotated.json', 'cv (1357)_annotated.json', 'cv (2239)_annotated.json', 'cv (1878)_annotated.json', 'cv (3094)_annotated.json', 'cv (4400)_annotated.json', 'cv (464)_annotated.json', 'cv (1243)_annotated.json', 'cv (2684)_annotated.json', 'cv (1078)_annotated.json', 'cv (3700)_annotated.json', 'cv (1382)_annotated.json', 'cv (1242)_annotated.json', 'cv (1861)_annotated.json', 'cv (1554)_annotated.json', 'cv (3216)_annotated.json', 'cv (1330)_annotated.json', 'cv (1874)_annotated.json', 'cv (667)_annotated.json', 'cv (1940)_annotated.json', 'cv (382)_annotated.json', 'cv (208)_annotated.json', 'cv (1169)_annotated.json', 'cv (2084)_annotated.json', 'cv (2465)_annotated.json', 'cv (534)_annotated.json', 'cv (2443)_annotated.json', 'cv (4811)_annotated.json', 'cv (4824)_annotated.json', 'cv (2111)_annotated.json', 'cv (195)_annotated.json', 'cv (3718)_annotated.json', 'cv (4384)_annotated.json', 'cv (863)_annotated.json', 'cv (2789)_annotated.json', 'cv (128)_annotated.json', 'cv (4528)_annotated.json', 'cv (2971)_annotated.json', 'cv (1691)_annotated.json', 'cv (4992)_annotated.json', 'cv (1694)_annotated.json', 'cv (4429)_annotated.json', 'cv (1217)_annotated.json', 'cv (653)_annotated.json', 'cv (1865)_annotated.json', 'cv (1112)_annotated.json', 'cv (4040)_annotated.json', 'cv (2841)_annotated.json', 'cv (2952)_annotated.json', 'cv (1972)_annotated.json', 'cv (370)_annotated.json', 'cv (3357)_annotated.json', 'cv (25)_annotated.json', 'cv (3497)_annotated.json', 'cv (2065)_annotated.json', 'cv (4786)_annotated.json', 'cv (1232)_annotated.json', 'cv (138)_annotated.json', 'cv (2259)_annotated.json', 'cv (2838)_annotated.json', 'cv (295)_annotated.json', 'cv (1154)_annotated.json', 'cv (3270)_annotated.json', 'cv (2245)_annotated.json', 'cv (870)_annotated.json', 'cv (3924)_annotated.json', 'cv (4894)_annotated.json', 'cv (1120)_annotated.json', 'cv (3197)_annotated.json', 'cv (2628)_annotated.json', 'cv (3067)_annotated.json', 'cv (3046)_annotated.json', 'cv (4995)_annotated.json', 'cv (4056)_annotated.json', 'cv (4284)_annotated.json', 'cv (1206)_annotated.json', 'cv (2013)_annotated.json', 'cv (4896)_annotated.json', 'cv (2456)_annotated.json', 'cv (1698)_annotated.json', 'cv (2353)_annotated.json', 'cv (3482)_annotated.json', 'cv (3063)_annotated.json', 'cv (4630)_annotated.json', 'cv (4918)_annotated.json', 'cv (443)_annotated.json', 'cv (3139)_annotated.json', 'cv (89)_annotated.json', 'cv (850)_annotated.json', 'cv (3014)_annotated.json', 'cv (3400)_annotated.json', 'cv (2979)_annotated.json', 'cv (101)_annotated.json', 'cv (4454)_annotated.json', 'cv (4892)_annotated.json', 'cv (1695)_annotated.json', 'cv (1307)_annotated.json', 'cv (4828)_annotated.json', 'cv (2688)_annotated.json', 'cv (830)_annotated.json', 'cv (3434)_annotated.json', 'cv (855)_annotated.json', 'cv (4248)_annotated.json', 'cv (4861)_annotated.json', 'cv (2893)_annotated.json', 'cv (2788)_annotated.json', 'cv (4332)_annotated.json', 'cv (3277)_annotated.json', 'cv (1591)_annotated.json', 'cv (1403)_annotated.json', 'cv (2530)_annotated.json', 'cv (277)_annotated.json', 'cv (4504)_annotated.json', 'cv (3925)_annotated.json', 'cv (4396)_annotated.json', 'cv (4045)_annotated.json', 'cv (2078)_annotated.json', 'cv (2717)_annotated.json', 'cv (3657)_annotated.json', 'cv (458)_annotated.json', 'cv (4913)_annotated.json', 'cv (3359)_annotated.json', 'cv (2276)_annotated.json', 'cv (1448)_annotated.json', 'cv (3585)_annotated.json', 'cv (4048)_annotated.json', 'cv (1127)_annotated.json', 'cv (1511)_annotated.json', 'cv (3223)_annotated.json', 'cv (2447)_annotated.json', 'cv (1986)_annotated.json', 'cv (4582)_annotated.json', 'cv (3318)_annotated.json', 'cv (4648)_annotated.json', 'cv (4398)_annotated.json', 'cv (1095)_annotated.json', 'cv (1853)_annotated.json', 'cv (2632)_annotated.json', 'cv (2643)_annotated.json', 'cv (2607)_annotated.json', 'cv (3754)_annotated.json', 'cv (2230)_annotated.json', 'cv (588)_annotated.json', 'cv (922)_annotated.json', 'cv (248)_annotated.json', 'cv (775)_annotated.json', 'cv (2105)_annotated.json', 'cv (964)_annotated.json', 'cv (4110)_annotated.json', 'cv (4494)_annotated.json', 'cv (2354)_annotated.json', 'cv (3085)_annotated.json', 'cv (5031)_annotated.json', 'cv (3099)_annotated.json', 'cv (2917)_annotated.json', 'cv (4235)_annotated.json', 'cv (3884)_annotated.json', 'cv (3201)_annotated.json', 'cv (4997)_annotated.json', 'cv (3462)_annotated.json', 'cv (4095)_annotated.json', 'cv (519)_annotated.json', 'cv (5033)_annotated.json', 'cv (2541)_annotated.json', 'cv (269)_annotated.json', 'cv (1979)_annotated.json', 'cv (4366)_annotated.json', 'cv (4265)_annotated.json', 'cv (725)_annotated.json', 'cv (4957)_annotated.json', 'cv (3929)_annotated.json', 'cv (1136)_annotated.json', 'cv (2452)_annotated.json', 'cv (3127)_annotated.json', 'cv (132)_annotated.json', 'cv (433)_annotated.json', 'cv (1264)_annotated.json', 'cv (1764)_annotated.json', 'cv (4795)_annotated.json', 'cv (1725)_annotated.json', 'cv (3932)_annotated.json', 'cv (586)_annotated.json', 'cv (701)_annotated.json', 'cv (846)_annotated.json', 'cv (1024)_annotated.json', 'cv (3692)_annotated.json', 'cv (4464)_annotated.json', 'cv (1442)_annotated.json', 'cv (2416)_annotated.json', 'cv (953)_annotated.json', 'cv (1302)_annotated.json', 'cv (4608)_annotated.json', 'cv (232)_annotated.json', 'cv (2260)_annotated.json', 'cv (622)_annotated.json', 'cv (3424)_annotated.json', 'cv (4746)_annotated.json', 'cv (2508)_annotated.json', 'cv (1058)_annotated.json', 'cv (4410)_annotated.json', 'cv (1553)_annotated.json', 'cv (3606)_annotated.json', 'cv (1504)_annotated.json', 'cv (1267)_annotated.json', 'cv (722)_annotated.json', 'cv (5021)_annotated.json', 'cv (4686)_annotated.json', 'cv (3801)_annotated.json', 'cv (1233)_annotated.json', 'cv (329)_annotated.json', 'cv (398)_annotated.json', 'cv (2522)_annotated.json', 'cv (3623)_annotated.json', 'cv (1498)_annotated.json', 'cv (113)_annotated.json', 'cv (1361)_annotated.json', 'cv (968)_annotated.json', 'cv (1652)_annotated.json', 'cv (305)_annotated.json', 'cv (658)_annotated.json', 'cv (3997)_annotated.json', 'cv (1889)_annotated.json', 'cv (4798)_annotated.json', 'cv (1723)_annotated.json', 'cv (720)_annotated.json', 'cv (4839)_annotated.json', 'cv (478)_annotated.json', 'cv (3315)_annotated.json', 'cv (3314)_annotated.json', 'cv (2440)_annotated.json', 'cv (4480)_annotated.json', 'cv (1180)_annotated.json', 'cv (3501)_annotated.json', 'cv (3264)_annotated.json', 'cv (2509)_annotated.json', 'cv (2885)_annotated.json', 'cv (3619)_annotated.json', 'cv (180)_annotated.json', 'cv (4138)_annotated.json', 'cv (4043)_annotated.json', 'cv (2391)_annotated.json', 'cv (4295)_annotated.json', 'cv (724)_annotated.json', 'cv (3962)_annotated.json', 'cv (4652)_annotated.json', 'cv (4004)_annotated.json', 'cv (63)_annotated.json', 'cv (2155)_annotated.json', 'cv (1882)_annotated.json', 'cv (598)_annotated.json', 'cv (4993)_annotated.json', 'cv (4988)_annotated.json', 'cv (3870)_annotated.json', 'cv (959)_annotated.json', 'cv (837)_annotated.json', 'cv (1019)_annotated.json', 'cv (1919)_annotated.json', 'cv (3129)_annotated.json', 'cv (2209)_annotated.json', 'cv (3087)_annotated.json', 'cv (568)_annotated.json', 'cv (2660)_annotated.json', 'cv (1573)_annotated.json', 'cv (3161)_annotated.json', 'cv (302)_annotated.json', 'cv (2653)_annotated.json', 'cv (3781)_annotated.json', 'cv (4945)_annotated.json', 'cv (4970)_annotated.json', 'cv (1795)_annotated.json', 'cv (1402)_annotated.json', 'cv (1538)_annotated.json', 'cv (1288)_annotated.json', 'cv (468)_annotated.json', 'cv (3728)_annotated.json', 'cv (3446)_annotated.json', 'cv (2180)_annotated.json', 'cv (1992)_annotated.json', 'cv (668)_annotated.json', 'cv (1599)_annotated.json', 'cv (3471)_annotated.json', 'cv (3746)_annotated.json', 'cv (2996)_annotated.json', 'cv (3154)_annotated.json', 'cv (404)_annotated.json', 'cv (2460)_annotated.json', 'cv (3329)_annotated.json', 'cv (4529)_annotated.json', 'cv (601)_annotated.json', 'cv (79)_annotated.json', 'cv (3961)_annotated.json', 'cv (340)_annotated.json', 'cv (4051)_annotated.json', 'cv (2282)_annotated.json', 'cv (3173)_annotated.json', 'cv (674)_annotated.json', 'cv (1952)_annotated.json', 'cv (174)_annotated.json', 'cv (4973)_annotated.json', 'cv (171)_annotated.json', 'cv (957)_annotated.json', 'cv (4866)_annotated.json', 'cv (2584)_annotated.json', 'cv (1607)_annotated.json', 'cv (4297)_annotated.json', 'cv (3247)_annotated.json', 'cv (596)_annotated.json', 'cv (3598)_annotated.json', 'cv (4565)_annotated.json', 'cv (2539)_annotated.json', 'cv (3012)_annotated.json', 'cv (2624)_annotated.json', 'cv (884)_annotated.json', 'cv (4626)_annotated.json', 'cv (2410)_annotated.json', 'cv (4413)_annotated.json', 'cv (4540)_annotated.json', 'cv (2484)_annotated.json', 'cv (627)_annotated.json', 'cv (3399)_annotated.json', 'cv (2830)_annotated.json', 'cv (158)_annotated.json', 'cv (279)_annotated.json', 'cv (1185)_annotated.json', 'cv (2107)_annotated.json', 'cv (2645)_annotated.json', 'cv (3661)_annotated.json', 'cv (1469)_annotated.json', 'cv (2846)_annotated.json', 'cv (4433)_annotated.json', 'cv (4797)_annotated.json', 'cv (1811)_annotated.json', 'cv (4233)_annotated.json', 'cv (2555)_annotated.json', 'cv (2446)_annotated.json', 'cv (4172)_annotated.json', 'cv (620)_annotated.json', 'cv (4882)_annotated.json', 'cv (3052)_annotated.json', 'cv (4910)_annotated.json', 'cv (3826)_annotated.json', 'cv (3549)_annotated.json', 'cv (3118)_annotated.json', 'cv (3444)_annotated.json', 'cv (3153)_annotated.json', 'cv (945)_annotated.json', 'cv (3195)_annotated.json', 'cv (4579)_annotated.json', 'cv (3378)_annotated.json', 'cv (4884)_annotated.json', 'cv (812)_annotated.json', 'cv (996)_annotated.json', 'cv (2629)_annotated.json', 'cv (506)_annotated.json', 'cv (406)_annotated.json', 'cv (4573)_annotated.json', 'cv (3362)_annotated.json', 'cv (2832)_annotated.json', 'cv (1250)_annotated.json', 'cv (2109)_annotated.json', 'cv (1257)_annotated.json', 'cv (4624)_annotated.json', 'cv (2133)_annotated.json', 'cv (4947)_annotated.json', 'cv (4282)_annotated.json', 'cv (3296)_annotated.json', 'cv (2380)_annotated.json', 'cv (1263)_annotated.json', 'cv (1247)_annotated.json', 'cv (4109)_annotated.json', 'cv (3713)_annotated.json', 'cv (1831)_annotated.json', 'cv (3790)_annotated.json', 'cv (3358)_annotated.json', 'cv (4591)_annotated.json', 'cv (2735)_annotated.json', 'cv (836)_annotated.json', 'cv (3584)_annotated.json', 'cv (3430)_annotated.json', 'cv (1779)_annotated.json', 'cv (3615)_annotated.json', 'cv (2912)_annotated.json', 'cv (998)_annotated.json', 'cv (4161)_annotated.json', 'cv (2195)_annotated.json', 'cv (217)_annotated.json', 'cv (1013)_annotated.json', 'cv (4805)_annotated.json', 'cv (4665)_annotated.json', 'cv (1401)_annotated.json', 'cv (4425)_annotated.json', 'cv (1321)_annotated.json', 'cv (2983)_annotated.json', 'cv (2192)_annotated.json', 'cv (2082)_annotated.json', 'cv (892)_annotated.json', 'cv (146)_annotated.json', 'cv (58)_annotated.json', 'cv (3937)_annotated.json', 'cv (2186)_annotated.json', 'cv (3982)_annotated.json', 'cv (4459)_annotated.json', 'cv (856)_annotated.json', 'cv (2493)_annotated.json', 'cv (4924)_annotated.json', 'cv (4676)_annotated.json', 'cv (1371)_annotated.json', 'cv (4657)_annotated.json', 'cv (4186)_annotated.json', 'cv (3211)_annotated.json', 'cv (4674)_annotated.json', 'cv (3468)_annotated.json', 'cv (1484)_annotated.json', 'cv (3946)_annotated.json', 'cv (885)_annotated.json', 'cv (3068)_annotated.json', 'cv (335)_annotated.json', 'cv (3965)_annotated.json', 'cv (4483)_annotated.json', 'cv (4604)_annotated.json', 'cv (4133)_annotated.json', 'cv (281)_annotated.json', 'cv (1769)_annotated.json', 'cv (2428)_annotated.json', 'cv (1939)_annotated.json', 'cv (2090)_annotated.json', 'cv (4899)_annotated.json', 'cv (4895)_annotated.json', 'cv (913)_annotated.json', 'cv (20)_annotated.json', 'cv (1096)_annotated.json', 'cv (2588)_annotated.json', 'cv (4247)_annotated.json', 'cv (1135)_annotated.json', 'cv (1220)_annotated.json', 'cv (4678)_annotated.json', 'cv (3542)_annotated.json', 'cv (1073)_annotated.json', 'cv (1917)_annotated.json', 'cv (591)_annotated.json', 'cv (1931)_annotated.json', 'cv (3934)_annotated.json', 'cv (1638)_annotated.json', 'cv (4325)_annotated.json', 'cv (4791)_annotated.json', 'cv (1218)_annotated.json', 'cv (4001)_annotated.json', 'cv (4789)_annotated.json', 'cv (2882)_annotated.json', 'cv (4326)_annotated.json', 'cv (4517)_annotated.json', 'cv (3825)_annotated.json', 'cv (3658)_annotated.json', 'cv (2532)_annotated.json', 'cv (2540)_annotated.json', 'cv (4964)_annotated.json', 'cv (1837)_annotated.json', 'cv (5012)_annotated.json', 'cv (1117)_annotated.json', 'cv (4508)_annotated.json', 'cv (3991)_annotated.json', 'cv (2196)_annotated.json', 'cv (2980)_annotated.json', 'cv (986)_annotated.json', 'cv (1630)_annotated.json', 'cv (4557)_annotated.json', 'cv (1656)_annotated.json', 'cv (1562)_annotated.json', 'cv (3373)_annotated.json', 'cv (3115)_annotated.json', 'cv (2374)_annotated.json', 'cv (3999)_annotated.json', 'cv (1575)_annotated.json', 'cv (3027)_annotated.json', 'cv (4053)_annotated.json', 'cv (133)_annotated.json', 'cv (1836)_annotated.json', 'cv (2174)_annotated.json', 'cv (2431)_annotated.json', 'cv (4520)_annotated.json', 'cv (2896)_annotated.json', 'cv (1948)_annotated.json', 'cv (2258)_annotated.json', 'cv (4726)_annotated.json', 'cv (729)_annotated.json', 'cv (3745)_annotated.json', 'cv (166)_annotated.json', 'cv (224)_annotated.json', 'cv (4584)_annotated.json', 'cv (2426)_annotated.json', 'cv (3529)_annotated.json', 'cv (1653)_annotated.json', 'cv (214)_annotated.json', 'cv (3252)_annotated.json', 'cv (1088)_annotated.json', 'cv (531)_annotated.json', 'cv (4757)_annotated.json', 'cv (436)_annotated.json', 'cv (912)_annotated.json', 'cv (2270)_annotated.json', 'cv (2379)_annotated.json', 'cv (2059)_annotated.json', 'cv (491)_annotated.json', 'cv (3142)_annotated.json', 'cv (2513)_annotated.json', 'cv (3887)_annotated.json', 'cv (2045)_annotated.json', 'cv (2137)_annotated.json', 'cv (1110)_annotated.json', 'cv (1028)_annotated.json', 'cv (2911)_annotated.json', 'cv (3398)_annotated.json', 'cv (3479)_annotated.json', 'cv (2675)_annotated.json', 'cv (1685)_annotated.json', 'cv (3886)_annotated.json', 'cv (4025)_annotated.json', 'cv (1175)_annotated.json', 'cv (808)_annotated.json', 'cv (3627)_annotated.json', 'cv (260)_annotated.json', 'cv (3938)_annotated.json', 'cv (2075)_annotated.json', 'cv (2190)_annotated.json', 'cv (22)_annotated.json', 'cv (3599)_annotated.json', 'cv (3422)_annotated.json', 'cv (5016)_annotated.json', 'cv (4246)_annotated.json', 'cv (2854)_annotated.json', 'cv (815)_annotated.json', 'cv (3798)_annotated.json', 'cv (492)_annotated.json', 'cv (3812)_annotated.json', 'cv (344)_annotated.json', 'cv (337)_annotated.json', 'cv (1856)_annotated.json', 'cv (2053)_annotated.json', 'cv (1187)_annotated.json', 'cv (4909)_annotated.json', 'cv (1301)_annotated.json', 'cv (75)_annotated.json', 'cv (3065)_annotated.json', 'cv (1532)_annotated.json', 'cv (1558)_annotated.json', 'cv (3763)_annotated.json', 'cv (2337)_annotated.json', 'cv (1431)_annotated.json', 'cv (3344)_annotated.json', 'cv (3532)_annotated.json', 'cv (2002)_annotated.json', 'cv (2713)_annotated.json', 'cv (705)_annotated.json', 'cv (2015)_annotated.json', 'cv (288)_annotated.json', 'cv (3388)_annotated.json', 'cv (3320)_annotated.json', 'cv (2703)_annotated.json', 'cv (3394)_annotated.json', 'cv (1497)_annotated.json', 'cv (1274)_annotated.json', 'cv (772)_annotated.json', 'cv (3566)_annotated.json', 'cv (4843)_annotated.json', 'cv (2919)_annotated.json', 'cv (4607)_annotated.json', 'cv (3074)_annotated.json', 'cv (4094)_annotated.json', 'cv (3022)_annotated.json', 'cv (647)_annotated.json', 'cv (1446)_annotated.json', 'cv (2922)_annotated.json', 'cv (3007)_annotated.json', 'cv (3855)_annotated.json', 'cv (1207)_annotated.json', 'cv (4709)_annotated.json', 'cv (5007)_annotated.json', 'cv (4962)_annotated.json', 'cv (2079)_annotated.json', 'cv (4238)_annotated.json', 'cv (1768)_annotated.json', 'cv (2946)_annotated.json', 'cv (1934)_annotated.json', 'cv (189)_annotated.json', 'cv (3226)_annotated.json', 'cv (2641)_annotated.json', 'cv (1205)_annotated.json', 'cv (4337)_annotated.json', 'cv (1345)_annotated.json', 'cv (3608)_annotated.json', 'cv (967)_annotated.json', 'cv (3558)_annotated.json', 'cv (1912)_annotated.json', 'cv (3981)_annotated.json', 'cv (2907)_annotated.json', 'cv (3841)_annotated.json', 'cv (1356)_annotated.json', 'cv (2853)_annotated.json', 'cv (1849)_annotated.json', 'cv (1761)_annotated.json', 'cv (4670)_annotated.json', 'cv (32)_annotated.json', 'cv (2054)_annotated.json', 'cv (4872)_annotated.json', 'cv (663)_annotated.json', 'cv (1076)_annotated.json', 'cv (1311)_annotated.json', 'cv (4724)_annotated.json', 'cv (3122)_annotated.json', 'cv (2151)_annotated.json', 'cv (1927)_annotated.json', 'cv (1097)_annotated.json', 'cv (289)_annotated.json', 'cv (463)_annotated.json', 'cv (3057)_annotated.json', 'cv (167)_annotated.json', 'cv (4570)_annotated.json', 'cv (3101)_annotated.json', 'cv (1480)_annotated.json', 'cv (3096)_annotated.json', 'cv (2368)_annotated.json', 'cv (1160)_annotated.json', 'cv (503)_annotated.json', 'cv (4240)_annotated.json', 'cv (4628)_annotated.json', 'cv (878)_annotated.json', 'cv (3753)_annotated.json', 'cv (1570)_annotated.json', 'cv (228)_annotated.json', 'cv (3517)_annotated.json', 'cv (139)_annotated.json', 'cv (2807)_annotated.json', 'cv (90)_annotated.json', 'cv (3199)_annotated.json', 'cv (3322)_annotated.json', 'cv (4635)_annotated.json', 'cv (687)_annotated.json', 'cv (3480)_annotated.json', 'cv (4418)_annotated.json', 'cv (740)_annotated.json', 'cv (2884)_annotated.json', 'cv (1620)_annotated.json', 'cv (4391)_annotated.json', 'cv (3821)_annotated.json', 'cv (4469)_annotated.json', 'cv (2806)_annotated.json', 'cv (2544)_annotated.json', 'cv (4197)_annotated.json', 'cv (3143)_annotated.json', 'cv (4739)_annotated.json', 'cv (1383)_annotated.json', 'cv (1506)_annotated.json', 'cv (583)_annotated.json', 'cv (2007)_annotated.json', 'cv (3538)_annotated.json', 'cv (1754)_annotated.json', 'cv (4080)_annotated.json', 'cv (3768)_annotated.json', 'cv (4126)_annotated.json', 'cv (179)_annotated.json', 'cv (3609)_annotated.json', 'cv (3504)_annotated.json', 'cv (928)_annotated.json', 'cv (4355)_annotated.json', 'cv (2360)_annotated.json', 'cv (3631)_annotated.json', 'cv (2409)_annotated.json', 'cv (4753)_annotated.json', 'cv (4833)_annotated.json', 'cv (3432)_annotated.json', 'cv (3051)_annotated.json', 'cv (100)_annotated.json', 'cv (230)_annotated.json', 'cv (145)_annotated.json', 'cv (560)_annotated.json', 'cv (1925)_annotated.json', 'cv (1809)_annotated.json', 'cv (4566)_annotated.json', 'cv (630)_annotated.json', 'cv (2402)_annotated.json', 'cv (1387)_annotated.json', 'cv (4092)_annotated.json', 'cv (1048)_annotated.json', 'cv (1677)_annotated.json', 'cv (4219)_annotated.json', 'cv (5013)_annotated.json', 'cv (4743)_annotated.json', 'cv (2067)_annotated.json', 'cv (1923)_annotated.json', 'cv (3544)_annotated.json', 'cv (4033)_annotated.json', 'cv (1200)_annotated.json', 'cv (2612)_annotated.json', 'cv (4426)_annotated.json', 'cv (110)_annotated.json', 'cv (1113)_annotated.json', 'cv (489)_annotated.json', 'cv (1798)_annotated.json', 'cv (1490)_annotated.json', 'cv (1329)_annotated.json', 'cv (1687)_annotated.json', 'cv (2302)_annotated.json', 'cv (2972)_annotated.json', 'cv (1734)_annotated.json', 'cv (4221)_annotated.json', 'cv (4538)_annotated.json', 'cv (3470)_annotated.json', 'cv (4516)_annotated.json', 'cv (797)_annotated.json', 'cv (431)_annotated.json', 'cv (1256)_annotated.json', 'cv (2480)_annotated.json', 'cv (1703)_annotated.json', 'cv (3500)_annotated.json', 'cv (3732)_annotated.json', 'cv (3779)_annotated.json', 'cv (4600)_annotated.json', 'cv (53)_annotated.json', 'cv (162)_annotated.json', 'cv (3893)_annotated.json', 'cv (4338)_annotated.json', 'cv (731)_annotated.json', 'cv (4379)_annotated.json', 'cv (1006)_annotated.json', 'cv (2417)_annotated.json', 'cv (1535)_annotated.json', 'cv (2771)_annotated.json', 'cv (2714)_annotated.json', 'cv (4097)_annotated.json', 'cv (4653)_annotated.json', 'cv (3770)_annotated.json', 'cv (1559)_annotated.json', 'cv (1452)_annotated.json', 'cv (784)_annotated.json', 'cv (1688)_annotated.json', 'cv (3988)_annotated.json', 'cv (78)_annotated.json', 'cv (3721)_annotated.json', 'cv (982)_annotated.json', 'cv (1989)_annotated.json', 'cv (934)_annotated.json', 'cv (536)_annotated.json', 'cv (3928)_annotated.json', 'cv (1375)_annotated.json', 'cv (1138)_annotated.json', 'cv (1633)_annotated.json', 'cv (3970)_annotated.json', 'cv (3942)_annotated.json', 'cv (1068)_annotated.json', 'cv (4112)_annotated.json', 'cv (3854)_annotated.json', 'cv (1823)_annotated.json', 'cv (1323)_annotated.json', 'cv (3054)_annotated.json', 'cv (4853)_annotated.json', 'cv (3897)_annotated.json', 'cv (4613)_annotated.json', 'cv (3680)_annotated.json', 'cv (2780)_annotated.json', 'cv (1119)_annotated.json', 'cv (4343)_annotated.json', 'cv (3124)_annotated.json', 'cv (1128)_annotated.json', 'cv (481)_annotated.json', 'cv (2774)_annotated.json', 'cv (2033)_annotated.json', 'cv (1561)_annotated.json', 'cv (4834)_annotated.json', 'cv (5006)_annotated.json', 'cv (4232)_annotated.json', 'cv (3787)_annotated.json', 'cv (383)_annotated.json', 'cv (1148)_annotated.json', 'cv (4943)_annotated.json', 'cv (3590)_annotated.json', 'cv (2763)_annotated.json', 'cv (46)_annotated.json', 'cv (2755)_annotated.json', 'cv (1441)_annotated.json', 'cv (4941)_annotated.json', 'cv (4309)_annotated.json', 'cv (2334)_annotated.json', 'cv (3033)_annotated.json', 'cv (2299)_annotated.json', 'cv (3676)_annotated.json', 'cv (3193)_annotated.json', 'cv (1892)_annotated.json', 'cv (3304)_annotated.json', 'cv (1689)_annotated.json', 'cv (4551)_annotated.json', 'cv (2770)_annotated.json', 'cv (3559)_annotated.json', 'cv (2646)_annotated.json', 'cv (1388)_annotated.json', 'cv (4563)_annotated.json', 'cv (2373)_annotated.json', 'cv (1121)_annotated.json', 'cv (4035)_annotated.json', 'cv (735)_annotated.json', 'cv (2312)_annotated.json', 'cv (4264)_annotated.json', 'cv (1338)_annotated.json', 'cv (456)_annotated.json', 'cv (4574)_annotated.json', 'cv (4130)_annotated.json', 'cv (871)_annotated.json', 'cv (4912)_annotated.json', 'cv (1512)_annotated.json', 'cv (3283)_annotated.json', 'cv (3062)_annotated.json', 'cv (1271)_annotated.json', 'cv (3371)_annotated.json', 'cv (637)_annotated.json', 'cv (4796)_annotated.json', 'cv (2566)_annotated.json', 'cv (879)_annotated.json', 'cv (4068)_annotated.json', 'cv (2939)_annotated.json', 'cv (3554)_annotated.json', 'cv (4377)_annotated.json', 'cv (4012)_annotated.json', 'cv (604)_annotated.json', 'cv (2702)_annotated.json', 'cv (2388)_annotated.json', 'cv (2470)_annotated.json', 'cv (943)_annotated.json', 'cv (540)_annotated.json', 'cv (2024)_annotated.json', 'cv (5035)_annotated.json', 'cv (2497)_annotated.json', 'cv (4466)_annotated.json', 'cv (1061)_annotated.json', 'cv (4241)_annotated.json', 'cv (3917)_annotated.json', 'cv (2022)_annotated.json', 'cv (1239)_annotated.json', 'cv (727)_annotated.json', 'cv (1377)_annotated.json', 'cv (485)_annotated.json', 'cv (1598)_annotated.json', 'cv (1327)_annotated.json', 'cv (1724)_annotated.json', 'cv (1820)_annotated.json', 'cv (3570)_annotated.json', 'cv (4406)_annotated.json', 'cv (4937)_annotated.json', 'cv (4807)_annotated.json', 'cv (2661)_annotated.json', 'cv (2900)_annotated.json', 'cv (3690)_annotated.json', 'cv (651)_annotated.json', 'cv (1879)_annotated.json', 'cv (85)_annotated.json', 'cv (4554)_annotated.json', 'cv (4099)_annotated.json', 'cv (1080)_annotated.json', 'cv (3903)_annotated.json', 'cv (915)_annotated.json', 'cv (3295)_annotated.json', 'cv (3659)_annotated.json', 'cv (4313)_annotated.json', 'cv (501)_annotated.json', 'cv (3084)_annotated.json', 'cv (911)_annotated.json', 'cv (3334)_annotated.json', 'cv (1580)_annotated.json', 'cv (1122)_annotated.json', 'cv (3724)_annotated.json', 'cv (2486)_annotated.json', 'cv (704)_annotated.json', 'cv (1087)_annotated.json', 'cv (4886)_annotated.json', 'cv (2326)_annotated.json', 'cv (417)_annotated.json', 'cv (4716)_annotated.json', 'cv (4301)_annotated.json', 'cv (1548)_annotated.json', 'cv (4510)_annotated.json', 'cv (4543)_annotated.json', 'cv (3191)_annotated.json', 'cv (985)_annotated.json', 'cv (646)_annotated.json', 'cv (318)_annotated.json', 'cv (4585)_annotated.json', 'cv (811)_annotated.json', 'cv (2333)_annotated.json', 'cv (2272)_annotated.json', 'cv (442)_annotated.json', 'cv (474)_annotated.json', 'cv (4823)_annotated.json', 'cv (2616)_annotated.json', 'cv (2611)_annotated.json', 'cv (3114)_annotated.json', 'cv (926)_annotated.json', 'cv (1428)_annotated.json', 'cv (810)_annotated.json', 'cv (4981)_annotated.json', 'cv (3866)_annotated.json', 'cv (1883)_annotated.json', 'cv (829)_annotated.json', 'cv (4636)_annotated.json', 'cv (3900)_annotated.json', 'cv (3177)_annotated.json', 'cv (3956)_annotated.json', 'cv (2715)_annotated.json', 'cv (3722)_annotated.json', 'cv (950)_annotated.json', 'cv (3386)_annotated.json', 'cv (3200)_annotated.json', 'cv (3984)_annotated.json', 'cv (1259)_annotated.json', 'cv (777)_annotated.json', 'cv (1873)_annotated.json', 'cv (2585)_annotated.json', 'cv (4224)_annotated.json', 'cv (4883)_annotated.json', 'cv (989)_annotated.json', 'cv (954)_annotated.json', 'cv (1515)_annotated.json', 'cv (4766)_annotated.json', 'cv (4534)_annotated.json', 'cv (3650)_annotated.json', 'cv (1536)_annotated.json', 'cv (3856)_annotated.json', 'cv (4832)_annotated.json', 'cv (1177)_annotated.json', 'cv (327)_annotated.json', 'cv (2814)_annotated.json', 'cv (3325)_annotated.json', 'cv (4496)_annotated.json', 'cv (438)_annotated.json', 'cv (980)_annotated.json', 'cv (4784)_annotated.json', 'cv (1749)_annotated.json', 'cv (642)_annotated.json', 'cv (43)_annotated.json', 'cv (2648)_annotated.json', 'cv (268)_annotated.json', 'cv (1049)_annotated.json', 'cv (2505)_annotated.json', 'cv (1767)_annotated.json', 'cv (706)_annotated.json', 'cv (4334)_annotated.json', 'cv (949)_annotated.json', 'cv (3045)_annotated.json', 'cv (1234)_annotated.json', 'cv (1827)_annotated.json', 'cv (1597)_annotated.json', 'cv (822)_annotated.json', 'cv (3170)_annotated.json', 'cv (222)_annotated.json', 'cv (2710)_annotated.json', 'cv (1294)_annotated.json', 'cv (4175)_annotated.json', 'cv (721)_annotated.json', 'cv (4375)_annotated.json', 'cv (1920)_annotated.json', 'cv (111)_annotated.json', 'cv (573)_annotated.json', 'cv (2731)_annotated.json', 'cv (4039)_annotated.json', 'cv (576)_annotated.json', 'cv (4369)_annotated.json', 'cv (131)_annotated.json', 'cv (3228)_annotated.json', 'cv (754)_annotated.json', 'cv (2095)_annotated.json', 'cv (577)_annotated.json', 'cv (1459)_annotated.json', 'cv (4985)_annotated.json', 'cv (4327)_annotated.json', 'cv (4523)_annotated.json', 'cv (3668)_annotated.json', 'cv (3905)_annotated.json', 'cv (439)_annotated.json', 'cv (1921)_annotated.json', 'cv (862)_annotated.json', 'cv (4320)_annotated.json', 'cv (4714)_annotated.json', 'cv (116)_annotated.json', 'cv (3107)_annotated.json', 'cv (3426)_annotated.json', 'cv (2671)_annotated.json', 'cv (3125)_annotated.json', 'cv (1000)_annotated.json', 'cv (2123)_annotated.json', 'cv (3384)_annotated.json', 'cv (3347)_annotated.json', 'cv (4588)_annotated.json', 'cv (1918)_annotated.json', 'cv (3922)_annotated.json', 'cv (3735)_annotated.json', 'cv (3410)_annotated.json', 'cv (1398)_annotated.json', 'cv (2638)_annotated.json', 'cv (1660)_annotated.json', 'cv (98)_annotated.json', 'cv (1651)_annotated.json', 'cv (1433)_annotated.json', 'cv (3519)_annotated.json', 'cv (4740)_annotated.json', 'cv (2808)_annotated.json', 'cv (4926)_annotated.json', 'cv (2400)_annotated.json', 'cv (603)_annotated.json', 'cv (1244)_annotated.json', 'cv (3121)_annotated.json', 'cv (2892)_annotated.json', 'cv (4532)_annotated.json', 'cv (2430)_annotated.json', 'cv (2908)_annotated.json', 'cv (358)_annotated.json', 'cv (3144)_annotated.json', 'cv (3624)_annotated.json', 'cv (3912)_annotated.json', 'cv (2968)_annotated.json', 'cv (4699)_annotated.json', 'cv (2571)_annotated.json', 'cv (1900)_annotated.json', 'cv (1137)_annotated.json', 'cv (2194)_annotated.json', 'cv (3931)_annotated.json', 'cv (3002)_annotated.json', 'cv (1188)_annotated.json', 'cv (4658)_annotated.json', 'cv (2804)_annotated.json', 'cv (2631)_annotated.json', 'cv (1563)_annotated.json', 'cv (3416)_annotated.json', 'cv (18)_annotated.json', 'cv (457)_annotated.json', 'cv (1408)_annotated.json', 'cv (818)_annotated.json', 'cv (155)_annotated.json', 'cv (2115)_annotated.json', 'cv (838)_annotated.json', 'cv (135)_annotated.json', 'cv (4502)_annotated.json', 'cv (2560)_annotated.json', 'cv (2168)_annotated.json', 'cv (134)_annotated.json', 'cv (2153)_annotated.json', 'cv (2777)_annotated.json', 'cv (160)_annotated.json', 'cv (2091)_annotated.json', 'cv (484)_annotated.json', 'cv (3412)_annotated.json', 'cv (2615)_annotated.json', 'cv (1516)_annotated.json', 'cv (3473)_annotated.json', 'cv (2554)_annotated.json', 'cv (67)_annotated.json', 'cv (3773)_annotated.json', 'cv (615)_annotated.json', 'cv (2640)_annotated.json', 'cv (2798)_annotated.json', 'cv (2005)_annotated.json', 'cv (817)_annotated.json', 'cv (91)_annotated.json', 'cv (2089)_annotated.json', 'cv (3341)_annotated.json', 'cv (4546)_annotated.json', 'cv (3097)_annotated.json', 'cv (2870)_annotated.json', 'cv (4891)_annotated.json', 'cv (2997)_annotated.json', 'cv (3833)_annotated.json', 'cv (1240)_annotated.json', 'cv (552)_annotated.json', 'cv (3751)_annotated.json', 'cv (790)_annotated.json', 'cv (1216)_annotated.json', 'cv (2621)_annotated.json', 'cv (1600)_annotated.json', 'cv (1229)_annotated.json', 'cv (4262)_annotated.json', 'cv (39)_annotated.json', 'cv (3992)_annotated.json', 'cv (2963)_annotated.json', 'cv (2135)_annotated.json', 'cv (3792)_annotated.json', 'cv (4448)_annotated.json', 'cv (388)_annotated.json', 'cv (3930)_annotated.json', 'cv (2839)_annotated.json', 'cv (460)_annotated.json', 'cv (3451)_annotated.json', 'cv (1477)_annotated.json', 'cv (2436)_annotated.json', 'cv (2429)_annotated.json', 'cv (3489)_annotated.json', 'cv (2032)_annotated.json', 'cv (4475)_annotated.json', 'cv (1223)_annotated.json', 'cv (3911)_annotated.json', 'cv (854)_annotated.json', 'cv (1026)_annotated.json', 'cv (4075)_annotated.json', 'cv (272)_annotated.json', 'cv (1191)_annotated.json', 'cv (251)_annotated.json', 'cv (3178)_annotated.json', 'cv (4146)_annotated.json', 'cv (1794)_annotated.json', 'cv (1126)_annotated.json', 'cv (1314)_annotated.json', 'cv (1800)_annotated.json', 'cv (2579)_annotated.json', 'cv (3225)_annotated.json', 'cv (1435)_annotated.json', 'cv (686)_annotated.json', 'cv (4006)_annotated.json', 'cv (1186)_annotated.json', 'cv (1551)_annotated.json', 'cv (2265)_annotated.json', 'cv (3880)_annotated.json', 'cv (1750)_annotated.json', 'cv (2358)_annotated.json', 'cv (4018)_annotated.json', 'cv (1133)_annotated.json', 'cv (274)_annotated.json', 'cv (1165)_annotated.json', 'cv (198)_annotated.json', 'cv (2734)_annotated.json', 'cv (947)_annotated.json', 'cv (2956)_annotated.json', 'cv (3518)_annotated.json', 'cv (1881)_annotated.json', 'cv (2232)_annotated.json', 'cv (4362)_annotated.json', 'cv (582)_annotated.json', 'cv (699)_annotated.json', 'cv (4422)_annotated.json', 'cv (1928)_annotated.json', 'cv (2785)_annotated.json', 'cv (1624)_annotated.json', 'cv (1181)_annotated.json', 'cv (931)_annotated.json', 'cv (81)_annotated.json', 'cv (41)_annotated.json', 'cv (4587)_annotated.json', 'cv (3182)_annotated.json', 'cv (1996)_annotated.json', 'cv (1510)_annotated.json', 'cv (678)_annotated.json', 'cv (4226)_annotated.json', 'cv (1197)_annotated.json', 'cv (3356)_annotated.json', 'cv (1086)_annotated.json', 'cv (2732)_annotated.json', 'cv (2720)_annotated.json', 'cv (3612)_annotated.json', 'cv (4289)_annotated.json', 'cv (3844)_annotated.json', 'cv (4074)_annotated.json', 'cv (3840)_annotated.json', 'cv (427)_annotated.json', 'cv (3711)_annotated.json', 'cv (597)_annotated.json', 'cv (42)_annotated.json', 'cv (429)_annotated.json', 'cv (4778)_annotated.json', 'cv (2269)_annotated.json', 'cv (4062)_annotated.json', 'cv (2935)_annotated.json', 'cv (4821)_annotated.json', 'cv (3380)_annotated.json', 'cv (1699)_annotated.json', 'cv (4434)_annotated.json', 'cv (2454)_annotated.json', 'cv (2793)_annotated.json', 'cv (891)_annotated.json', 'cv (834)_annotated.json', 'cv (2119)_annotated.json', 'cv (2966)_annotated.json', 'cv (919)_annotated.json', 'cv (178)_annotated.json', 'cv (1959)_annotated.json', 'cv (1531)_annotated.json', 'cv (2926)_annotated.json', 'cv (2672)_annotated.json', 'cv (3626)_annotated.json', 'cv (2058)_annotated.json', 'cv (1812)_annotated.json', 'cv (1799)_annotated.json', 'cv (4536)_annotated.json', 'cv (4721)_annotated.json', 'cv (44)_annotated.json', 'cv (4047)_annotated.json', 'cv (3759)_annotated.json', 'cv (3368)_annotated.json', 'cv (1585)_annotated.json', 'cv (2462)_annotated.json', 'cv (1132)_annotated.json', 'cv (2758)_annotated.json', 'cv (3913)_annotated.json', 'cv (2131)_annotated.json', 'cv (3617)_annotated.json', 'cv (4144)_annotated.json', 'cv (1933)_annotated.json', 'cv (1544)_annotated.json', 'cv (745)_annotated.json', 'cv (3923)_annotated.json', 'cv (4089)_annotated.json', 'cv (3669)_annotated.json', 'cv (4055)_annotated.json', 'cv (1664)_annotated.json', 'cv (696)_annotated.json', 'cv (322)_annotated.json', 'cv (47)_annotated.json', 'cv (4768)_annotated.json', 'cv (634)_annotated.json', 'cv (3311)_annotated.json', 'cv (4179)_annotated.json', 'cv (2016)_annotated.json', 'cv (4072)_annotated.json', 'cv (385)_annotated.json', 'cv (789)_annotated.json', 'cv (3493)_annotated.json', 'cv (333)_annotated.json', 'cv (357)_annotated.json', 'cv (2347)_annotated.json', 'cv (68)_annotated.json', 'cv (1743)_annotated.json', 'cv (3830)_annotated.json', 'cv (2392)_annotated.json', 'cv (4719)_annotated.json', 'cv (4115)_annotated.json', 'cv (386)_annotated.json', 'cv (2867)_annotated.json', 'cv (3126)_annotated.json', 'cv (4564)_annotated.json', 'cv (3262)_annotated.json', 'cv (71)_annotated.json', 'cv (1999)_annotated.json', 'cv (522)_annotated.json', 'cv (1183)_annotated.json', 'cv (1038)_annotated.json', 'cv (4473)_annotated.json', 'cv (1644)_annotated.json', 'cv (2171)_annotated.json', 'cv (393)_annotated.json', 'cv (1801)_annotated.json', 'cv (1751)_annotated.json', 'cv (3291)_annotated.json', 'cv (270)_annotated.json', 'cv (3166)_annotated.json', 'cv (2623)_annotated.json', 'cv (4940)_annotated.json', 'cv (2905)_annotated.json', 'cv (2483)_annotated.json', 'cv (3335)_annotated.json', 'cv (2667)_annotated.json', 'cv (3996)_annotated.json', 'cv (1503)_annotated.json', 'cv (3909)_annotated.json', 'cv (1089)_annotated.json', 'cv (4767)_annotated.json', 'cv (1935)_annotated.json', 'cv (2818)_annotated.json', 'cv (3736)_annotated.json', 'cv (3528)_annotated.json', 'cv (2488)_annotated.json', 'cv (2683)_annotated.json', 'cv (3849)_annotated.json', 'cv (1930)_annotated.json', 'cv (4961)_annotated.json', 'cv (2478)_annotated.json', 'cv (2869)_annotated.json', 'cv (1783)_annotated.json', 'cv (3561)_annotated.json', 'cv (580)_annotated.json', 'cv (38)_annotated.json', 'cv (490)_annotated.json', 'cv (2741)_annotated.json', 'cv (3071)_annotated.json', 'cv (2319)_annotated.json', 'cv (813)_annotated.json', 'cv (4637)_annotated.json', 'cv (1348)_annotated.json', 'cv (3105)_annotated.json', 'cv (1040)_annotated.json', 'cv (2551)_annotated.json', 'cv (4105)_annotated.json', 'cv (2651)_annotated.json', 'cv (1039)_annotated.json', 'cv (254)_annotated.json', 'cv (4017)_annotated.json', 'cv (184)_annotated.json', 'cv (1057)_annotated.json', 'cv (3077)_annotated.json', 'cv (3802)_annotated.json', 'cv (1528)_annotated.json', 'cv (2876)_annotated.json', 'cv (227)_annotated.json', 'cv (2253)_annotated.json', 'cv (16)_annotated.json', 'cv (4073)_annotated.json', 'cv (4059)_annotated.json', 'cv (1158)_annotated.json', 'cv (2786)_annotated.json', 'cv (3595)_annotated.json', 'cv (2503)_annotated.json', 'cv (1519)_annotated.json', 'cv (3601)_annotated.json', 'cv (412)_annotated.json', 'cv (867)_annotated.json', 'cv (1417)_annotated.json', 'cv (150)_annotated.json', 'cv (1012)_annotated.json', 'cv (4627)_annotated.json', 'cv (2390)_annotated.json', 'cv (2845)_annotated.json', 'cv (4345)_annotated.json', 'cv (93)_annotated.json', 'cv (4763)_annotated.json', 'cv (2801)_annotated.json', 'cv (2795)_annotated.json', 'cv (4489)_annotated.json', 'cv (233)_annotated.json', 'cv (2494)_annotated.json', 'cv (767)_annotated.json', 'cv (2677)_annotated.json', 'cv (1070)_annotated.json', 'cv (390)_annotated.json', 'cv (1432)_annotated.json', 'cv (638)_annotated.json', 'cv (4234)_annotated.json', 'cv (896)_annotated.json', 'cv (702)_annotated.json', 'cv (4548)_annotated.json', 'cv (5009)_annotated.json', 'cv (1733)_annotated.json', 'cv (3616)_annotated.json', 'cv (4864)_annotated.json', 'cv (4028)_annotated.json', 'cv (4374)_annotated.json', 'cv (244)_annotated.json', 'cv (3131)_annotated.json', 'cv (2610)_annotated.json', 'cv (3889)_annotated.json', 'cv (2950)_annotated.json', 'cv (1277)_annotated.json', 'cv (4655)_annotated.json', 'cv (4189)_annotated.json', 'cv (4737)_annotated.json', 'cv (2156)_annotated.json', 'cv (3730)_annotated.json', 'cv (3404)_annotated.json', 'cv (4633)_annotated.json', 'cv (2942)_annotated.json', 'cv (3013)_annotated.json', 'cv (3510)_annotated.json', 'cv (2352)_annotated.json', 'cv (643)_annotated.json', 'cv (3464)_annotated.json', 'cv (1961)_annotated.json', 'cv (4968)_annotated.json', 'cv (4646)_annotated.json', 'cv (319)_annotated.json', 'cv (2325)_annotated.json', 'cv (339)_annotated.json', 'cv (280)_annotated.json', 'cv (1662)_annotated.json', 'cv (2395)_annotated.json', 'cv (3461)_annotated.json', 'cv (1308)_annotated.json', 'cv (2859)_annotated.json', 'cv (2495)_annotated.json', 'cv (2805)_annotated.json', 'cv (1284)_annotated.json', 'cv (2295)_annotated.json', 'cv (3511)_annotated.json', 'cv (631)_annotated.json', 'cv (3021)_annotated.json', 'cv (4939)_annotated.json', 'cv (3993)_annotated.json', 'cv (2776)_annotated.json', 'cv (396)_annotated.json', 'cv (421)_annotated.json', 'cv (4442)_annotated.json', 'cv (524)_annotated.json', 'cv (4808)_annotated.json', 'cv (3405)_annotated.json', 'cv (2948)_annotated.json', 'cv (2018)_annotated.json', 'cv (3066)_annotated.json', 'cv (3292)_annotated.json', 'cv (4759)_annotated.json', 'cv (129)_annotated.json', 'cv (4113)_annotated.json', 'cv (2986)_annotated.json', 'cv (4408)_annotated.json', 'cv (4477)_annotated.json', 'cv (2890)_annotated.json', 'cv (308)_annotated.json', 'cv (2306)_annotated.json', 'cv (1958)_annotated.json', 'cv (5028)_annotated.json', 'cv (1629)_annotated.json', 'cv (226)_annotated.json', 'cv (2519)_annotated.json', 'cv (3301)_annotated.json', 'cv (4063)_annotated.json', 'cv (1552)_annotated.json', 'cv (2574)_annotated.json', 'cv (4874)_annotated.json', 'cv (3966)_annotated.json', 'cv (971)_annotated.json', 'cv (35)_annotated.json', 'cv (899)_annotated.json', 'cv (1248)_annotated.json', 'cv (493)_annotated.json', 'cv (1821)_annotated.json', 'cv (4946)_annotated.json', 'cv (4198)_annotated.json', 'cv (2338)_annotated.json', 'cv (3514)_annotated.json', 'cv (2862)_annotated.json', 'cv (589)_annotated.json', 'cv (1482)_annotated.json', 'cv (425)_annotated.json', 'cv (296)_annotated.json', 'cv (3023)_annotated.json', 'cv (4243)_annotated.json', 'cv (2595)_annotated.json', 'cv (21)_annotated.json', 'cv (2055)_annotated.json', 'cv (3377)_annotated.json', 'cv (2783)_annotated.json', 'cv (1978)_annotated.json', 'cv (614)_annotated.json', 'cv (4668)_annotated.json', 'cv (2988)_annotated.json', 'cv (3162)_annotated.json', 'cv (4170)_annotated.json', 'cv (4415)_annotated.json', 'cv (2925)_annotated.json', 'cv (2204)_annotated.json', 'cv (1627)_annotated.json', 'cv (983)_annotated.json', 'cv (1265)_annotated.json', 'cv (2781)_annotated.json', 'cv (445)_annotated.json', 'cv (1202)_annotated.json', 'cv (4878)_annotated.json', 'cv (2728)_annotated.json', 'cv (482)_annotated.json', 'cv (13)_annotated.json', 'cv (1728)_annotated.json', 'cv (804)_annotated.json', 'cv (1541)_annotated.json', 'cv (187)_annotated.json', 'cv (469)_annotated.json', 'cv (1208)_annotated.json', 'cv (4949)_annotated.json', 'cv (4602)_annotated.json', 'cv (3248)_annotated.json', 'cv (1514)_annotated.json', 'cv (644)_annotated.json', 'cv (1041)_annotated.json', 'cv (4590)_annotated.json', 'cv (3588)_annotated.json', 'cv (4386)_annotated.json', 'cv (2322)_annotated.json', 'cv (4994)_annotated.json', 'cv (2418)_annotated.json', 'cv (5018)_annotated.json', 'cv (4559)_annotated.json', 'cv (4360)_annotated.json', 'cv (3862)_annotated.json', 'cv (773)_annotated.json', 'cv (641)_annotated.json', 'cv (3169)_annotated.json', 'cv (2656)_annotated.json', 'cv (4908)_annotated.json', 'cv (4505)_annotated.json', 'cv (17)_annotated.json', 'cv (4484)_annotated.json', 'cv (1295)_annotated.json', 'cv (1671)_annotated.json', 'cv (3106)_annotated.json', 'cv (4277)_annotated.json', 'cv (2998)_annotated.json', 'cv (2528)_annotated.json', 'cv (363)_annotated.json', 'cv (4218)_annotated.json', 'cv (723)_annotated.json', 'cv (4911)_annotated.json', 'cv (2361)_annotated.json', 'cv (1762)_annotated.json', 'cv (1399)_annotated.json', 'cv (70)_annotated.json', 'cv (143)_annotated.json', 'cv (3901)_annotated.json', 'cv (3755)_annotated.json', 'cv (4487)_annotated.json', 'cv (325)_annotated.json', 'cv (1106)_annotated.json', 'cv (432)_annotated.json', 'cv (3647)_annotated.json', 'cv (4365)_annotated.json', 'cv (2823)_annotated.json', 'cv (4383)_annotated.json', 'cv (3457)_annotated.json', 'cv (345)_annotated.json', 'cv (4715)_annotated.json', 'cv (1932)_annotated.json', 'cv (4315)_annotated.json', 'cv (3951)_annotated.json', 'cv (2215)_annotated.json', 'cv (2407)_annotated.json', 'cv (3706)_annotated.json', 'cv (3130)_annotated.json', 'cv (1260)_annotated.json', 'cv (1494)_annotated.json', 'cv (972)_annotated.json', 'cv (2405)_annotated.json', 'cv (4195)_annotated.json', 'cv (1492)_annotated.json', 'cv (3994)_annotated.json', 'cv (1116)_annotated.json', 'cv (4134)_annotated.json', 'cv (3267)_annotated.json', 'cv (4147)_annotated.json', 'cv (2716)_annotated.json', 'cv (336)_annotated.json', 'cv (416)_annotated.json', 'cv (4191)_annotated.json', 'cv (3305)_annotated.json', 'cv (2730)_annotated.json', 'cv (40)_annotated.json', 'cv (1297)_annotated.json', 'cv (517)_annotated.json', 'cv (1649)_annotated.json', 'cv (2923)_annotated.json', 'cv (1697)_annotated.json', 'cv (1951)_annotated.json', 'cv (2664)_annotated.json', 'cv (3959)_annotated.json', 'cv (4712)_annotated.json', 'cv (9)_annotated.json', 'cv (4638)_annotated.json', 'cv (2594)_annotated.json', 'cv (3757)_annotated.json', 'cv (395)_annotated.json', 'cv (958)_annotated.json', 'cv (263)_annotated.json', 'cv (717)_annotated.json', 'cv (4244)_annotated.json', 'cv (3653)_annotated.json', 'cv (840)_annotated.json', 'cv (2928)_annotated.json', 'cv (28)_annotated.json', 'cv (3643)_annotated.json', 'cv (841)_annotated.json', 'cv (1053)_annotated.json', 'cv (2043)_annotated.json', 'cv (1280)_annotated.json', 'cv (2817)_annotated.json', 'cv (4645)_annotated.json', 'cv (2604)_annotated.json', 'cv (1596)_annotated.json', 'cv (3550)_annotated.json', 'cv (4256)_annotated.json', 'cv (4120)_annotated.json', 'cv (2401)_annotated.json', 'cv (2336)_annotated.json', 'cv (4361)_annotated.json', 'cv (3725)_annotated.json', 'cv (652)_annotated.json', 'cv (3875)_annotated.json', 'cv (4597)_annotated.json', 'cv (1237)_annotated.json', 'cv (186)_annotated.json', 'cv (2093)_annotated.json', 'cv (61)_annotated.json', 'cv (3281)_annotated.json', 'cv (800)_annotated.json', 'cv (3622)_annotated.json', 'cv (19)_annotated.json', 'cv (1566)_annotated.json', 'cv (2467)_annotated.json', 'cv (2399)_annotated.json', 'cv (2689)_annotated.json', 'cv (1474)_annotated.json', 'cv (479)_annotated.json', 'cv (3261)_annotated.json', 'cv (1816)_annotated.json', 'cv (3872)_annotated.json', 'cv (1360)_annotated.json', 'cv (4592)_annotated.json', 'cv (2145)_annotated.json', 'cv (2680)_annotated.json', 'cv (533)_annotated.json', 'cv (2030)_annotated.json', 'cv (2578)_annotated.json', 'cv (995)_annotated.json', 'cv (1739)_annotated.json', 'cv (371)_annotated.json', 'cv (1305)_annotated.json', 'cv (4352)_annotated.json', 'cv (3673)_annotated.json', 'cv (237)_annotated.json', 'cv (1147)_annotated.json', 'cv (3926)_annotated.json', 'cv (140)_annotated.json', 'cv (905)_annotated.json', 'cv (1682)_annotated.json', 'cv (4358)_annotated.json', 'cv (3915)_annotated.json', 'cv (2760)_annotated.json', 'cv (3572)_annotated.json', 'cv (1486)_annotated.json', 'cv (285)_annotated.json', 'cv (1450)_annotated.json', 'cv (409)_annotated.json', 'cv (2081)_annotated.json', 'cv (4049)_annotated.json', 'cv (1081)_annotated.json', 'cv (83)_annotated.json', 'cv (654)_annotated.json', 'cv (4208)_annotated.json', 'cv (4193)_annotated.json', 'cv (3317)_annotated.json', 'cv (1855)_annotated.json', 'cv (3269)_annotated.json', 'cv (2531)_annotated.json', 'cv (4754)_annotated.json', 'cv (4889)_annotated.json', 'cv (2727)_annotated.json', 'cv (1030)_annotated.json', 'cv (4116)_annotated.json', 'cv (963)_annotated.json', 'cv (2125)_annotated.json', 'cv (2449)_annotated.json', 'cv (122)_annotated.json', 'cv (4249)_annotated.json', 'cv (2356)_annotated.json', 'cv (2291)_annotated.json', 'cv (3791)_annotated.json', 'cv (2970)_annotated.json', 'cv (3677)_annotated.json', 'cv (4736)_annotated.json', 'cv (3748)_annotated.json', 'cv (3968)_annotated.json', 'cv (4903)_annotated.json', 'cv (692)_annotated.json', 'cv (585)_annotated.json', 'cv (4339)_annotated.json', 'cv (612)_annotated.json', 'cv (1168)_annotated.json', 'cv (2746)_annotated.json', 'cv (1846)_annotated.json', 'cv (4541)_annotated.json', 'cv (4857)_annotated.json', 'cv (4359)_annotated.json', 'cv (2709)_annotated.json', 'cv (1707)_annotated.json', 'cv (1353)_annotated.json', 'cv (4424)_annotated.json', 'cv (4656)_annotated.json', 'cv (2224)_annotated.json', 'cv (3286)_annotated.json', 'cv (4840)_annotated.json', 'cv (54)_annotated.json', 'cv (1722)_annotated.json', 'cv (1365)_annotated.json', 'cv (3547)_annotated.json', 'cv (2888)_annotated.json', 'cv (4032)_annotated.json', 'cv (703)_annotated.json', 'cv (4164)_annotated.json', 'cv (4093)_annotated.json', 'cv (4435)_annotated.json', 'cv (3516)_annotated.json', 'cv (4880)_annotated.json', 'cv (1971)_annotated.json', 'cv (2583)_annotated.json', 'cv (3336)_annotated.json', 'cv (4785)_annotated.json', 'cv (1875)_annotated.json', 'cv (1755)_annotated.json', 'cv (2800)_annotated.json', 'cv (2692)_annotated.json', 'cv (3145)_annotated.json', 'cv (3507)_annotated.json', 'cv (4173)_annotated.json', 'cv (4802)_annotated.json', 'cv (419)_annotated.json', 'cv (3508)_annotated.json', 'cv (2113)_annotated.json', 'cv (3776)_annotated.json', 'cv (3285)_annotated.json', 'cv (2004)_annotated.json', 'cv (833)_annotated.json', 'cv (1067)_annotated.json', 'cv (1693)_annotated.json', 'cv (242)_annotated.json', 'cv (3737)_annotated.json', 'cv (2492)_annotated.json', 'cv (760)_annotated.json', 'cv (1298)_annotated.json', 'cv (1997)_annotated.json', 'cv (1447)_annotated.json', 'cv (1430)_annotated.json', 'cv (1066)_annotated.json', 'cv (3646)_annotated.json', 'cv (3148)_annotated.json', 'cv (4416)_annotated.json', 'cv (4128)_annotated.json', 'cv (3186)_annotated.json', 'cv (526)_annotated.json', 'cv (3639)_annotated.json', 'cv (338)_annotated.json', 'cv (1412)_annotated.json', 'cv (3220)_annotated.json', 'cv (3939)_annotated.json', 'cv (688)_annotated.json', 'cv (1505)_annotated.json', 'cv (743)_annotated.json', 'cv (3682)_annotated.json', 'cv (1667)_annotated.json', 'cv (4091)_annotated.json', 'cv (475)_annotated.json', 'cv (3806)_annotated.json', 'cv (2275)_annotated.json', 'cv (3772)_annotated.json', 'cv (1615)_annotated.json', 'cv (872)_annotated.json', 'cv (3181)_annotated.json', 'cv (315)_annotated.json', 'cv (1886)_annotated.json', 'cv (1427)_annotated.json', 'cv (1686)_annotated.json', 'cv (2144)_annotated.json', 'cv (1587)_annotated.json', 'cv (4204)_annotated.json', 'cv (4002)_annotated.json', 'cv (1406)_annotated.json', 'cv (236)_annotated.json', 'cv (4788)_annotated.json', 'cv (1139)_annotated.json', 'cv (2881)_annotated.json', 'cv (2444)_annotated.json', 'cv (2609)_annotated.json', 'cv (2264)_annotated.json', 'cv (806)_annotated.json', 'cv (4200)_annotated.json', 'cv (2001)_annotated.json', 'cv (4558)_annotated.json', 'cv (2548)_annotated.json', 'cv (1975)_annotated.json', 'cv (3233)_annotated.json', 'cv (3767)_annotated.json', 'cv (1590)_annotated.json', 'cv (4501)_annotated.json', 'cv (2118)_annotated.json', 'cv (1540)_annotated.json', 'cv (1830)_annotated.json', 'cv (218)_annotated.json', 'cv (4974)_annotated.json', 'cv (4125)_annotated.json', 'cv (1634)_annotated.json', 'cv (2810)_annotated.json', 'cv (1502)_annotated.json', 'cv (4090)_annotated.json', 'cv (1700)_annotated.json', 'cv (346)_annotated.json', 'cv (4472)_annotated.json', 'cv (1453)_annotated.json', 'cv (428)_annotated.json', 'cv (944)_annotated.json', 'cv (778)_annotated.json', 'cv (2346)_annotated.json', 'cv (452)_annotated.json', 'cv (1429)_annotated.json', 'cv (1947)_annotated.json', 'cv (401)_annotated.json', 'cv (2037)_annotated.json', 'cv (1444)_annotated.json', 'cv (1287)_annotated.json', 'cv (4123)_annotated.json', 'cv (45)_annotated.json', 'cv (4304)_annotated.json', 'cv (1669)_annotated.json', 'cv (2909)_annotated.json', 'cv (4026)_annotated.json', 'cv (50)_annotated.json', 'cv (3411)_annotated.json', 'cv (1666)_annotated.json', 'cv (2328)_annotated.json', 'cv (979)_annotated.json', 'cv (4846)_annotated.json', 'cv (5002)_annotated.json', 'cv (1635)_annotated.json', 'cv (4927)_annotated.json', 'cv (2962)_annotated.json', 'cv (2461)_annotated.json', 'cv (1082)_annotated.json', 'cv (2294)_annotated.json', 'cv (4348)_annotated.json', 'cv (4752)_annotated.json', 'cv (297)_annotated.json', 'cv (747)_annotated.json', 'cv (900)_annotated.json', 'cv (2538)_annotated.json', 'cv (4182)_annotated.json', 'cv (253)_annotated.json', 'cv (3581)_annotated.json', 'cv (1683)_annotated.json', 'cv (1775)_annotated.json', 'cv (3015)_annotated.json', 'cv (1176)_annotated.json', 'cv (4806)_annotated.json', 'cv (2435)_annotated.json', 'cv (4046)_annotated.json', 'cv (3629)_annotated.json', 'cv (1499)_annotated.json', 'cv (4065)_annotated.json', 'cv (4876)_annotated.json', 'cv (4801)_annotated.json', 'cv (4922)_annotated.json', 'cv (3239)_annotated.json', 'cv (4677)_annotated.json', 'cv (2421)_annotated.json', 'cv (4245)_annotated.json', 'cv (500)_annotated.json', 'cv (1857)_annotated.json', 'cv (4382)_annotated.json', 'cv (665)_annotated.json', 'cv (2046)_annotated.json', 'cv (87)_annotated.json', 'cv (2116)_annotated.json', 'cv (510)_annotated.json', 'cv (229)_annotated.json', 'cv (3985)_annotated.json', 'cv (5001)_annotated.json', 'cv (3567)_annotated.json', 'cv (356)_annotated.json', 'cv (1876)_annotated.json', 'cv (1262)_annotated.json', 'cv (4319)_annotated.json', 'cv (1608)_annotated.json', 'cv (852)_annotated.json', 'cv (4088)_annotated.json', 'cv (3591)_annotated.json', 'cv (4274)_annotated.json', 'cv (1868)_annotated.json', 'cv (3112)_annotated.json', 'cv (2143)_annotated.json', 'cv (3618)_annotated.json', 'cv (991)_annotated.json', 'cv (3955)_annotated.json', 'cv (514)_annotated.json', 'cv (4077)_annotated.json', 'cv (1908)_annotated.json', 'cv (3705)_annotated.json', 'cv (462)_annotated.json', 'cv (1903)_annotated.json', 'cv (3375)_annotated.json', 'cv (925)_annotated.json', 'cv (1098)_annotated.json', 'cv (3906)_annotated.json', 'cv (921)_annotated.json', 'cv (1318)_annotated.json', 'cv (4643)_annotated.json', 'cv (3081)_annotated.json', 'cv (3809)_annotated.json', 'cv (2221)_annotated.json', 'cv (4701)_annotated.json', 'cv (3672)_annotated.json', 'cv (2871)_annotated.json', 'cv (4152)_annotated.json', 'cv (4956)_annotated.json', 'cv (3948)_annotated.json', 'cv (4609)_annotated.json', 'cv (4799)_annotated.json', 'cv (1885)_annotated.json', 'cv (234)_annotated.json', 'cv (2164)_annotated.json', 'cv (525)_annotated.json', 'cv (3552)_annotated.json', 'cv (3082)_annotated.json', 'cv (3308)_annotated.json', 'cv (1539)_annotated.json', 'cv (2482)_annotated.json', 'cv (4639)_annotated.json', 'cv (4428)_annotated.json', 'cv (2978)_annotated.json', 'cv (1870)_annotated.json', 'cv (4439)_annotated.json', 'cv (4414)_annotated.json', 'cv (4679)_annotated.json', 'cv (2000)_annotated.json', 'cv (255)_annotated.json', 'cv (1547)_annotated.json', 'cv (2960)_annotated.json', 'cv (1804)_annotated.json', 'cv (2847)_annotated.json', 'cv (3219)_annotated.json', 'cv (2537)_annotated.json', 'cv (1043)_annotated.json', 'cv (1253)_annotated.json', 'cv (3302)_annotated.json', 'cv (4684)_annotated.json', 'cv (2050)_annotated.json', 'cv (2481)_annotated.json', 'cv (511)_annotated.json', 'cv (1282)_annotated.json', 'cv (2499)_annotated.json', 'cv (3867)_annotated.json', 'cv (3353)_annotated.json', 'cv (4748)_annotated.json', 'cv (3104)_annotated.json', 'cv (2098)_annotated.json', 'cv (399)_annotated.json', 'cv (5)_annotated.json', 'cv (293)_annotated.json', 'cv (3059)_annotated.json', 'cv (354)_annotated.json', 'cv (1828)_annotated.json', 'cv (4710)_annotated.json', 'cv (1984)_annotated.json', 'cv (1460)_annotated.json', 'cv (4495)_annotated.json', 'cv (1907)_annotated.json', 'cv (548)_annotated.json', 'cv (3155)_annotated.json', 'cv (1922)_annotated.json', 'cv (3100)_annotated.json', 'cv (4034)_annotated.json', 'cv (3487)_annotated.json', 'cv (3816)_annotated.json', 'cv (4722)_annotated.json', 'cv (2949)_annotated.json', 'cv (264)_annotated.json', 'cv (4829)_annotated.json', 'cv (240)_annotated.json', 'cv (2205)_annotated.json', 'cv (4212)_annotated.json', 'cv (3506)_annotated.json', 'cv (940)_annotated.json', 'cv (4471)_annotated.json', 'cv (2244)_annotated.json', 'cv (4611)_annotated.json', 'cv (223)_annotated.json', 'cv (508)_annotated.json', 'cv (3029)_annotated.json', 'cv (2825)_annotated.json', 'cv (3995)_annotated.json', 'cv (290)_annotated.json', 'cv (4000)_annotated.json', 'cv (3557)_annotated.json', 'cv (1343)_annotated.json', 'cv (3431)_annotated.json', 'cv (4625)_annotated.json', 'cv (2712)_annotated.json', 'cv (4596)_annotated.json', 'cv (4690)_annotated.json', 'cv (1896)_annotated.json', 'cv (559)_annotated.json', 'cv (2529)_annotated.json', 'cv (4666)_annotated.json', 'cv (4498)_annotated.json', 'cv (245)_annotated.json', 'cv (3707)_annotated.json', 'cv (1631)_annotated.json', 'cv (3859)_annotated.json', 'cv (713)_annotated.json', 'cv (3726)_annotated.json', 'cv (1909)_annotated.json', 'cv (1678)_annotated.json', 'cv (4467)_annotated.json', 'cv (2600)_annotated.json', 'cv (2719)_annotated.json', 'cv (3409)_annotated.json', 'cv (1052)_annotated.json', 'cv (2372)_annotated.json', 'cv (1289)_annotated.json', 'cv (341)_annotated.json', 'cv (2704)_annotated.json', 'cv (1214)_annotated.json', 'cv (291)_annotated.json', 'cv (3350)_annotated.json', 'cv (1462)_annotated.json', 'cv (3540)_annotated.json', 'cv (738)_annotated.json', 'cv (4681)_annotated.json', 'cv (256)_annotated.json', 'cv (1228)_annotated.json', 'cv (4593)_annotated.json', 'cv (966)_annotated.json', 'cv (4373)_annotated.json', 'cv (3971)_annotated.json', 'cv (3123)_annotated.json', 'cv (4887)_annotated.json', 'cv (3980)_annotated.json', 'cv (1063)_annotated.json', 'cv (1803)_annotated.json', 'cv (4372)_annotated.json', 'cv (1386)_annotated.json', 'cv (2861)_annotated.json', 'cv (2618)_annotated.json', 'cv (2593)_annotated.json', 'cv (2020)_annotated.json', 'cv (2967)_annotated.json', 'cv (1910)_annotated.json', 'cv (728)_annotated.json', 'cv (1411)_annotated.json', 'cv (558)_annotated.json', 'cv (1672)_annotated.json', 'cv (2864)_annotated.json', 'cv (894)_annotated.json', 'cv (267)_annotated.json', 'cv (4111)_annotated.json', 'cv (209)_annotated.json', 'cv (1756)_annotated.json', 'cv (1839)_annotated.json', 'cv (4697)_annotated.json', 'cv (4734)_annotated.json', 'cv (1014)_annotated.json', 'cv (4764)_annotated.json', 'cv (275)_annotated.json', 'cv (2248)_annotated.json', 'cv (147)_annotated.json', 'cv (903)_annotated.json', 'cv (3265)_annotated.json', 'cv (3342)_annotated.json', 'cv (1268)_annotated.json', 'cv (3786)_annotated.json', 'cv (4800)_annotated.json', 'cv (1449)_annotated.json', 'cv (2840)_annotated.json', 'cv (4432)_annotated.json', 'cv (1759)_annotated.json', 'cv (3289)_annotated.json', 'cv (1758)_annotated.json', 'cv (2324)_annotated.json', 'cv (733)_annotated.json', 'cv (4066)_annotated.json', 'cv (276)_annotated.json', 'cv (4121)_annotated.json', 'cv (2565)_annotated.json', 'cv (2575)_annotated.json', 'cv (483)_annotated.json', 'cv (3694)_annotated.json', 'cv (3663)_annotated.json', 'cv (3323)_annotated.json', 'cv (623)_annotated.json', 'cv (765)_annotated.json', 'cv (2934)_annotated.json', 'cv (3202)_annotated.json', 'cv (4500)_annotated.json', 'cv (3152)_annotated.json', 'cv (4038)_annotated.json', 'cv (2362)_annotated.json', 'cv (3793)_annotated.json', 'cv (2038)_annotated.json', 'cv (3160)_annotated.json', 'cv (3784)_annotated.json', 'cv (1174)_annotated.json', 'cv (170)_annotated.json', 'cv (4008)_annotated.json', 'cv (2725)_annotated.json', 'cv (4215)_annotated.json', 'cv (4087)_annotated.json', 'cv (3307)_annotated.json', 'cv (361)_annotated.json', 'cv (4942)_annotated.json', 'cv (3664)_annotated.json', 'cv (1729)_annotated.json', 'cv (1766)_annotated.json', 'cv (4647)_annotated.json', 'cv (1157)_annotated.json', 'cv (3628)_annotated.json', 'cv (2514)_annotated.json', 'cv (4885)_annotated.json', 'cv (1472)_annotated.json', 'cv (3534)_annotated.json', 'cv (314)_annotated.json', 'cv (5019)_annotated.json', 'cv (4223)_annotated.json', 'cv (3151)_annotated.json', 'cv (3496)_annotated.json', 'cv (4758)_annotated.json', 'cv (330)_annotated.json', 'cv (2787)_annotated.json', 'cv (2475)_annotated.json', 'cv (342)_annotated.json', 'cv (2034)_annotated.json', 'cv (4273)_annotated.json', 'cv (3710)_annotated.json', 'cv (2678)_annotated.json', 'cv (2217)_annotated.json', 'cv (1807)_annotated.json', 'cv (3448)_annotated.json', 'cv (4303)_annotated.json', 'cv (3580)_annotated.json', 'cv (3078)_annotated.json', 'cv (2794)_annotated.json', 'cv (1374)_annotated.json', 'cv (249)_annotated.json', 'cv (175)_annotated.json', 'cv (555)_annotated.json', 'cv (3876)_annotated.json', 'cv (3503)_annotated.json', 'cv (3697)_annotated.json', 'cv (2695)_annotated.json', 'cv (8)_annotated.json', 'cv (3379)_annotated.json', 'cv (3310)_annotated.json', 'cv (4983)_annotated.json', 'cv (2029)_annotated.json', 'cv (4292)_annotated.json', 'cv (4071)_annotated.json', 'cv (2779)_annotated.json', 'cv (3576)_annotated.json', 'cv (1621)_annotated.json', 'cv (2749)_annotated.json', 'cv (562)_annotated.json', 'cv (4720)_annotated.json', 'cv (4729)_annotated.json', 'cv (2822)_annotated.json', 'cv (435)_annotated.json', 'cv (2268)_annotated.json', 'cv (4838)_annotated.json', 'cv (937)_annotated.json', 'cv (3957)_annotated.json', 'cv (3894)_annotated.json', 'cv (31)_annotated.json', 'cv (4451)_annotated.json', 'cv (2824)_annotated.json', 'cv (3714)_annotated.json', 'cv (1518)_annotated.json', 'cv (321)_annotated.json', 'cv (26)_annotated.json', 'cv (4771)_annotated.json', 'cv (3614)_annotated.json', 'cv (2172)_annotated.json', 'cv (518)_annotated.json', 'cv (4963)_annotated.json', 'cv (4905)_annotated.json', 'cv (3603)_annotated.json', 'cv (4982)_annotated.json', 'cv (2149)_annotated.json', 'cv (1884)_annotated.json', 'cv (1946)_annotated.json', 'cv (1872)_annotated.json', 'cv (1513)_annotated.json', 'cv (3008)_annotated.json', 'cv (3602)_annotated.json', 'cv (3945)_annotated.json', 'cv (3299)_annotated.json', 'cv (1363)_annotated.json', 'cv (682)_annotated.json', 'cv (976)_annotated.json', 'cv (3505)_annotated.json', 'cv (5029)_annotated.json', 'cv (3835)_annotated.json', 'cv (1496)_annotated.json', 'cv (3031)_annotated.json', 'cv (2875)_annotated.json', 'cv (1071)_annotated.json', 'cv (1863)_annotated.json', 'cv (1276)_annotated.json', 'cv (2157)_annotated.json', 'cv (182)_annotated.json', 'cv (4539)_annotated.json', 'cv (4340)_annotated.json', 'cv (2451)_annotated.json', 'cv (4925)_annotated.json', 'cv (4142)_annotated.json', 'cv (3150)_annotated.json', 'cv (2100)_annotated.json', 'cv (4139)_annotated.json', 'cv (2897)_annotated.json', 'cv (1300)_annotated.json', 'cv (2206)_annotated.json', 'cv (3678)_annotated.json', 'cv (2210)_annotated.json', 'cv (545)_annotated.json', 'cv (4390)_annotated.json', 'cv (632)_annotated.json', 'cv (3758)_annotated.json', 'cv (3974)_annotated.json', 'cv (1650)_annotated.json', 'cv (1960)_annotated.json', 'cv (990)_annotated.json', 'cv (2477)_annotated.json', 'cv (3321)_annotated.json', 'cv (4460)_annotated.json', 'cv (3685)_annotated.json', 'cv (1044)_annotated.json', 'cv (4014)_annotated.json', 'cv (4835)_annotated.json', 'cv (441)_annotated.json', 'cv (3165)_annotated.json', 'cv (2844)_annotated.json', 'cv (3396)_annotated.json', 'cv (1416)_annotated.json', 'cv (1164)_annotated.json', 'cv (2953)_annotated.json', 'cv (4598)_annotated.json', 'cv (3365)_annotated.json', 'cv (4344)_annotated.json', 'cv (2266)_annotated.json', 'cv (3883)_annotated.json', 'cv (3815)_annotated.json', 'cv (2106)_annotated.json', 'cv (4278)_annotated.json', 'cv (1525)_annotated.json', 'cv (1193)_annotated.json', 'cv (3343)_annotated.json', 'cv (1564)_annotated.json', 'cv (730)_annotated.json', 'cv (4216)_annotated.json', 'cv (5003)_annotated.json', 'cv (4706)_annotated.json', 'cv (1393)_annotated.json', 'cv (220)_annotated.json', 'cv (4479)_annotated.json', 'cv (4986)_annotated.json', 'cv (112)_annotated.json', 'cv (4586)_annotated.json', 'cv (2160)_annotated.json', 'cv (1261)_annotated.json', 'cv (4750)_annotated.json', 'cv (2177)_annotated.json', 'cv (1227)_annotated.json', 'cv (2772)_annotated.json', 'cv (1286)_annotated.json', 'cv (2673)_annotated.json', 'cv (5010)_annotated.json', 'cv (716)_annotated.json', 'cv (3729)_annotated.json', 'cv (1046)_annotated.json', 'cv (656)_annotated.json', 'cv (1018)_annotated.json', 'cv (3723)_annotated.json', 'cv (2552)_annotated.json', 'cv (231)_annotated.json', 'cv (1937)_annotated.json', 'cv (4294)_annotated.json', 'cv (697)_annotated.json', 'cv (4836)_annotated.json', 'cv (3797)_annotated.json', 'cv (2433)_annotated.json', 'cv (4266)_annotated.json', 'cv (3363)_annotated.json', 'cv (4470)_annotated.json', 'cv (3423)_annotated.json', 'cv (2568)_annotated.json', 'cv (2705)_annotated.json', 'cv (328)_annotated.json', 'cv (3921)_annotated.json', 'cv (2136)_annotated.json', 'cv (3502)_annotated.json', 'cv (1826)_annotated.json', 'cv (3119)_annotated.json', 'cv (347)_annotated.json', 'cv (2311)_annotated.json', 'cv (571)_annotated.json', 'cv (3111)_annotated.json', 'cv (4350)_annotated.json', 'cv (3246)_annotated.json', 'cv (4237)_annotated.json', 'cv (4211)_annotated.json', 'cv (3817)_annotated.json', 'cv (3944)_annotated.json', 'cv (734)_annotated.json', 'cv (3918)_annotated.json', 'cv (3340)_annotated.json', 'cv (4203)_annotated.json', 'cv (681)_annotated.json', 'cv (2868)_annotated.json', 'cv (2504)_annotated.json', 'cv (3387)_annotated.json', 'cv (4419)_annotated.json', 'cv (1974)_annotated.json', 'cv (2726)_annotated.json', 'cv (689)_annotated.json', 'cv (2819)_annotated.json', 'cv (1834)_annotated.json', 'cv (1911)_annotated.json', 'cv (36)_annotated.json', 'cv (1612)_annotated.json', 'cv (2148)_annotated.json', 'cv (1890)_annotated.json', 'cv (3741)_annotated.json', 'cv (2738)_annotated.json', 'cv (2114)_annotated.json', 'cv (60)_annotated.json', 'cv (1980)_annotated.json', 'cv (3871)_annotated.json', 'cv (2487)_annotated.json', 'cv (88)_annotated.json', 'cv (798)_annotated.json', 'cv (2679)_annotated.json', 'cv (3083)_annotated.json', 'cv (4271)_annotated.json', 'cv (2340)_annotated.json', 'cv (3568)_annotated.json', 'cv (969)_annotated.json', 'cv (3241)_annotated.json', 'cv (4772)_annotated.json', 'cv (4863)_annotated.json', 'cv (3569)_annotated.json', 'cv (2981)_annotated.json', 'cv (832)_annotated.json', 'cv (1047)_annotated.json', 'cv (4888)_annotated.json', 'cv (3907)_annotated.json', 'cv (459)_annotated.json', 'cv (4167)_annotated.json', 'cv (4617)_annotated.json', 'cv (742)_annotated.json', 'cv (2887)_annotated.json', 'cv (2039)_annotated.json', 'cv (4727)_annotated.json', 'cv (2345)_annotated.json', 'cv (3209)_annotated.json', 'cv (14)_annotated.json', 'cv (1373)_annotated.json', 'cv (1419)_annotated.json', 'cv (265)_annotated.json', 'cv (169)_annotated.json', 'cv (938)_annotated.json', 'cv (1970)_annotated.json', 'cv (1894)_annotated.json', 'cv (3005)_annotated.json', 'cv (3402)_annotated.json', 'cv (1002)_annotated.json', 'cv (2167)_annotated.json', 'cv (1222)_annotated.json', 'cv (3407)_annotated.json', 'cv (2764)_annotated.json', 'cv (1774)_annotated.json', 'cv (787)_annotated.json', 'cv (4084)_annotated.json', 'cv (2357)_annotated.json', 'cv (1791)_annotated.json', 'cv (1943)_annotated.json', 'cv (1950)_annotated.json', 'cv (4827)_annotated.json', 'cv (3693)_annotated.json', 'cv (3752)_annotated.json', 'cv (616)_annotated.json', 'cv (4900)_annotated.json', 'cv (679)_annotated.json', 'cv (1763)_annotated.json', 'cv (2915)_annotated.json', 'cv (181)_annotated.json', 'cv (3521)_annotated.json', 'cv (2866)_annotated.json', 'cv (4421)_annotated.json', 'cv (4822)_annotated.json', 'cv (2757)_annotated.json', 'cv (3163)_annotated.json', 'cv (3702)_annotated.json', 'cv (1143)_annotated.json', 'cv (5032)_annotated.json', 'cv (303)_annotated.json', 'cv (304)_annotated.json', 'cv (3635)_annotated.json', 'cv (1712)_annotated.json', 'cv (1792)_annotated.json', 'cv (1969)_annotated.json', 'cv (4145)_annotated.json', 'cv (4984)_annotated.json', 'cv (4650)_annotated.json', 'cv (4556)_annotated.json', 'cv (4847)_annotated.json', 'cv (3395)_annotated.json', 'cv (916)_annotated.json', 'cv (1275)_annotated.json', 'cv (3366)_annotated.json', 'cv (4841)_annotated.json', 'cv (1790)_annotated.json', 'cv (2134)_annotated.json', 'cv (566)_annotated.json', 'cv (549)_annotated.json', 'cv (3766)_annotated.json', 'cv (1034)_annotated.json', 'cv (530)_annotated.json', 'cv (3555)_annotated.json', 'cv (4199)_annotated.json', 'cv (1182)_annotated.json', 'cv (1215)_annotated.json', 'cv (1914)_annotated.json', 'cv (3157)_annotated.json', 'cv (3738)_annotated.json', 'cv (163)_annotated.json', 'cv (2332)_annotated.json', 'cv (1994)_annotated.json', 'cv (1045)_annotated.json', 'cv (1326)_annotated.json', 'cv (4455)_annotated.json', 'cv (4612)_annotated.json', 'cv (1560)_annotated.json', 'cv (1571)_annotated.json', 'cv (786)_annotated.json', 'cv (1842)_annotated.json', 'cv (4478)_annotated.json', 'cv (732)_annotated.json', 'cv (2420)_annotated.json', 'cv (3804)_annotated.json', 'cv (4879)_annotated.json', 'cv (3108)_annotated.json', 'cv (1655)_annotated.json', 'cv (672)_annotated.json', 'cv (366)_annotated.json', 'cv (2255)_annotated.json', 'cv (3164)_annotated.json', 'cv (5023)_annotated.json', 'cv (2280)_annotated.json', 'cv (2025)_annotated.json', 'cv (2350)_annotated.json', 'cv (3433)_annotated.json', 'cv (4704)_annotated.json', 'cv (1642)_annotated.json', 'cv (1381)_annotated.json', 'cv (286)_annotated.json', 'cv (3592)_annotated.json', 'cv (3447)_annotated.json', 'cv (4423)_annotated.json', 'cv (3212)_annotated.json', 'cv (4938)_annotated.json', 'cv (3651)_annotated.json', 'cv (82)_annotated.json', 'cv (3037)_annotated.json', 'cv (3879)_annotated.json', 'cv (1988)_annotated.json', 'cv (2158)_annotated.json', 'cv (1998)_annotated.json', 'cv (2377)_annotated.json', 'cv (920)_annotated.json', 'cv (284)_annotated.json', 'cv (4934)_annotated.json', 'cv (4702)_annotated.json', 'cv (307)_annotated.json', 'cv (4642)_annotated.json', 'cv (4083)_annotated.json', 'cv (2175)_annotated.json', 'cv (119)_annotated.json', 'cv (4952)_annotated.json', 'cv (3605)_annotated.json', 'cv (951)_annotated.json', 'cv (1605)_annotated.json', 'cv (4118)_annotated.json', 'cv (4085)_annotated.json', 'cv (676)_annotated.json', 'cv (4205)_annotated.json', 'cv (1577)_annotated.json', 'cv (2608)_annotated.json', 'cv (3303)_annotated.json', 'cv (4447)_annotated.json', 'cv (619)_annotated.json', 'cv (782)_annotated.json', 'cv (769)_annotated.json', 'cv (1718)_annotated.json', 'cv (2633)_annotated.json', 'cv (2658)_annotated.json', 'cv (2511)_annotated.json', 'cv (1)_annotated.json', 'cv (3205)_annotated.json', 'cv (3135)_annotated.json', 'cv (352)_annotated.json', 'cv (3198)_annotated.json', 'cv (3597)_annotated.json', 'cv (59)_annotated.json', 'cv (691)_annotated.json', 'cv (2317)_annotated.json', 'cv (2827)_annotated.json', 'cv (4793)_annotated.json', 'cv (4364)_annotated.json', 'cv (3947)_annotated.json', 'cv (1385)_annotated.json', 'cv (1848)_annotated.json', 'cv (1290)_annotated.json', 'cv (1805)_annotated.json', 'cv (4809)_annotated.json', 'cv (2285)_annotated.json', 'cv (1626)_annotated.json', 'cv (2466)_annotated.json', 'cv (592)_annotated.json', 'cv (858)_annotated.json', 'cv (2533)_annotated.json', 'cv (3438)_annotated.json', 'cv (2701)_annotated.json', 'cv (3230)_annotated.json', 'cv (1481)_annotated.json', 'cv (752)_annotated.json', 'cv (3522)_annotated.json', 'cv (608)_annotated.json', 'cv (1658)_annotated.json', 'cv (2858)_annotated.json', 'cv (4149)_annotated.json', 'cv (1709)_annotated.json', 'cv (2696)_annotated.json', 'cv (2685)_annotated.json', 'cv (2906)_annotated.json', 'cv (2086)_annotated.json', 'cv (5014)_annotated.json', 'cv (680)_annotated.json', 'cv (306)_annotated.json', 'cv (3456)_annotated.json', 'cv (1291)_annotated.json', 'cv (2159)_annotated.json', 'cv (2820)_annotated.json', 'cv (785)_annotated.json', 'cv (136)_annotated.json', 'cv (664)_annotated.json', 'cv (648)_annotated.json', 'cv (4281)_annotated.json', 'cv (2545)_annotated.json', 'cv (2169)_annotated.json', 'cv (4953)_annotated.json', 'cv (3734)_annotated.json', 'cv (3298)_annotated.json', 'cv (103)_annotated.json', 'cv (3675)_annotated.json', 'cv (1103)_annotated.json', 'cv (3010)_annotated.json', 'cv (2386)_annotated.json']\n"
          ]
        }
      ],
      "source": [
        "import zipfile\n",
        "import os\n",
        "\n",
        "# Unzip Jobdesc.zip\n",
        "with zipfile.ZipFile('Jobdesc.zip', 'r') as zip_ref:\n",
        "    zip_ref.extractall('JobDesc')\n",
        "print(os.listdir('JobDesc'))\n",
        "\n",
        "# Unzip ResumesJsonAnnotated.zip\n",
        "with zipfile.ZipFile('ResumeJSONAnnotated.zip', 'r') as zip_ref:\n",
        "    zip_ref.extractall('ResumeJSONAnnotated')\n",
        "print(os.listdir('ResumeJSONAnnotated'))"
      ]
    },
    {
      "cell_type": "code",
      "source": [
        "import os, json, glob, textwrap"
      ],
      "metadata": {
        "id": "L-DC0XQoQTil"
      },
      "id": "L-DC0XQoQTil",
      "execution_count": 7,
      "outputs": []
    },
    {
      "cell_type": "code",
      "execution_count": 8,
      "id": "32c1131b",
      "metadata": {
        "colab": {
          "base_uri": "https://localhost:8080/"
        },
        "id": "32c1131b",
        "outputId": "03440c16-ea8a-4031-8039-9e3c1f676174"
      },
      "outputs": [
        {
          "output_type": "stream",
          "name": "stdout",
          "text": [
            "Kaggle resume exists: True\n",
            "HF resume dir exists: False\n",
            "Jobdesc dir exists: False\n",
            "\n",
            "Kaggle sample keys: ['content', 'annotation', 'extras']\n",
            "\n",
            "Sample text (first 400 chars):\n",
            " Abhishek Jha Application Development Associate - Accenture  Bengaluru, Karnataka - Email me on Indeed:\n",
            "indeed.com/r/Abhishek-Jha/10e7a8cb732bc43a  • To work for an organization which provides me the opportunity to improve\n",
            "my skills and knowledge for my individual and company's growth in best possible ways.  Willing to relocate to:\n",
            "Bangalore, Karnataka  WORK EXPERIENCE  Application Development Asso\n"
          ]
        }
      ],
      "source": [
        "# Kaggle/Dataturks JSON\n",
        "RESUME_KAGGLE_PATH = 'ResumeNER.json'\n",
        "# extracted folder from ResumeJSONAnnotated.zip\n",
        "RESUME_HF_DIR = 'ResumesJsonAnnotated'\n",
        "# extracted job descriptions\n",
        "JOBDESC_DIR = 'Jobdesc'\n",
        "\n",
        "print('Kaggle resume exists:', os.path.exists(RESUME_KAGGLE_PATH))\n",
        "print('HF resume dir exists:', os.path.exists(RESUME_HF_DIR))\n",
        "print('Jobdesc dir exists:', os.path.exists(JOBDESC_DIR))\n",
        "\n",
        "# Show samples\n",
        "if os.path.exists(RESUME_KAGGLE_PATH):\n",
        "    with open(RESUME_KAGGLE_PATH, 'r', encoding='utf-8') as f:\n",
        "        sample = json.loads(f.readline())\n",
        "    print('\\nKaggle sample keys:', list(sample.keys()))\n",
        "    print('\\nSample text (first 400 chars):\\n', textwrap.fill(sample.get('content','')[:400], width=120))\n",
        "\n",
        "if os.path.exists(RESUME_HF_DIR):\n",
        "    hf_files = glob.glob(os.path.join(RESUME_HF_DIR, '*.json'))[:3]\n",
        "    print('\\nHuggingFace JSON files found (example 3):', hf_files)\n",
        "    if hf_files:\n",
        "        with open(hf_files[0], 'r', encoding='utf-8') as f:\n",
        "            hf_sample = json.load(f)\n",
        "        print('\\nHF sample keys:', list(hf_sample.keys()))\n",
        "        print('\\nHF sample content (first 400 chars):\\n', textwrap.fill(hf_sample.get('content','')[:400], width=120))\n",
        "\n",
        "if os.path.exists(JOBDESC_DIR):\n",
        "    jd_files = glob.glob(os.path.join(JOBDESC_DIR, '*'))[:5]\n",
        "    print('\\nJobdesc files (example):', jd_files)"
      ]
    },
    {
      "cell_type": "code",
      "source": [
        "from nltk.tokenize import word_tokenize\n",
        "import re\n",
        "from tqdm import tqdm"
      ],
      "metadata": {
        "id": "VOme39FHRAyu"
      },
      "id": "VOme39FHRAyu",
      "execution_count": 9,
      "outputs": []
    },
    {
      "cell_type": "markdown",
      "source": [
        "Convert Kaggle/Dataturks format with error handling"
      ],
      "metadata": {
        "id": "Xc9r0thkRZVK"
      },
      "id": "Xc9r0thkRZVK"
    },
    {
      "cell_type": "code",
      "source": [
        "def convert_kaggle_dataturks(kaggle_path):\n",
        "    records = []\n",
        "    with open(kaggle_path, 'r', encoding='utf-8') as f:\n",
        "        for line in f:\n",
        "            if not line.strip():\n",
        "                continue\n",
        "            rec = json.loads(line)\n",
        "            text = rec.get('content') or rec.get('text') or ''\n",
        "            entities = []\n",
        "            for ann in rec.get('annotation', []):\n",
        "                labels = ann.get('label', [])\n",
        "                label = labels[0] if labels else 'MISC'\n",
        "                for p in ann.get('points', []):\n",
        "                    start = p.get('start'); end = p.get('end')\n",
        "                    if start is None or end is None:\n",
        "                        # some variants embed offsets differently; fallback to finding the text\n",
        "                        span = p.get('text', '').strip()\n",
        "                        if span and span in text:\n",
        "                            start = text.index(span)\n",
        "                            end = start + len(span)\n",
        "                        else:\n",
        "                            continue\n",
        "                    entities.append({'start': start, 'end': end, 'label': label.upper()})\n",
        "            records.append({'text': text, 'entities': entities})\n",
        "    return records"
      ],
      "metadata": {
        "id": "ap5uUdMVRHeZ"
      },
      "id": "ap5uUdMVRHeZ",
      "execution_count": 10,
      "outputs": []
    },
    {
      "cell_type": "markdown",
      "source": [
        "Convert HF annotated format with improved error handling"
      ],
      "metadata": {
        "id": "8SFruVRmRer_"
      },
      "id": "8SFruVRmRer_"
    },
    {
      "cell_type": "code",
      "source": [
        "def convert_hf_annotated(hf_dir):\n",
        "    records = []\n",
        "    import glob, os\n",
        "    for p in glob.glob(os.path.join(hf_dir, '*.json')):\n",
        "        with open(p, 'r', encoding='utf-8') as f:\n",
        "            rec = json.load(f)\n",
        "        text = rec.get('content') or rec.get('text') or ''\n",
        "        entities = []\n",
        "        # HF variants sometimes use 'annotation' or 'annotations' or 'entities' keys\n",
        "        ann_key = None\n",
        "        for k in ['annotation','annotations','entities']:\n",
        "            if k in rec:\n",
        "                ann_key = k; break\n",
        "        if ann_key is None:\n",
        "            # trying nested structures\n",
        "            ann_key = 'annotation' if 'annotation' in rec else None\n",
        "        if ann_key:\n",
        "            for ann in rec.get(ann_key, []):\n",
        "                # different formats: ann might be in this format like {label:['X'], points:[{start,end,text}]}\n",
        "                if 'points' in ann:\n",
        "                    labels = ann.get('label', [])\n",
        "                    label = labels[0] if labels else 'MISC'\n",
        "                    for p in ann['points']:\n",
        "                        start = p.get('start'); end = p.get('end')\n",
        "                        if start is None or end is None:\n",
        "                            span = p.get('text','').strip()\n",
        "                            if span and span in text:\n",
        "                                start = text.index(span); end = start + len(span)\n",
        "                            else:\n",
        "                                continue\n",
        "                        entities.append({'start': start, 'end': end, 'label': label.upper()})\n",
        "                else:\n",
        "                    # ann may be like this format {start:.., end:.., label:..}\n",
        "                    start = ann.get('start'); end = ann.get('end'); label = ann.get('label') or ann.get('tag') or 'MISC'\n",
        "                    if start is None or end is None:\n",
        "                        continue\n",
        "                    entities.append({'start': start, 'end': end, 'label': label.upper()})\n",
        "        records.append({'text': text, 'entities': entities})\n",
        "    return records"
      ],
      "metadata": {
        "id": "KXDGbjIVRK8p"
      },
      "id": "KXDGbjIVRK8p",
      "execution_count": 11,
      "outputs": []
    },
    {
      "cell_type": "markdown",
      "source": [
        "Data Processing ⬇"
      ],
      "metadata": {
        "id": "jobMZo0YTFNH"
      },
      "id": "jobMZo0YTFNH"
    },
    {
      "cell_type": "code",
      "source": [
        "# Run conversion on the provided paths (if they exist)\n",
        "kaggle_records = []\n",
        "hf_records = []\n",
        "if os.path.exists(RESUME_KAGGLE_PATH):\n",
        "    kaggle_records = convert_kaggle_dataturks(RESUME_KAGGLE_PATH)\n",
        "    print('Converted Kaggle records:', len(kaggle_records))\n",
        "if os.path.exists(RESUME_HF_DIR):\n",
        "    hf_records = convert_hf_annotated(RESUME_HF_DIR)\n",
        "    print('Converted HF records:', len(hf_records))"
      ],
      "metadata": {
        "colab": {
          "base_uri": "https://localhost:8080/"
        },
        "id": "f7i68VklROJ3",
        "outputId": "2b79f0f4-13e8-4d93-9e93-534f9c031427"
      },
      "id": "f7i68VklROJ3",
      "execution_count": 12,
      "outputs": [
        {
          "output_type": "stream",
          "name": "stdout",
          "text": [
            "Converted Kaggle records: 220\n"
          ]
        }
      ]
    },
    {
      "cell_type": "code",
      "execution_count": 13,
      "id": "fff81c1f",
      "metadata": {
        "colab": {
          "base_uri": "https://localhost:8080/"
        },
        "id": "fff81c1f",
        "outputId": "4480a17b-eff1-46c7-f6a6-78d357acad30"
      },
      "outputs": [
        {
          "output_type": "stream",
          "name": "stdout",
          "text": [
            "\n",
            "Kaggle sample entities: [{'start': 1295, 'end': 1621, 'label': 'SKILLS'}, {'start': 993, 'end': 1153, 'label': 'SKILLS'}, {'start': 939, 'end': 956, 'label': 'COLLEGE NAME'}, {'start': 883, 'end': 904, 'label': 'COLLEGE NAME'}, {'start': 856, 'end': 860, 'label': 'GRADUATION YEAR'}]\n"
          ]
        }
      ],
      "source": [
        "# Inspect a sample mapping\n",
        "if kaggle_records:\n",
        "    print('\\nKaggle sample entities:', kaggle_records[0]['entities'][:5])\n",
        "if hf_records:\n",
        "    print('\\nHF sample entities:', hf_records[0]['entities'][:5])"
      ]
    },
    {
      "cell_type": "markdown",
      "source": [
        "Convert entity spans to BIO format with improved alignment"
      ],
      "metadata": {
        "id": "oqiRgOeeRunQ"
      },
      "id": "oqiRgOeeRunQ"
    },
    {
      "cell_type": "code",
      "source": [
        "def spans_to_bio(text, entities):\n",
        "    try:\n",
        "        tokens = word_tokenize(text)\n",
        "        if not tokens:\n",
        "            return [], []\n",
        "        # Compute character offsets for tokens\n",
        "        offsets = []\n",
        "        cursor = 0\n",
        "        for token in tokens:\n",
        "            idx = text.find(token, cursor)\n",
        "            if idx == -1:\n",
        "                # Fallback for tokenization mismatches\n",
        "                idx = cursor\n",
        "                cursor += 1\n",
        "            else:\n",
        "                cursor = idx + len(token)\n",
        "            offsets.append((idx, idx + len(token)))\n",
        "        labels = ['O'] * len(tokens)\n",
        "\n",
        "        for ent in entities:\n",
        "            s, e, lab = ent['start'], ent['end'], ent['label']\n",
        "            start_idx = None\n",
        "            end_idx = None\n",
        "            # Token overlaps with entity span\n",
        "            for i, (a, b) in enumerate(offsets):\n",
        "                if b > s and a < e:\n",
        "                    if start_idx is None:\n",
        "                        start_idx = i\n",
        "                    end_idx = i\n",
        "            if start_idx is not None:\n",
        "                labels[start_idx] = 'B-' + lab\n",
        "                for j in range(start_idx + 1, end_idx + 1):\n",
        "                    if j < len(labels):\n",
        "                        labels[j] = 'I-' + lab\n",
        "\n",
        "        return tokens, labels\n",
        "    except Exception as e:\n",
        "        print(f\"Error in BIO tagging: {e}\")\n",
        "        return [], []"
      ],
      "metadata": {
        "id": "6pluGpUlRxEh"
      },
      "id": "6pluGpUlRxEh",
      "execution_count": 14,
      "outputs": []
    },
    {
      "cell_type": "code",
      "source": [
        "# Apply to combined records\n",
        "combined_examples = []\n",
        "for rec in kaggle_records + hf_records:\n",
        "    text = rec['text']\n",
        "    ents = rec['entities']\n",
        "    toks, labs = spans_to_bio(text, ents)\n",
        "    if len(toks) == 0:\n",
        "        continue\n",
        "    combined_examples.append({'tokens': toks, 'labels': labs, 'text': text})"
      ],
      "metadata": {
        "id": "rd_R7vllR0Lf"
      },
      "id": "rd_R7vllR0Lf",
      "execution_count": 15,
      "outputs": []
    },
    {
      "cell_type": "code",
      "execution_count": 16,
      "id": "7f5c1195",
      "metadata": {
        "colab": {
          "base_uri": "https://localhost:8080/"
        },
        "id": "7f5c1195",
        "outputId": "ff531787-7764-4b27-a20f-68049ce48e12"
      },
      "outputs": [
        {
          "output_type": "stream",
          "name": "stdout",
          "text": [
            "Total tokenized examples: 220\n",
            "Sample tokens: ['Abhishek', 'Jha', 'Application', 'Development', 'Associate', '-', 'Accenture', 'Bengaluru', ',', 'Karnataka', '-', 'Email', 'me', 'on', 'Indeed', ':', 'indeed.com/r/Abhishek-Jha/10e7a8cb732bc43a', '•', 'To', 'work']\n",
            "Sample labels: ['B-NAME', 'I-NAME', 'B-DESIGNATION', 'I-DESIGNATION', 'I-DESIGNATION', 'O', 'B-COMPANIES WORKED AT', 'B-LOCATION', 'O', 'O', 'O', 'O', 'O', 'O', 'B-EMAIL ADDRESS', 'I-EMAIL ADDRESS', 'I-EMAIL ADDRESS', 'O', 'O', 'O']\n"
          ]
        }
      ],
      "source": [
        "print('Total tokenized examples:', len(combined_examples))\n",
        "print('Sample tokens:', combined_examples[0]['tokens'][:20])\n",
        "print('Sample labels:', combined_examples[0]['labels'][:20])"
      ]
    },
    {
      "cell_type": "markdown",
      "source": [
        "Label Normalisatoin"
      ],
      "metadata": {
        "id": "OdBvcvaJSPOk"
      },
      "id": "OdBvcvaJSPOk"
    },
    {
      "cell_type": "code",
      "source": [
        "label_map = {\n",
        "    'NAME':'NAME','PERSON':'NAME',\n",
        "    'EMAIL ADDRESS':'EMAIL','EMAIL':'EMAIL','E-MAIL':'EMAIL',\n",
        "    'PHONE':'PHONE','MOBILE':'PHONE','CONTACT':'PHONE',\n",
        "    'COMPANIES WORKED AT':'ORG','COMPANY':'ORG','ORGANIZATION':'ORG',\n",
        "    'DESIGNATION':'TITLE','TITLE':'TITLE','ROLE':'TITLE',\n",
        "    'SKILLS':'SKILL','TECHNICAL SKILLS':'SKILL','SKILL':'SKILL',\n",
        "    'COLLEGE NAME':'ORG','DEGREE':'DEGREE','GRADUATION YEAR':'DATE',\n",
        "    'LOCATION':'LOCATION','ADDRESS':'LOCATION'\n",
        "}"
      ],
      "metadata": {
        "id": "NZ3b8U-hR7_x"
      },
      "id": "NZ3b8U-hR7_x",
      "execution_count": 17,
      "outputs": []
    },
    {
      "cell_type": "markdown",
      "source": [
        "Normalize entity labels to standard format"
      ],
      "metadata": {
        "id": "bdITiY9HSN43"
      },
      "id": "bdITiY9HSN43"
    },
    {
      "cell_type": "code",
      "source": [
        "def normalize_label(lab):\n",
        "    if lab == 'O':\n",
        "        return 'O'\n",
        "    if '-' in lab:\n",
        "        pref, ent = lab.split('-',1)\n",
        "    else:\n",
        "        pref, ent = 'B', lab\n",
        "    ent = ent.strip().upper()\n",
        "    ent_norm = label_map.get(ent, ent)\n",
        "    return pref + '-' + ent_norm"
      ],
      "metadata": {
        "id": "GLuxfePzR-81"
      },
      "id": "GLuxfePzR-81",
      "execution_count": 18,
      "outputs": []
    },
    {
      "cell_type": "code",
      "execution_count": 19,
      "id": "b3e5726e",
      "metadata": {
        "colab": {
          "base_uri": "https://localhost:8080/"
        },
        "id": "b3e5726e",
        "outputId": "02ec4d00-85c9-4e14-df74-8dbd0f08af2e"
      },
      "outputs": [
        {
          "output_type": "stream",
          "name": "stdout",
          "text": [
            "Entity labels found: ['B-DATE', 'B-DEGREE', 'B-EMAIL', 'B-LOCATION', 'B-MISC', 'B-NAME', 'B-ORG', 'B-SKILL', 'B-TITLE', 'B-UNKNOWN', 'B-YEARS OF EXPERIENCE', 'I-DEGREE', 'I-EMAIL', 'I-LOCATION', 'I-NAME', 'I-ORG', 'I-SKILL', 'I-TITLE', 'I-UNKNOWN', 'I-YEARS OF EXPERIENCE']\n"
          ]
        }
      ],
      "source": [
        "for ex in combined_examples:\n",
        "    ex['labels'] = [normalize_label(l) for l in ex['labels']]\n",
        "\n",
        "# list labels used\n",
        "all_labels = sorted({lab for ex in combined_examples for lab in ex['labels'] if lab!='O'})\n",
        "print('Entity labels found:', all_labels)"
      ]
    },
    {
      "cell_type": "markdown",
      "source": [
        "Loading data"
      ],
      "metadata": {
        "id": "oYiT1iywTUEZ"
      },
      "id": "oYiT1iywTUEZ"
    },
    {
      "cell_type": "code",
      "source": [
        "from pathlib import Path\n",
        "import json"
      ],
      "metadata": {
        "id": "kW-Jn7-xTSxu"
      },
      "id": "kW-Jn7-xTSxu",
      "execution_count": 20,
      "outputs": []
    },
    {
      "cell_type": "code",
      "execution_count": 21,
      "id": "be029c31",
      "metadata": {
        "colab": {
          "base_uri": "https://localhost:8080/"
        },
        "id": "be029c31",
        "outputId": "80b4a7ab-226f-4abc-9b2d-7a3f6855a6e6"
      },
      "outputs": [
        {
          "output_type": "stream",
          "name": "stdout",
          "text": [
            "Saved ner_unified.jsonl\n"
          ]
        }
      ],
      "source": [
        "out_path = 'ner_unified.jsonl'\n",
        "with open(out_path, 'w', encoding='utf-8') as f:\n",
        "    for ex in combined_examples:\n",
        "        # keep tokens and labels\n",
        "        f.write(json.dumps({'tokens': ex['tokens'], 'labels': ex['labels'], 'text': ex['text']}) + '\\n')\n",
        "print('Saved', out_path)"
      ]
    },
    {
      "cell_type": "markdown",
      "source": [
        "load creates dataset with 'tokens','labels','text' columns"
      ],
      "metadata": {
        "id": "ybqXqZd-T00l"
      },
      "id": "ybqXqZd-T00l"
    },
    {
      "cell_type": "code",
      "source": [
        "# Load with datasets (token classification expects tokens or words)\n",
        "from datasets import load_dataset\n",
        "ds = load_dataset('json', data_files=out_path, field='data' if False else None)  # fallback to simple load\n",
        "print(ds)"
      ],
      "metadata": {
        "colab": {
          "base_uri": "https://localhost:8080/",
          "height": 153,
          "referenced_widgets": [
            "772effa6748a4ae69f9d8f7996e6ffce",
            "6b04a154c8144da482b9638d846941c3",
            "55d5007b3f974b2a8531672104a8000c",
            "078ab894c98a4282bf159c0a169a27d4",
            "98a763882c674bed9230cc765e3053b7",
            "2da1efae929249edafe453faf5ce31d4",
            "17a7c07b65f9423285b02ec58d721a0b",
            "41b769ff186c4a03971366c30dba3917",
            "2cfdc726e597417db225ea172d083ddf",
            "736415b32dc8476485af6103c59b4350",
            "4240a24c8e8b4d6b96fcab234b87a656"
          ]
        },
        "id": "OOZoCkCwTpNe",
        "outputId": "c49b073b-816e-421a-feaf-13c02ac480d5"
      },
      "id": "OOZoCkCwTpNe",
      "execution_count": 22,
      "outputs": [
        {
          "output_type": "display_data",
          "data": {
            "text/plain": [
              "Generating train split: 0 examples [00:00, ? examples/s]"
            ],
            "application/vnd.jupyter.widget-view+json": {
              "version_major": 2,
              "version_minor": 0,
              "model_id": "772effa6748a4ae69f9d8f7996e6ffce"
            }
          },
          "metadata": {}
        },
        {
          "output_type": "stream",
          "name": "stdout",
          "text": [
            "DatasetDict({\n",
            "    train: Dataset({\n",
            "        features: ['tokens', 'labels', 'text'],\n",
            "        num_rows: 220\n",
            "    })\n",
            "})\n"
          ]
        }
      ]
    },
    {
      "cell_type": "markdown",
      "source": [
        "Model Setup"
      ],
      "metadata": {
        "id": "JS87T-3fT_I2"
      },
      "id": "JS87T-3fT_I2"
    },
    {
      "cell_type": "code",
      "source": [
        "from transformers import AutoTokenizer\n",
        "model_checkpoint = 'distilbert-base-cased'  # smaller/faster; switch to bert-base-cased if you prefer\n",
        "tokenizer = AutoTokenizer.from_pretrained(model_checkpoint, use_fast=True)"
      ],
      "metadata": {
        "colab": {
          "base_uri": "https://localhost:8080/",
          "height": 249,
          "referenced_widgets": [
            "3ff7d4b2e6bd483fb2683daf2f2e43c4",
            "91c545ea5a16464aa301d5bbf7e48b82",
            "fea0d632385947e8a873c5868eb0153e",
            "f039a9a2a9b44bc6a0c63a39ae9e5159",
            "95fe5f5a924a48e2840e24b55de89b79",
            "b426fb4a39634e178508910b7a19829e",
            "139020032f6b4d7abe244b44be24952a",
            "7965dafcf37f4b7ab90b38efcca0eba7",
            "9cd0304654c840f290387e111bce325d",
            "51943e968e114af2b2e5a63188dbd347",
            "b2768a677df74820bdac14abedb3824e",
            "bce8b737e7814184aa4792636dac1730",
            "82d63506f2c94267ae11c44278d6911b",
            "bf7001c76ce743f59bad72d924f7974e",
            "a2aa9efb6d1a46d3a2a78c60c8b0a1a1",
            "cd68d24eb83f4e90b37428fb97b49867",
            "74ed10ba3703482bb5b321afe9302de1",
            "fe1411c0b3f94984a5448ed824c30ab9",
            "df2eb364d76041e3925498638c192414",
            "b7d4c4ccbfad480e82f48814dc0735a8",
            "749875be3286443e85e97a04e715d7eb",
            "7437c06359ba4315a9ae3d2f02d23068",
            "b342390d90ae46cdb26fb8d4e08764cf",
            "027b629604b949f3ac30f24b45d4b12d",
            "21c584f0134549b6af2e3ecf3238a924",
            "a2c39b8e8b0546d59b0634ded014ddfb",
            "9bf6dcad7c834687b157cdb3c126727b",
            "bba4bd80b2a744e6a4140daa68264f74",
            "dafd6fa0b2d94dae9fdec73493cc400f",
            "0a754e8465f24cc6a7a0f75381806f69",
            "e443f63f3a1946fe8b90e1a29fd4f0f1",
            "adfe068a0e9549b0b00355b801bd74e4",
            "b0ef2684ddbb47888b6a5e83f97dfa31",
            "27b3a0204bfa437ba42c2c6a69d23446",
            "70b35ffd883a40eea09a235391eb7d03",
            "9a75603186ec4086b393b7164a635421",
            "764e8ee42b0f41dfb04985bf0d770e5f",
            "bae0ef763ac341b39a02fca5b7ed69a2",
            "ac5b8822880642b589bab2f80b4f47ad",
            "1fd311360d204037a631ea30cce8449f",
            "c89f1c32d25b4365a3eed86c9c7a3c9b",
            "e02640bfafaa419abff087d0f4e4aeeb",
            "15f30c4c0cae4f0e8066bef514204765",
            "ab8df394a5b0477f99471b7efd181827"
          ]
        },
        "id": "UXypkjOST7z2",
        "outputId": "1ea286b8-2e8a-4b58-8424-6f7a62272aeb"
      },
      "id": "UXypkjOST7z2",
      "execution_count": 23,
      "outputs": [
        {
          "output_type": "stream",
          "name": "stderr",
          "text": [
            "/usr/local/lib/python3.12/dist-packages/huggingface_hub/utils/_auth.py:94: UserWarning: \n",
            "The secret `HF_TOKEN` does not exist in your Colab secrets.\n",
            "To authenticate with the Hugging Face Hub, create a token in your settings tab (https://huggingface.co/settings/tokens), set it as secret in your Google Colab and restart your session.\n",
            "You will be able to reuse this secret in all of your notebooks.\n",
            "Please note that authentication is recommended but still optional to access public models or datasets.\n",
            "  warnings.warn(\n"
          ]
        },
        {
          "output_type": "display_data",
          "data": {
            "text/plain": [
              "tokenizer_config.json:   0%|          | 0.00/49.0 [00:00<?, ?B/s]"
            ],
            "application/vnd.jupyter.widget-view+json": {
              "version_major": 2,
              "version_minor": 0,
              "model_id": "3ff7d4b2e6bd483fb2683daf2f2e43c4"
            }
          },
          "metadata": {}
        },
        {
          "output_type": "display_data",
          "data": {
            "text/plain": [
              "config.json:   0%|          | 0.00/465 [00:00<?, ?B/s]"
            ],
            "application/vnd.jupyter.widget-view+json": {
              "version_major": 2,
              "version_minor": 0,
              "model_id": "bce8b737e7814184aa4792636dac1730"
            }
          },
          "metadata": {}
        },
        {
          "output_type": "display_data",
          "data": {
            "text/plain": [
              "vocab.txt:   0%|          | 0.00/213k [00:00<?, ?B/s]"
            ],
            "application/vnd.jupyter.widget-view+json": {
              "version_major": 2,
              "version_minor": 0,
              "model_id": "b342390d90ae46cdb26fb8d4e08764cf"
            }
          },
          "metadata": {}
        },
        {
          "output_type": "display_data",
          "data": {
            "text/plain": [
              "tokenizer.json:   0%|          | 0.00/436k [00:00<?, ?B/s]"
            ],
            "application/vnd.jupyter.widget-view+json": {
              "version_major": 2,
              "version_minor": 0,
              "model_id": "27b3a0204bfa437ba42c2c6a69d23446"
            }
          },
          "metadata": {}
        }
      ]
    },
    {
      "cell_type": "markdown",
      "source": [
        "Labl mapping creation"
      ],
      "metadata": {
        "id": "MzB3AaV9UZO8"
      },
      "id": "MzB3AaV9UZO8"
    },
    {
      "cell_type": "code",
      "source": [
        "label_set = set()\n",
        "dataset_key = 'train' if 'train' in ds else list(ds.keys())[0]\n",
        "\n",
        "for labels_list in ds[dataset_key]['labels']:\n",
        "    for label in labels_list:\n",
        "        label_set.add(label)\n",
        "\n",
        "label_list = ['O'] + sorted([l for l in label_set if l != 'O'])\n",
        "label2id = {l: i for i, l in enumerate(label_list)}\n",
        "id2label = {i: l for l, i in label2id.items()}\n",
        "\n",
        "print('Number of labels:', len(label_list))\n",
        "print('Label list:', label_list[:10])  # Show first 10"
      ],
      "metadata": {
        "colab": {
          "base_uri": "https://localhost:8080/"
        },
        "id": "-YGkqdEHUVTn",
        "outputId": "69632199-bba8-4170-cf91-d0d6787ecd52"
      },
      "id": "-YGkqdEHUVTn",
      "execution_count": 24,
      "outputs": [
        {
          "output_type": "stream",
          "name": "stdout",
          "text": [
            "Number of labels: 21\n",
            "Label list: ['O', 'B-DATE', 'B-DEGREE', 'B-EMAIL', 'B-LOCATION', 'B-MISC', 'B-NAME', 'B-ORG', 'B-SKILL', 'B-TITLE']\n"
          ]
        }
      ]
    },
    {
      "cell_type": "code",
      "execution_count": 25,
      "id": "6796196b",
      "metadata": {
        "id": "6796196b"
      },
      "outputs": [],
      "source": [
        "# Tokenize & align (works on 'tokens' using is_split_into_words=True)\n",
        "def tokenize_and_align_labels(batch):\n",
        "    tokenized_inputs = tokenizer(batch['tokens'], is_split_into_words=True, truncation=True, padding='max_length', max_length=256)\n",
        "    labels = []\n",
        "    for i, lab in enumerate(batch['labels']):\n",
        "        word_ids = tokenized_inputs.word_ids(batch_index=i)\n",
        "        previous_word_idx = None\n",
        "        label_ids = []\n",
        "        for word_idx in word_ids:\n",
        "            if word_idx is None:\n",
        "                label_ids.append(-100)\n",
        "            elif word_idx != previous_word_idx:\n",
        "                label_ids.append(label2id.get(lab[word_idx], label2id['O']))\n",
        "            else:\n",
        "                # For tokens created from the same word, use -100 to ignore or use I- prefix\n",
        "                # We'll set -100 to ignore sub-tokens\n",
        "                label_ids.append(-100)\n",
        "            previous_word_idx = word_idx\n",
        "        labels.append(label_ids)\n",
        "    tokenized_inputs['labels'] = labels\n",
        "    return tokenized_inputs"
      ]
    },
    {
      "cell_type": "markdown",
      "source": [
        "Convert to dataset object that Trainer expects"
      ],
      "metadata": {
        "id": "Az46mvjaVPCG"
      },
      "id": "Az46mvjaVPCG"
    },
    {
      "cell_type": "code",
      "source": [
        "try:\n",
        "    tokenized_ds = ds.map(tokenize_and_align_labels, batched=True)\n",
        "    print(\"Tokenization successful\")\n",
        "    print(tokenized_ds)\n",
        "except Exception as e:\n",
        "    print(f\"Tokenization error: {e}\")"
      ],
      "metadata": {
        "colab": {
          "base_uri": "https://localhost:8080/",
          "height": 170,
          "referenced_widgets": [
            "41c50f075ab84190979b3e45dee6a44e",
            "550f00f2f4824b529a48b81cfac9ab0e",
            "4adbc930262d4f89b6f174f2d890a7b4",
            "72fd48fd92b14e878ccdf17a73b7fe1a",
            "89c4876d82c94bc8ab8a753a094dec16",
            "a43237201eed4e8a8f11d15615b8ef11",
            "0a07ffa2a4374800be95a46763e502eb",
            "ff492d0cc5524f60acf2f35729bcbb66",
            "a468147963af48b1aa759a8a76b00685",
            "002f7cc0fc14495092e9e2583273a068",
            "3e2191225db340d9956493bb65b8a57d"
          ]
        },
        "id": "o6N6Adl4UhLr",
        "outputId": "edd0e867-8420-4ebb-b1bf-08a7b581cffb"
      },
      "id": "o6N6Adl4UhLr",
      "execution_count": 26,
      "outputs": [
        {
          "output_type": "display_data",
          "data": {
            "text/plain": [
              "Map:   0%|          | 0/220 [00:00<?, ? examples/s]"
            ],
            "application/vnd.jupyter.widget-view+json": {
              "version_major": 2,
              "version_minor": 0,
              "model_id": "41c50f075ab84190979b3e45dee6a44e"
            }
          },
          "metadata": {}
        },
        {
          "output_type": "stream",
          "name": "stdout",
          "text": [
            "Tokenization successful\n",
            "DatasetDict({\n",
            "    train: Dataset({\n",
            "        features: ['tokens', 'labels', 'text', 'input_ids', 'attention_mask'],\n",
            "        num_rows: 220\n",
            "    })\n",
            "})\n"
          ]
        }
      ]
    },
    {
      "cell_type": "code",
      "execution_count": 27,
      "id": "d8PDhgYzPNtl",
      "metadata": {
        "colab": {
          "base_uri": "https://localhost:8080/"
        },
        "id": "d8PDhgYzPNtl",
        "outputId": "c7d33baf-937b-435b-f4ac-eb8c751b2b83"
      },
      "outputs": [
        {
          "output_type": "stream",
          "name": "stdout",
          "text": [
            "Requirement already satisfied: evaluate in /usr/local/lib/python3.12/dist-packages (0.4.5)\n",
            "Requirement already satisfied: datasets>=2.0.0 in /usr/local/lib/python3.12/dist-packages (from evaluate) (4.0.0)\n",
            "Requirement already satisfied: numpy>=1.17 in /usr/local/lib/python3.12/dist-packages (from evaluate) (2.0.2)\n",
            "Requirement already satisfied: dill in /usr/local/lib/python3.12/dist-packages (from evaluate) (0.3.8)\n",
            "Requirement already satisfied: pandas in /usr/local/lib/python3.12/dist-packages (from evaluate) (2.2.2)\n",
            "Requirement already satisfied: requests>=2.19.0 in /usr/local/lib/python3.12/dist-packages (from evaluate) (2.32.4)\n",
            "Requirement already satisfied: tqdm>=4.62.1 in /usr/local/lib/python3.12/dist-packages (from evaluate) (4.67.1)\n",
            "Requirement already satisfied: xxhash in /usr/local/lib/python3.12/dist-packages (from evaluate) (3.5.0)\n",
            "Requirement already satisfied: multiprocess in /usr/local/lib/python3.12/dist-packages (from evaluate) (0.70.16)\n",
            "Requirement already satisfied: fsspec>=2021.05.0 in /usr/local/lib/python3.12/dist-packages (from fsspec[http]>=2021.05.0->evaluate) (2025.3.0)\n",
            "Requirement already satisfied: huggingface-hub>=0.7.0 in /usr/local/lib/python3.12/dist-packages (from evaluate) (0.34.4)\n",
            "Requirement already satisfied: packaging in /usr/local/lib/python3.12/dist-packages (from evaluate) (25.0)\n",
            "Requirement already satisfied: filelock in /usr/local/lib/python3.12/dist-packages (from datasets>=2.0.0->evaluate) (3.19.1)\n",
            "Requirement already satisfied: pyarrow>=15.0.0 in /usr/local/lib/python3.12/dist-packages (from datasets>=2.0.0->evaluate) (18.1.0)\n",
            "Requirement already satisfied: pyyaml>=5.1 in /usr/local/lib/python3.12/dist-packages (from datasets>=2.0.0->evaluate) (6.0.2)\n",
            "Requirement already satisfied: aiohttp!=4.0.0a0,!=4.0.0a1 in /usr/local/lib/python3.12/dist-packages (from fsspec[http]>=2021.05.0->evaluate) (3.12.15)\n",
            "Requirement already satisfied: typing-extensions>=3.7.4.3 in /usr/local/lib/python3.12/dist-packages (from huggingface-hub>=0.7.0->evaluate) (4.15.0)\n",
            "Requirement already satisfied: hf-xet<2.0.0,>=1.1.3 in /usr/local/lib/python3.12/dist-packages (from huggingface-hub>=0.7.0->evaluate) (1.1.8)\n",
            "Requirement already satisfied: charset_normalizer<4,>=2 in /usr/local/lib/python3.12/dist-packages (from requests>=2.19.0->evaluate) (3.4.3)\n",
            "Requirement already satisfied: idna<4,>=2.5 in /usr/local/lib/python3.12/dist-packages (from requests>=2.19.0->evaluate) (3.10)\n",
            "Requirement already satisfied: urllib3<3,>=1.21.1 in /usr/local/lib/python3.12/dist-packages (from requests>=2.19.0->evaluate) (2.5.0)\n",
            "Requirement already satisfied: certifi>=2017.4.17 in /usr/local/lib/python3.12/dist-packages (from requests>=2.19.0->evaluate) (2025.8.3)\n",
            "Requirement already satisfied: python-dateutil>=2.8.2 in /usr/local/lib/python3.12/dist-packages (from pandas->evaluate) (2.9.0.post0)\n",
            "Requirement already satisfied: pytz>=2020.1 in /usr/local/lib/python3.12/dist-packages (from pandas->evaluate) (2025.2)\n",
            "Requirement already satisfied: tzdata>=2022.7 in /usr/local/lib/python3.12/dist-packages (from pandas->evaluate) (2025.2)\n",
            "Requirement already satisfied: aiohappyeyeballs>=2.5.0 in /usr/local/lib/python3.12/dist-packages (from aiohttp!=4.0.0a0,!=4.0.0a1->fsspec[http]>=2021.05.0->evaluate) (2.6.1)\n",
            "Requirement already satisfied: aiosignal>=1.4.0 in /usr/local/lib/python3.12/dist-packages (from aiohttp!=4.0.0a0,!=4.0.0a1->fsspec[http]>=2021.05.0->evaluate) (1.4.0)\n",
            "Requirement already satisfied: attrs>=17.3.0 in /usr/local/lib/python3.12/dist-packages (from aiohttp!=4.0.0a0,!=4.0.0a1->fsspec[http]>=2021.05.0->evaluate) (25.3.0)\n",
            "Requirement already satisfied: frozenlist>=1.1.1 in /usr/local/lib/python3.12/dist-packages (from aiohttp!=4.0.0a0,!=4.0.0a1->fsspec[http]>=2021.05.0->evaluate) (1.7.0)\n",
            "Requirement already satisfied: multidict<7.0,>=4.5 in /usr/local/lib/python3.12/dist-packages (from aiohttp!=4.0.0a0,!=4.0.0a1->fsspec[http]>=2021.05.0->evaluate) (6.6.4)\n",
            "Requirement already satisfied: propcache>=0.2.0 in /usr/local/lib/python3.12/dist-packages (from aiohttp!=4.0.0a0,!=4.0.0a1->fsspec[http]>=2021.05.0->evaluate) (0.3.2)\n",
            "Requirement already satisfied: yarl<2.0,>=1.17.0 in /usr/local/lib/python3.12/dist-packages (from aiohttp!=4.0.0a0,!=4.0.0a1->fsspec[http]>=2021.05.0->evaluate) (1.20.1)\n",
            "Requirement already satisfied: six>=1.5 in /usr/local/lib/python3.12/dist-packages (from python-dateutil>=2.8.2->pandas->evaluate) (1.17.0)\n"
          ]
        }
      ],
      "source": [
        "!pip install evaluate"
      ]
    },
    {
      "cell_type": "code",
      "execution_count": 28,
      "id": "1rDwy7SCQc3n",
      "metadata": {
        "colab": {
          "base_uri": "https://localhost:8080/"
        },
        "id": "1rDwy7SCQc3n",
        "outputId": "9518ba62-d843-440d-d119-7b7c2f25a2fe"
      },
      "outputs": [
        {
          "output_type": "stream",
          "name": "stdout",
          "text": [
            "Name: transformers\n",
            "Version: 4.55.4\n",
            "Summary: State-of-the-art Machine Learning for JAX, PyTorch and TensorFlow\n",
            "Home-page: https://github.com/huggingface/transformers\n",
            "Author: The Hugging Face team (past and future) with the help of all our contributors (https://github.com/huggingface/transformers/graphs/contributors)\n",
            "Author-email: transformers@huggingface.co\n",
            "License: Apache 2.0 License\n",
            "Location: /usr/local/lib/python3.12/dist-packages\n",
            "Requires: filelock, huggingface-hub, numpy, packaging, pyyaml, regex, requests, safetensors, tokenizers, tqdm\n",
            "Required-by: peft, sentence-transformers\n"
          ]
        }
      ],
      "source": [
        "!pip show transformers"
      ]
    },
    {
      "cell_type": "markdown",
      "source": [
        "Training Setup"
      ],
      "metadata": {
        "id": "99BZJGfHUmbS"
      },
      "id": "99BZJGfHUmbS"
    },
    {
      "cell_type": "code",
      "source": [
        "from transformers import AutoModelForTokenClassification, Trainer, DataCollatorForTokenClassification\n",
        "from transformers import TrainingArguments\n",
        "from evaluate import load\n",
        "from sklearn.model_selection import train_test_split\n",
        "import numpy as np"
      ],
      "metadata": {
        "id": "yT2MpFrUUqQa"
      },
      "id": "yT2MpFrUUqQa",
      "execution_count": 29,
      "outputs": []
    },
    {
      "cell_type": "code",
      "source": [
        "# Split data for training and validation\n",
        "dataset_key = list(tokenized_ds.keys())[0]\n",
        "full_dataset = tokenized_ds[dataset_key]"
      ],
      "metadata": {
        "id": "HUeO2eHqVpMl"
      },
      "id": "HUeO2eHqVpMl",
      "execution_count": 30,
      "outputs": []
    },
    {
      "cell_type": "code",
      "source": [
        "# Create train/validation split\n",
        "train_indices, val_indices = train_test_split(\n",
        "    range(len(full_dataset)),\n",
        "    test_size=0.2,\n",
        "    random_state=42\n",
        ")"
      ],
      "metadata": {
        "id": "jMP_S-ZnVm1F"
      },
      "id": "jMP_S-ZnVm1F",
      "execution_count": 31,
      "outputs": []
    },
    {
      "cell_type": "code",
      "source": [
        "train_dataset = full_dataset.select(train_indices)\n",
        "val_dataset = full_dataset.select(val_indices)\n",
        "\n",
        "print(f\"Training samples: {len(train_dataset)}\")\n",
        "print(f\"Validation samples: {len(val_dataset)}\")"
      ],
      "metadata": {
        "colab": {
          "base_uri": "https://localhost:8080/"
        },
        "id": "b_1DE6XrVtWq",
        "outputId": "10055787-d5b8-47a1-e0be-f89694412e44"
      },
      "id": "b_1DE6XrVtWq",
      "execution_count": 32,
      "outputs": [
        {
          "output_type": "stream",
          "name": "stdout",
          "text": [
            "Training samples: 176\n",
            "Validation samples: 44\n"
          ]
        }
      ]
    },
    {
      "cell_type": "markdown",
      "source": [
        "model init"
      ],
      "metadata": {
        "id": "_phxUwjRV4J2"
      },
      "id": "_phxUwjRV4J2"
    },
    {
      "cell_type": "code",
      "source": [
        "model = AutoModelForTokenClassification.from_pretrained(\n",
        "    model_checkpoint,\n",
        "    num_labels=len(label_list),\n",
        "    id2label=id2label,\n",
        "    label2id=label2id\n",
        ")"
      ],
      "metadata": {
        "colab": {
          "base_uri": "https://localhost:8080/",
          "height": 104,
          "referenced_widgets": [
            "0bb019ddf45a4ab2849a70f996e69024",
            "ec33445624fa46018e0d8c5105d5b148",
            "42db00254c594a48bb1b330ac0779c78",
            "191e72579f004767ae7c7c4782f4835c",
            "bf2b3e5fe1b1412eabb6a8cebfa98e9f",
            "f4cfa27566e744febabd6f2c50a03b2a",
            "50468e52022a4fe1b2c98601b66fe3ec",
            "5feb0000333d409e83e170bc9e5b2997",
            "c05d59ddd6784f05bd035aa9b8c6aea7",
            "597ac579d9084f8e98b851d84d3bc7c9",
            "264fe9c045cb47b9a77c4bc3c115e639"
          ]
        },
        "id": "OYdAv7qEUsMs",
        "outputId": "37a6d7a1-fcf9-4552-b42b-efd842ada756"
      },
      "id": "OYdAv7qEUsMs",
      "execution_count": 33,
      "outputs": [
        {
          "output_type": "display_data",
          "data": {
            "text/plain": [
              "model.safetensors:   0%|          | 0.00/263M [00:00<?, ?B/s]"
            ],
            "application/vnd.jupyter.widget-view+json": {
              "version_major": 2,
              "version_minor": 0,
              "model_id": "0bb019ddf45a4ab2849a70f996e69024"
            }
          },
          "metadata": {}
        },
        {
          "output_type": "stream",
          "name": "stderr",
          "text": [
            "Some weights of DistilBertForTokenClassification were not initialized from the model checkpoint at distilbert-base-cased and are newly initialized: ['classifier.bias', 'classifier.weight']\n",
            "You should probably TRAIN this model on a down-stream task to be able to use it for predictions and inference.\n"
          ]
        }
      ]
    },
    {
      "cell_type": "markdown",
      "source": [
        "Detect if running in Colab or local environment"
      ],
      "metadata": {
        "id": "ZPRgC0sQbFRn"
      },
      "id": "ZPRgC0sQbFRn"
    },
    {
      "cell_type": "code",
      "source": [
        "def get_base_path():\n",
        "    if '/content' in os.getcwd() or os.path.exists('/content'):\n",
        "        return '/content'\n",
        "    return os.getcwd()\n",
        "\n",
        "BASE_PATH = get_base_path()"
      ],
      "metadata": {
        "id": "vxhlmfahbB4W"
      },
      "id": "vxhlmfahbB4W",
      "execution_count": 36,
      "outputs": []
    },
    {
      "cell_type": "code",
      "source": [
        "args = TrainingArguments(\n",
        "    output_dir=os.path.join(BASE_PATH, 'NER_Resume_Model'),\n",
        "    learning_rate=0.01,\n",
        "    per_device_train_batch_size=30,\n",
        "    per_device_eval_batch_size=30,\n",
        "    num_train_epochs=5,\n",
        "    weight_decay=0.1,\n",
        "    eval_strategy=\"epoch\",\n",
        "    save_strategy=\"epoch\",\n",
        "    save_total_limit=2,\n",
        "    logging_steps=50,\n",
        "    push_to_hub=False,\n",
        "    load_best_model_at_end=True,\n",
        "    optim=\"adamw_torch\"\n",
        ")"
      ],
      "metadata": {
        "id": "fNyopZduV_VF"
      },
      "id": "fNyopZduV_VF",
      "execution_count": 49,
      "outputs": []
    },
    {
      "cell_type": "code",
      "source": [
        "from evaluate import load\n",
        "data_collator = DataCollatorForTokenClassification(tokenizer)\n",
        "metric = load('seqeval')"
      ],
      "metadata": {
        "id": "Mu9-MNvKUvLT"
      },
      "id": "Mu9-MNvKUvLT",
      "execution_count": 50,
      "outputs": []
    },
    {
      "cell_type": "code",
      "source": [
        "from collections import Counter\n",
        "import numpy as np\n",
        "\n",
        "# Check class distribution in your training data\n",
        "def check_class_distribution(dataset):\n",
        "    all_labels = []\n",
        "    for example in dataset:\n",
        "        labels = [label for label in example['labels'] if label != -100]\n",
        "        all_labels.extend(labels)\n",
        "\n",
        "    label_counts = Counter(all_labels)\n",
        "    total = sum(label_counts.values())\n",
        "\n",
        "    print(\"Class distribution:\")\n",
        "    for label_id, count in label_counts.items():\n",
        "        print(f\"{id2label[label_id]}: {count} ({count/total*100:.2f}%)\")\n",
        "\n",
        "    return label_counts\n",
        "\n",
        "check_class_distribution(train_dataset)"
      ],
      "metadata": {
        "colab": {
          "base_uri": "https://localhost:8080/"
        },
        "id": "ZwjsIpI2eRgU",
        "outputId": "acf45925-6f94-4afd-a2f2-d96c76dc8a6e"
      },
      "id": "ZwjsIpI2eRgU",
      "execution_count": 43,
      "outputs": [
        {
          "output_type": "stream",
          "name": "stdout",
          "text": [
            "Class distribution:\n",
            "B-NAME: 175 (0.64%)\n",
            "I-NAME: 173 (0.64%)\n",
            "O: 23365 (85.92%)\n",
            "B-EMAIL: 158 (0.58%)\n",
            "B-YEARS OF EXPERIENCE: 31 (0.11%)\n",
            "B-TITLE: 265 (0.97%)\n",
            "I-TITLE: 512 (1.88%)\n",
            "B-LOCATION: 254 (0.93%)\n",
            "I-EMAIL: 66 (0.24%)\n",
            "B-SKILL: 75 (0.28%)\n",
            "I-SKILL: 979 (3.60%)\n",
            "B-ORG: 351 (1.29%)\n",
            "B-DEGREE: 74 (0.27%)\n",
            "I-DEGREE: 160 (0.59%)\n",
            "I-ORG: 449 (1.65%)\n",
            "B-DATE: 64 (0.24%)\n",
            "I-LOCATION: 11 (0.04%)\n",
            "I-YEARS OF EXPERIENCE: 33 (0.12%)\n"
          ]
        },
        {
          "output_type": "execute_result",
          "data": {
            "text/plain": [
              "Counter({6: 175,\n",
              "         15: 173,\n",
              "         0: 23365,\n",
              "         3: 158,\n",
              "         11: 31,\n",
              "         9: 265,\n",
              "         18: 512,\n",
              "         4: 254,\n",
              "         13: 66,\n",
              "         8: 75,\n",
              "         17: 979,\n",
              "         7: 351,\n",
              "         2: 74,\n",
              "         12: 160,\n",
              "         16: 449,\n",
              "         1: 64,\n",
              "         14: 11,\n",
              "         20: 33})"
            ]
          },
          "metadata": {},
          "execution_count": 43
        }
      ]
    },
    {
      "cell_type": "markdown",
      "source": [
        "Compute evaluation metrics"
      ],
      "metadata": {
        "id": "E_ANO9w7WH0l"
      },
      "id": "E_ANO9w7WH0l"
    },
    {
      "cell_type": "code",
      "source": [
        "def compute_metrics(p):\n",
        "    predictions, labels = p\n",
        "    preds = np.argmax(predictions, axis=2)\n",
        "    true_labels = [[id2label[l] for l in lab if l!=-100] for lab in labels]\n",
        "    true_preds = []\n",
        "    for i, lab in enumerate(labels):\n",
        "        lab_ids = lab\n",
        "        pred_ids = preds[i]\n",
        "        cur_preds = []\n",
        "        for j, lab_id in enumerate(lab_ids):\n",
        "            if lab_id == -100:\n",
        "                continue\n",
        "            cur_preds.append(id2label[pred_ids[j]])\n",
        "        true_preds.append(cur_preds)\n",
        "    results = metric.compute(predictions=true_preds, references=true_labels)\n",
        "    # flatten and return macro-F1 etc.\n",
        "    return {\n",
        "        'precision': results.get('overall_precision'),\n",
        "        'recall': results.get('overall_recall'),\n",
        "        'f1': results.get('overall_f1'),\n",
        "        'accuracy': results.get('overall_accuracy')\n",
        "    }"
      ],
      "metadata": {
        "id": "2NbCIi6sUyos"
      },
      "id": "2NbCIi6sUyos",
      "execution_count": 51,
      "outputs": []
    },
    {
      "cell_type": "markdown",
      "source": [
        "Trainer init"
      ],
      "metadata": {
        "id": "WYGzfp75WPUE"
      },
      "id": "WYGzfp75WPUE"
    },
    {
      "cell_type": "code",
      "execution_count": 52,
      "id": "1ebb55c6",
      "metadata": {
        "colab": {
          "base_uri": "https://localhost:8080/"
        },
        "id": "1ebb55c6",
        "outputId": "19080bb6-e2fa-4d55-a1cf-fd3b21928a09"
      },
      "outputs": [
        {
          "output_type": "stream",
          "name": "stderr",
          "text": [
            "/tmp/ipython-input-2174221180.py:1: FutureWarning: `tokenizer` is deprecated and will be removed in version 5.0.0 for `Trainer.__init__`. Use `processing_class` instead.\n",
            "  trainer = Trainer(\n"
          ]
        }
      ],
      "source": [
        "trainer = Trainer(\n",
        "    model,\n",
        "    args,\n",
        "    train_dataset=train_dataset,\n",
        "    eval_dataset=val_dataset,\n",
        "    data_collator=data_collator,\n",
        "    tokenizer=tokenizer,\n",
        "    compute_metrics=compute_metrics\n",
        ")"
      ]
    },
    {
      "cell_type": "markdown",
      "source": [
        "Training Start"
      ],
      "metadata": {
        "id": "5V-piqeLWVzt"
      },
      "id": "5V-piqeLWVzt"
    },
    {
      "cell_type": "code",
      "source": [
        "trainer.train()\n",
        "trainer.save_model('NER_Resume_Model')"
      ],
      "metadata": {
        "colab": {
          "base_uri": "https://localhost:8080/",
          "height": 564
        },
        "id": "valfasNZIrkx",
        "outputId": "7697918d-5314-4998-e422-412ba15a2dbd"
      },
      "id": "valfasNZIrkx",
      "execution_count": 48,
      "outputs": [
        {
          "output_type": "display_data",
          "data": {
            "text/plain": [
              "<IPython.core.display.HTML object>"
            ],
            "text/html": [
              "\n",
              "    <div>\n",
              "      \n",
              "      <progress value='55' max='55' style='width:300px; height:20px; vertical-align: middle;'></progress>\n",
              "      [55/55 02:18, Epoch 5/5]\n",
              "    </div>\n",
              "    <table border=\"1\" class=\"dataframe\">\n",
              "  <thead>\n",
              " <tr style=\"text-align: left;\">\n",
              "      <th>Epoch</th>\n",
              "      <th>Training Loss</th>\n",
              "      <th>Validation Loss</th>\n",
              "      <th>Precision</th>\n",
              "      <th>Recall</th>\n",
              "      <th>F1</th>\n",
              "      <th>Accuracy</th>\n",
              "    </tr>\n",
              "  </thead>\n",
              "  <tbody>\n",
              "    <tr>\n",
              "      <td>1</td>\n",
              "      <td>No log</td>\n",
              "      <td>2.837379</td>\n",
              "      <td>0.000000</td>\n",
              "      <td>0.000000</td>\n",
              "      <td>0.000000</td>\n",
              "      <td>0.000584</td>\n",
              "    </tr>\n",
              "    <tr>\n",
              "      <td>2</td>\n",
              "      <td>No log</td>\n",
              "      <td>1.043439</td>\n",
              "      <td>0.000000</td>\n",
              "      <td>0.000000</td>\n",
              "      <td>0.000000</td>\n",
              "      <td>0.855036</td>\n",
              "    </tr>\n",
              "    <tr>\n",
              "      <td>3</td>\n",
              "      <td>No log</td>\n",
              "      <td>0.800066</td>\n",
              "      <td>0.000000</td>\n",
              "      <td>0.000000</td>\n",
              "      <td>0.000000</td>\n",
              "      <td>0.855036</td>\n",
              "    </tr>\n",
              "    <tr>\n",
              "      <td>4</td>\n",
              "      <td>No log</td>\n",
              "      <td>0.776743</td>\n",
              "      <td>0.000000</td>\n",
              "      <td>0.000000</td>\n",
              "      <td>0.000000</td>\n",
              "      <td>0.855036</td>\n",
              "    </tr>\n",
              "    <tr>\n",
              "      <td>5</td>\n",
              "      <td>2.317200</td>\n",
              "      <td>0.777737</td>\n",
              "      <td>0.000000</td>\n",
              "      <td>0.000000</td>\n",
              "      <td>0.000000</td>\n",
              "      <td>0.855036</td>\n",
              "    </tr>\n",
              "  </tbody>\n",
              "</table><p>"
            ]
          },
          "metadata": {}
        },
        {
          "output_type": "stream",
          "name": "stderr",
          "text": [
            "/usr/local/lib/python3.12/dist-packages/seqeval/metrics/v1.py:57: UndefinedMetricWarning: Precision and F-score are ill-defined and being set to 0.0 in labels with no predicted samples. Use `zero_division` parameter to control this behavior.\n",
            "  _warn_prf(average, modifier, msg_start, len(result))\n",
            "/usr/local/lib/python3.12/dist-packages/seqeval/metrics/v1.py:57: UndefinedMetricWarning: Precision and F-score are ill-defined and being set to 0.0 in labels with no predicted samples. Use `zero_division` parameter to control this behavior.\n",
            "  _warn_prf(average, modifier, msg_start, len(result))\n",
            "/usr/local/lib/python3.12/dist-packages/seqeval/metrics/v1.py:57: UndefinedMetricWarning: Precision and F-score are ill-defined and being set to 0.0 due to no predicted samples. Use `zero_division` parameter to control this behavior.\n",
            "  _warn_prf(average, modifier, msg_start, len(result))\n",
            "/usr/local/lib/python3.12/dist-packages/seqeval/metrics/v1.py:57: UndefinedMetricWarning: Precision and F-score are ill-defined and being set to 0.0 in labels with no predicted samples. Use `zero_division` parameter to control this behavior.\n",
            "  _warn_prf(average, modifier, msg_start, len(result))\n",
            "/usr/local/lib/python3.12/dist-packages/seqeval/metrics/v1.py:57: UndefinedMetricWarning: Precision and F-score are ill-defined and being set to 0.0 due to no predicted samples. Use `zero_division` parameter to control this behavior.\n",
            "  _warn_prf(average, modifier, msg_start, len(result))\n",
            "/usr/local/lib/python3.12/dist-packages/seqeval/metrics/v1.py:57: UndefinedMetricWarning: Precision and F-score are ill-defined and being set to 0.0 in labels with no predicted samples. Use `zero_division` parameter to control this behavior.\n",
            "  _warn_prf(average, modifier, msg_start, len(result))\n",
            "/usr/local/lib/python3.12/dist-packages/seqeval/metrics/v1.py:57: UndefinedMetricWarning: Precision and F-score are ill-defined and being set to 0.0 due to no predicted samples. Use `zero_division` parameter to control this behavior.\n",
            "  _warn_prf(average, modifier, msg_start, len(result))\n",
            "/usr/local/lib/python3.12/dist-packages/seqeval/metrics/v1.py:57: UndefinedMetricWarning: Precision and F-score are ill-defined and being set to 0.0 in labels with no predicted samples. Use `zero_division` parameter to control this behavior.\n",
            "  _warn_prf(average, modifier, msg_start, len(result))\n",
            "/usr/local/lib/python3.12/dist-packages/seqeval/metrics/v1.py:57: UndefinedMetricWarning: Precision and F-score are ill-defined and being set to 0.0 due to no predicted samples. Use `zero_division` parameter to control this behavior.\n",
            "  _warn_prf(average, modifier, msg_start, len(result))\n"
          ]
        }
      ]
    },
    {
      "cell_type": "markdown",
      "source": [
        "Load and test the model"
      ],
      "metadata": {
        "id": "k5QfroP4Wvic"
      },
      "id": "k5QfroP4Wvic"
    },
    {
      "cell_type": "code",
      "execution_count": null,
      "id": "9a526e4c",
      "metadata": {
        "id": "9a526e4c"
      },
      "outputs": [],
      "source": [
        "from transformers import pipeline\n",
        "ner_pipe = pipeline('ner', model='NER_Resume_Model', tokenizer=tokenizer, grouped_entities=True)\n",
        "\n",
        "if combined_examples:\n",
        "  sample_text = combined_examples[0]['text'][:800]\n",
        "  print(\"Sample text:\")\n",
        "  print(sample_text[:200] + \"...\")\n",
        "  print(\"\\nNER Results:\")\n",
        "  print(ner_pipe(sample_text))\n",
        "else:\n",
        "  print(\"No sample data available for testing\")"
      ]
    },
    {
      "cell_type": "code",
      "source": [
        "from sentence_transformers import SentenceTransformer, util\n",
        "import numpy as np\n",
        "sbert = SentenceTransformer('all-MiniLM-L6-v2')"
      ],
      "metadata": {
        "id": "zpcT2TYkXWbK"
      },
      "id": "zpcT2TYkXWbK",
      "execution_count": null,
      "outputs": []
    },
    {
      "cell_type": "markdown",
      "source": [
        "Build a small resumes representation (skills text + summary). We'll extract 'skills' heuristically from NER SKILL labels."
      ],
      "metadata": {
        "id": "7cVVOjE9Xdnf"
      },
      "id": "7cVVOjE9Xdnf"
    },
    {
      "cell_type": "code",
      "source": [
        "def extract_skills_from_text(text):\n",
        "    # naive approach: look for lines after 'SKILLS' or 'TECHNICAL SKILLS'\n",
        "    m = re.search(r'(SKILLS|TECHNICAL SKILLS|CORE COMPETENCIES):?\\s*(.+)(?:\\n\\n|\\n[A-Z]|\\Z)', text, re.IGNORECASE|re.DOTALL)\n",
        "    if m:\n",
        "        skills_text = match.group(1).strip()\n",
        "        # Clean up and limit length\n",
        "        skills_text = re.sub(r'\\n+', ' ', skills_text)\n",
        "        return skills_text[:500]\n",
        "    else:\n",
        "        # fallback: return last 200 chars as 'summary'\n",
        "        skills_text = text[-400:]\n",
        "    return skills_text"
      ],
      "metadata": {
        "id": "Z-c7n8swXaoK"
      },
      "id": "Z-c7n8swXaoK",
      "execution_count": null,
      "outputs": []
    },
    {
      "cell_type": "markdown",
      "source": [
        "Resume embedding dataset build"
      ],
      "metadata": {
        "id": "VQSn0JKnYJzc"
      },
      "id": "VQSn0JKnYJzc"
    },
    {
      "cell_type": "code",
      "source": [
        "resume_texts = []\n",
        "for ex in combined_examples:\n",
        "    try:\n",
        "        skills = extract_skills_from_text(ex['text'])\n",
        "        resume_texts.append(skills if skills.strip() else ex['text'][:400])\n",
        "    except Exception:\n",
        "        resume_texts.append(ex['text'][:400])\n",
        "\n",
        "print('Built', len(resume_texts), 'resume text items')"
      ],
      "metadata": {
        "id": "WOG1VlJLYIiL"
      },
      "id": "WOG1VlJLYIiL",
      "execution_count": null,
      "outputs": []
    },
    {
      "cell_type": "code",
      "source": [
        "# Load job descriptions from JOBDESC_DIR (simple text files or JSONs)\n",
        "job_texts = []\n",
        "if os.path.exists(JOBDESC_DIR):\n",
        "    for p in glob.glob(os.path.join(JOBDESC_DIR, '*')):\n",
        "        try:\n",
        "            with open(p, 'r', encoding='utf-8') as f:\n",
        "                job_texts.append(f.read()[:2000])\n",
        "        except Exception:\n",
        "            # try json\n",
        "            j = json.load(open(p,'r',encoding='utf-8'))\n",
        "            job_texts.append(j.get('description', j.get('text', ''))[:2000])\n",
        "\n",
        "print('Loaded', len(job_texts), 'job descriptions')"
      ],
      "metadata": {
        "id": "YOAIP4stYRU8"
      },
      "id": "YOAIP4stYRU8",
      "execution_count": null,
      "outputs": []
    },
    {
      "cell_type": "code",
      "source": [
        "# Encode (this may take ~1-2 min for moderate sizes)\n",
        "resume_embs = sbert.encode(resume_texts, convert_to_tensor=True, show_progress_bar=True)\n",
        "print(\"Resume embeddings created successfully\")"
      ],
      "metadata": {
        "id": "ddC9bnPoYThu"
      },
      "id": "ddC9bnPoYThu",
      "execution_count": null,
      "outputs": []
    },
    {
      "cell_type": "code",
      "source": [
        "job_embs = sbert.encode(job_texts, convert_to_tensor=True, show_progress_bar=True)\n",
        "print(\"Job embeddings created successfully\")"
      ],
      "metadata": {
        "id": "dkaoPpRbZwiG"
      },
      "id": "dkaoPpRbZwiG",
      "execution_count": null,
      "outputs": []
    },
    {
      "cell_type": "code",
      "execution_count": null,
      "id": "59e48518",
      "metadata": {
        "id": "59e48518"
      },
      "outputs": [],
      "source": [
        "# Matching demo: top-3 jobs for first 5 resumes\n",
        "if job_embs is not None and len(job_embs)>0:\n",
        "    for i in range(min(5, len(resume_embs))):\n",
        "        sims = util.cos_sim(resume_embs[i], job_embs)[0]\n",
        "        topk = np.argpartition(-sims.cpu().numpy(), range(min(3, len(sims))))[:3]\n",
        "        print('\\nResume', i, 'top matches:')\n",
        "        for idx in topk:\n",
        "            print('  job', idx, 'score', float(sims[idx]))\n",
        "\n",
        "print('\\nJob matching cell ready. Tune with skill normalization and exact-skill overlap for better results.')"
      ]
    },
    {
      "cell_type": "code",
      "execution_count": null,
      "id": "e5b7dba8",
      "metadata": {
        "id": "e5b7dba8"
      },
      "outputs": [],
      "source": [
        "# Save the notebook file\n",
        "nb['cells'] = [nbf.v4.new_markdown_cell(title)] + nb['cells'] if False else nb['cells']\n",
        "notebook_path = 'ResumeJobMatch.ipynb'\n",
        "nbf.write(nb, notebook_path)\n",
        "print('Notebook written to:', notebook_path)\n",
        "print('You can download it from this environment or upload to your Google Drive to open in Colab.')"
      ]
    },
    {
      "cell_type": "code",
      "metadata": {
        "id": "3dd061aa"
      },
      "source": [
        "!pip install evaluate"
      ],
      "id": "3dd061aa",
      "execution_count": null,
      "outputs": []
    }
  ],
  "metadata": {
    "accelerator": "GPU",
    "colab": {
      "gpuType": "T4",
      "provenance": []
    },
    "kernelspec": {
      "display_name": "Python 3",
      "name": "python3"
    },
    "language_info": {
      "name": "python"
    },
    "widgets": {
      "application/vnd.jupyter.widget-state+json": {
        "772effa6748a4ae69f9d8f7996e6ffce": {
          "model_module": "@jupyter-widgets/controls",
          "model_name": "HBoxModel",
          "model_module_version": "1.5.0",
          "state": {
            "_dom_classes": [],
            "_model_module": "@jupyter-widgets/controls",
            "_model_module_version": "1.5.0",
            "_model_name": "HBoxModel",
            "_view_count": null,
            "_view_module": "@jupyter-widgets/controls",
            "_view_module_version": "1.5.0",
            "_view_name": "HBoxView",
            "box_style": "",
            "children": [
              "IPY_MODEL_6b04a154c8144da482b9638d846941c3",
              "IPY_MODEL_55d5007b3f974b2a8531672104a8000c",
              "IPY_MODEL_078ab894c98a4282bf159c0a169a27d4"
            ],
            "layout": "IPY_MODEL_98a763882c674bed9230cc765e3053b7"
          }
        },
        "6b04a154c8144da482b9638d846941c3": {
          "model_module": "@jupyter-widgets/controls",
          "model_name": "HTMLModel",
          "model_module_version": "1.5.0",
          "state": {
            "_dom_classes": [],
            "_model_module": "@jupyter-widgets/controls",
            "_model_module_version": "1.5.0",
            "_model_name": "HTMLModel",
            "_view_count": null,
            "_view_module": "@jupyter-widgets/controls",
            "_view_module_version": "1.5.0",
            "_view_name": "HTMLView",
            "description": "",
            "description_tooltip": null,
            "layout": "IPY_MODEL_2da1efae929249edafe453faf5ce31d4",
            "placeholder": "​",
            "style": "IPY_MODEL_17a7c07b65f9423285b02ec58d721a0b",
            "value": "Generating train split: "
          }
        },
        "55d5007b3f974b2a8531672104a8000c": {
          "model_module": "@jupyter-widgets/controls",
          "model_name": "FloatProgressModel",
          "model_module_version": "1.5.0",
          "state": {
            "_dom_classes": [],
            "_model_module": "@jupyter-widgets/controls",
            "_model_module_version": "1.5.0",
            "_model_name": "FloatProgressModel",
            "_view_count": null,
            "_view_module": "@jupyter-widgets/controls",
            "_view_module_version": "1.5.0",
            "_view_name": "ProgressView",
            "bar_style": "success",
            "description": "",
            "description_tooltip": null,
            "layout": "IPY_MODEL_41b769ff186c4a03971366c30dba3917",
            "max": 1,
            "min": 0,
            "orientation": "horizontal",
            "style": "IPY_MODEL_2cfdc726e597417db225ea172d083ddf",
            "value": 1
          }
        },
        "078ab894c98a4282bf159c0a169a27d4": {
          "model_module": "@jupyter-widgets/controls",
          "model_name": "HTMLModel",
          "model_module_version": "1.5.0",
          "state": {
            "_dom_classes": [],
            "_model_module": "@jupyter-widgets/controls",
            "_model_module_version": "1.5.0",
            "_model_name": "HTMLModel",
            "_view_count": null,
            "_view_module": "@jupyter-widgets/controls",
            "_view_module_version": "1.5.0",
            "_view_name": "HTMLView",
            "description": "",
            "description_tooltip": null,
            "layout": "IPY_MODEL_736415b32dc8476485af6103c59b4350",
            "placeholder": "​",
            "style": "IPY_MODEL_4240a24c8e8b4d6b96fcab234b87a656",
            "value": " 220/0 [00:00&lt;00:00, 525.65 examples/s]"
          }
        },
        "98a763882c674bed9230cc765e3053b7": {
          "model_module": "@jupyter-widgets/base",
          "model_name": "LayoutModel",
          "model_module_version": "1.2.0",
          "state": {
            "_model_module": "@jupyter-widgets/base",
            "_model_module_version": "1.2.0",
            "_model_name": "LayoutModel",
            "_view_count": null,
            "_view_module": "@jupyter-widgets/base",
            "_view_module_version": "1.2.0",
            "_view_name": "LayoutView",
            "align_content": null,
            "align_items": null,
            "align_self": null,
            "border": null,
            "bottom": null,
            "display": null,
            "flex": null,
            "flex_flow": null,
            "grid_area": null,
            "grid_auto_columns": null,
            "grid_auto_flow": null,
            "grid_auto_rows": null,
            "grid_column": null,
            "grid_gap": null,
            "grid_row": null,
            "grid_template_areas": null,
            "grid_template_columns": null,
            "grid_template_rows": null,
            "height": null,
            "justify_content": null,
            "justify_items": null,
            "left": null,
            "margin": null,
            "max_height": null,
            "max_width": null,
            "min_height": null,
            "min_width": null,
            "object_fit": null,
            "object_position": null,
            "order": null,
            "overflow": null,
            "overflow_x": null,
            "overflow_y": null,
            "padding": null,
            "right": null,
            "top": null,
            "visibility": null,
            "width": null
          }
        },
        "2da1efae929249edafe453faf5ce31d4": {
          "model_module": "@jupyter-widgets/base",
          "model_name": "LayoutModel",
          "model_module_version": "1.2.0",
          "state": {
            "_model_module": "@jupyter-widgets/base",
            "_model_module_version": "1.2.0",
            "_model_name": "LayoutModel",
            "_view_count": null,
            "_view_module": "@jupyter-widgets/base",
            "_view_module_version": "1.2.0",
            "_view_name": "LayoutView",
            "align_content": null,
            "align_items": null,
            "align_self": null,
            "border": null,
            "bottom": null,
            "display": null,
            "flex": null,
            "flex_flow": null,
            "grid_area": null,
            "grid_auto_columns": null,
            "grid_auto_flow": null,
            "grid_auto_rows": null,
            "grid_column": null,
            "grid_gap": null,
            "grid_row": null,
            "grid_template_areas": null,
            "grid_template_columns": null,
            "grid_template_rows": null,
            "height": null,
            "justify_content": null,
            "justify_items": null,
            "left": null,
            "margin": null,
            "max_height": null,
            "max_width": null,
            "min_height": null,
            "min_width": null,
            "object_fit": null,
            "object_position": null,
            "order": null,
            "overflow": null,
            "overflow_x": null,
            "overflow_y": null,
            "padding": null,
            "right": null,
            "top": null,
            "visibility": null,
            "width": null
          }
        },
        "17a7c07b65f9423285b02ec58d721a0b": {
          "model_module": "@jupyter-widgets/controls",
          "model_name": "DescriptionStyleModel",
          "model_module_version": "1.5.0",
          "state": {
            "_model_module": "@jupyter-widgets/controls",
            "_model_module_version": "1.5.0",
            "_model_name": "DescriptionStyleModel",
            "_view_count": null,
            "_view_module": "@jupyter-widgets/base",
            "_view_module_version": "1.2.0",
            "_view_name": "StyleView",
            "description_width": ""
          }
        },
        "41b769ff186c4a03971366c30dba3917": {
          "model_module": "@jupyter-widgets/base",
          "model_name": "LayoutModel",
          "model_module_version": "1.2.0",
          "state": {
            "_model_module": "@jupyter-widgets/base",
            "_model_module_version": "1.2.0",
            "_model_name": "LayoutModel",
            "_view_count": null,
            "_view_module": "@jupyter-widgets/base",
            "_view_module_version": "1.2.0",
            "_view_name": "LayoutView",
            "align_content": null,
            "align_items": null,
            "align_self": null,
            "border": null,
            "bottom": null,
            "display": null,
            "flex": null,
            "flex_flow": null,
            "grid_area": null,
            "grid_auto_columns": null,
            "grid_auto_flow": null,
            "grid_auto_rows": null,
            "grid_column": null,
            "grid_gap": null,
            "grid_row": null,
            "grid_template_areas": null,
            "grid_template_columns": null,
            "grid_template_rows": null,
            "height": null,
            "justify_content": null,
            "justify_items": null,
            "left": null,
            "margin": null,
            "max_height": null,
            "max_width": null,
            "min_height": null,
            "min_width": null,
            "object_fit": null,
            "object_position": null,
            "order": null,
            "overflow": null,
            "overflow_x": null,
            "overflow_y": null,
            "padding": null,
            "right": null,
            "top": null,
            "visibility": null,
            "width": "20px"
          }
        },
        "2cfdc726e597417db225ea172d083ddf": {
          "model_module": "@jupyter-widgets/controls",
          "model_name": "ProgressStyleModel",
          "model_module_version": "1.5.0",
          "state": {
            "_model_module": "@jupyter-widgets/controls",
            "_model_module_version": "1.5.0",
            "_model_name": "ProgressStyleModel",
            "_view_count": null,
            "_view_module": "@jupyter-widgets/base",
            "_view_module_version": "1.2.0",
            "_view_name": "StyleView",
            "bar_color": null,
            "description_width": ""
          }
        },
        "736415b32dc8476485af6103c59b4350": {
          "model_module": "@jupyter-widgets/base",
          "model_name": "LayoutModel",
          "model_module_version": "1.2.0",
          "state": {
            "_model_module": "@jupyter-widgets/base",
            "_model_module_version": "1.2.0",
            "_model_name": "LayoutModel",
            "_view_count": null,
            "_view_module": "@jupyter-widgets/base",
            "_view_module_version": "1.2.0",
            "_view_name": "LayoutView",
            "align_content": null,
            "align_items": null,
            "align_self": null,
            "border": null,
            "bottom": null,
            "display": null,
            "flex": null,
            "flex_flow": null,
            "grid_area": null,
            "grid_auto_columns": null,
            "grid_auto_flow": null,
            "grid_auto_rows": null,
            "grid_column": null,
            "grid_gap": null,
            "grid_row": null,
            "grid_template_areas": null,
            "grid_template_columns": null,
            "grid_template_rows": null,
            "height": null,
            "justify_content": null,
            "justify_items": null,
            "left": null,
            "margin": null,
            "max_height": null,
            "max_width": null,
            "min_height": null,
            "min_width": null,
            "object_fit": null,
            "object_position": null,
            "order": null,
            "overflow": null,
            "overflow_x": null,
            "overflow_y": null,
            "padding": null,
            "right": null,
            "top": null,
            "visibility": null,
            "width": null
          }
        },
        "4240a24c8e8b4d6b96fcab234b87a656": {
          "model_module": "@jupyter-widgets/controls",
          "model_name": "DescriptionStyleModel",
          "model_module_version": "1.5.0",
          "state": {
            "_model_module": "@jupyter-widgets/controls",
            "_model_module_version": "1.5.0",
            "_model_name": "DescriptionStyleModel",
            "_view_count": null,
            "_view_module": "@jupyter-widgets/base",
            "_view_module_version": "1.2.0",
            "_view_name": "StyleView",
            "description_width": ""
          }
        },
        "3ff7d4b2e6bd483fb2683daf2f2e43c4": {
          "model_module": "@jupyter-widgets/controls",
          "model_name": "HBoxModel",
          "model_module_version": "1.5.0",
          "state": {
            "_dom_classes": [],
            "_model_module": "@jupyter-widgets/controls",
            "_model_module_version": "1.5.0",
            "_model_name": "HBoxModel",
            "_view_count": null,
            "_view_module": "@jupyter-widgets/controls",
            "_view_module_version": "1.5.0",
            "_view_name": "HBoxView",
            "box_style": "",
            "children": [
              "IPY_MODEL_91c545ea5a16464aa301d5bbf7e48b82",
              "IPY_MODEL_fea0d632385947e8a873c5868eb0153e",
              "IPY_MODEL_f039a9a2a9b44bc6a0c63a39ae9e5159"
            ],
            "layout": "IPY_MODEL_95fe5f5a924a48e2840e24b55de89b79"
          }
        },
        "91c545ea5a16464aa301d5bbf7e48b82": {
          "model_module": "@jupyter-widgets/controls",
          "model_name": "HTMLModel",
          "model_module_version": "1.5.0",
          "state": {
            "_dom_classes": [],
            "_model_module": "@jupyter-widgets/controls",
            "_model_module_version": "1.5.0",
            "_model_name": "HTMLModel",
            "_view_count": null,
            "_view_module": "@jupyter-widgets/controls",
            "_view_module_version": "1.5.0",
            "_view_name": "HTMLView",
            "description": "",
            "description_tooltip": null,
            "layout": "IPY_MODEL_b426fb4a39634e178508910b7a19829e",
            "placeholder": "​",
            "style": "IPY_MODEL_139020032f6b4d7abe244b44be24952a",
            "value": "tokenizer_config.json: 100%"
          }
        },
        "fea0d632385947e8a873c5868eb0153e": {
          "model_module": "@jupyter-widgets/controls",
          "model_name": "FloatProgressModel",
          "model_module_version": "1.5.0",
          "state": {
            "_dom_classes": [],
            "_model_module": "@jupyter-widgets/controls",
            "_model_module_version": "1.5.0",
            "_model_name": "FloatProgressModel",
            "_view_count": null,
            "_view_module": "@jupyter-widgets/controls",
            "_view_module_version": "1.5.0",
            "_view_name": "ProgressView",
            "bar_style": "success",
            "description": "",
            "description_tooltip": null,
            "layout": "IPY_MODEL_7965dafcf37f4b7ab90b38efcca0eba7",
            "max": 49,
            "min": 0,
            "orientation": "horizontal",
            "style": "IPY_MODEL_9cd0304654c840f290387e111bce325d",
            "value": 49
          }
        },
        "f039a9a2a9b44bc6a0c63a39ae9e5159": {
          "model_module": "@jupyter-widgets/controls",
          "model_name": "HTMLModel",
          "model_module_version": "1.5.0",
          "state": {
            "_dom_classes": [],
            "_model_module": "@jupyter-widgets/controls",
            "_model_module_version": "1.5.0",
            "_model_name": "HTMLModel",
            "_view_count": null,
            "_view_module": "@jupyter-widgets/controls",
            "_view_module_version": "1.5.0",
            "_view_name": "HTMLView",
            "description": "",
            "description_tooltip": null,
            "layout": "IPY_MODEL_51943e968e114af2b2e5a63188dbd347",
            "placeholder": "​",
            "style": "IPY_MODEL_b2768a677df74820bdac14abedb3824e",
            "value": " 49.0/49.0 [00:00&lt;00:00, 2.41kB/s]"
          }
        },
        "95fe5f5a924a48e2840e24b55de89b79": {
          "model_module": "@jupyter-widgets/base",
          "model_name": "LayoutModel",
          "model_module_version": "1.2.0",
          "state": {
            "_model_module": "@jupyter-widgets/base",
            "_model_module_version": "1.2.0",
            "_model_name": "LayoutModel",
            "_view_count": null,
            "_view_module": "@jupyter-widgets/base",
            "_view_module_version": "1.2.0",
            "_view_name": "LayoutView",
            "align_content": null,
            "align_items": null,
            "align_self": null,
            "border": null,
            "bottom": null,
            "display": null,
            "flex": null,
            "flex_flow": null,
            "grid_area": null,
            "grid_auto_columns": null,
            "grid_auto_flow": null,
            "grid_auto_rows": null,
            "grid_column": null,
            "grid_gap": null,
            "grid_row": null,
            "grid_template_areas": null,
            "grid_template_columns": null,
            "grid_template_rows": null,
            "height": null,
            "justify_content": null,
            "justify_items": null,
            "left": null,
            "margin": null,
            "max_height": null,
            "max_width": null,
            "min_height": null,
            "min_width": null,
            "object_fit": null,
            "object_position": null,
            "order": null,
            "overflow": null,
            "overflow_x": null,
            "overflow_y": null,
            "padding": null,
            "right": null,
            "top": null,
            "visibility": null,
            "width": null
          }
        },
        "b426fb4a39634e178508910b7a19829e": {
          "model_module": "@jupyter-widgets/base",
          "model_name": "LayoutModel",
          "model_module_version": "1.2.0",
          "state": {
            "_model_module": "@jupyter-widgets/base",
            "_model_module_version": "1.2.0",
            "_model_name": "LayoutModel",
            "_view_count": null,
            "_view_module": "@jupyter-widgets/base",
            "_view_module_version": "1.2.0",
            "_view_name": "LayoutView",
            "align_content": null,
            "align_items": null,
            "align_self": null,
            "border": null,
            "bottom": null,
            "display": null,
            "flex": null,
            "flex_flow": null,
            "grid_area": null,
            "grid_auto_columns": null,
            "grid_auto_flow": null,
            "grid_auto_rows": null,
            "grid_column": null,
            "grid_gap": null,
            "grid_row": null,
            "grid_template_areas": null,
            "grid_template_columns": null,
            "grid_template_rows": null,
            "height": null,
            "justify_content": null,
            "justify_items": null,
            "left": null,
            "margin": null,
            "max_height": null,
            "max_width": null,
            "min_height": null,
            "min_width": null,
            "object_fit": null,
            "object_position": null,
            "order": null,
            "overflow": null,
            "overflow_x": null,
            "overflow_y": null,
            "padding": null,
            "right": null,
            "top": null,
            "visibility": null,
            "width": null
          }
        },
        "139020032f6b4d7abe244b44be24952a": {
          "model_module": "@jupyter-widgets/controls",
          "model_name": "DescriptionStyleModel",
          "model_module_version": "1.5.0",
          "state": {
            "_model_module": "@jupyter-widgets/controls",
            "_model_module_version": "1.5.0",
            "_model_name": "DescriptionStyleModel",
            "_view_count": null,
            "_view_module": "@jupyter-widgets/base",
            "_view_module_version": "1.2.0",
            "_view_name": "StyleView",
            "description_width": ""
          }
        },
        "7965dafcf37f4b7ab90b38efcca0eba7": {
          "model_module": "@jupyter-widgets/base",
          "model_name": "LayoutModel",
          "model_module_version": "1.2.0",
          "state": {
            "_model_module": "@jupyter-widgets/base",
            "_model_module_version": "1.2.0",
            "_model_name": "LayoutModel",
            "_view_count": null,
            "_view_module": "@jupyter-widgets/base",
            "_view_module_version": "1.2.0",
            "_view_name": "LayoutView",
            "align_content": null,
            "align_items": null,
            "align_self": null,
            "border": null,
            "bottom": null,
            "display": null,
            "flex": null,
            "flex_flow": null,
            "grid_area": null,
            "grid_auto_columns": null,
            "grid_auto_flow": null,
            "grid_auto_rows": null,
            "grid_column": null,
            "grid_gap": null,
            "grid_row": null,
            "grid_template_areas": null,
            "grid_template_columns": null,
            "grid_template_rows": null,
            "height": null,
            "justify_content": null,
            "justify_items": null,
            "left": null,
            "margin": null,
            "max_height": null,
            "max_width": null,
            "min_height": null,
            "min_width": null,
            "object_fit": null,
            "object_position": null,
            "order": null,
            "overflow": null,
            "overflow_x": null,
            "overflow_y": null,
            "padding": null,
            "right": null,
            "top": null,
            "visibility": null,
            "width": null
          }
        },
        "9cd0304654c840f290387e111bce325d": {
          "model_module": "@jupyter-widgets/controls",
          "model_name": "ProgressStyleModel",
          "model_module_version": "1.5.0",
          "state": {
            "_model_module": "@jupyter-widgets/controls",
            "_model_module_version": "1.5.0",
            "_model_name": "ProgressStyleModel",
            "_view_count": null,
            "_view_module": "@jupyter-widgets/base",
            "_view_module_version": "1.2.0",
            "_view_name": "StyleView",
            "bar_color": null,
            "description_width": ""
          }
        },
        "51943e968e114af2b2e5a63188dbd347": {
          "model_module": "@jupyter-widgets/base",
          "model_name": "LayoutModel",
          "model_module_version": "1.2.0",
          "state": {
            "_model_module": "@jupyter-widgets/base",
            "_model_module_version": "1.2.0",
            "_model_name": "LayoutModel",
            "_view_count": null,
            "_view_module": "@jupyter-widgets/base",
            "_view_module_version": "1.2.0",
            "_view_name": "LayoutView",
            "align_content": null,
            "align_items": null,
            "align_self": null,
            "border": null,
            "bottom": null,
            "display": null,
            "flex": null,
            "flex_flow": null,
            "grid_area": null,
            "grid_auto_columns": null,
            "grid_auto_flow": null,
            "grid_auto_rows": null,
            "grid_column": null,
            "grid_gap": null,
            "grid_row": null,
            "grid_template_areas": null,
            "grid_template_columns": null,
            "grid_template_rows": null,
            "height": null,
            "justify_content": null,
            "justify_items": null,
            "left": null,
            "margin": null,
            "max_height": null,
            "max_width": null,
            "min_height": null,
            "min_width": null,
            "object_fit": null,
            "object_position": null,
            "order": null,
            "overflow": null,
            "overflow_x": null,
            "overflow_y": null,
            "padding": null,
            "right": null,
            "top": null,
            "visibility": null,
            "width": null
          }
        },
        "b2768a677df74820bdac14abedb3824e": {
          "model_module": "@jupyter-widgets/controls",
          "model_name": "DescriptionStyleModel",
          "model_module_version": "1.5.0",
          "state": {
            "_model_module": "@jupyter-widgets/controls",
            "_model_module_version": "1.5.0",
            "_model_name": "DescriptionStyleModel",
            "_view_count": null,
            "_view_module": "@jupyter-widgets/base",
            "_view_module_version": "1.2.0",
            "_view_name": "StyleView",
            "description_width": ""
          }
        },
        "bce8b737e7814184aa4792636dac1730": {
          "model_module": "@jupyter-widgets/controls",
          "model_name": "HBoxModel",
          "model_module_version": "1.5.0",
          "state": {
            "_dom_classes": [],
            "_model_module": "@jupyter-widgets/controls",
            "_model_module_version": "1.5.0",
            "_model_name": "HBoxModel",
            "_view_count": null,
            "_view_module": "@jupyter-widgets/controls",
            "_view_module_version": "1.5.0",
            "_view_name": "HBoxView",
            "box_style": "",
            "children": [
              "IPY_MODEL_82d63506f2c94267ae11c44278d6911b",
              "IPY_MODEL_bf7001c76ce743f59bad72d924f7974e",
              "IPY_MODEL_a2aa9efb6d1a46d3a2a78c60c8b0a1a1"
            ],
            "layout": "IPY_MODEL_cd68d24eb83f4e90b37428fb97b49867"
          }
        },
        "82d63506f2c94267ae11c44278d6911b": {
          "model_module": "@jupyter-widgets/controls",
          "model_name": "HTMLModel",
          "model_module_version": "1.5.0",
          "state": {
            "_dom_classes": [],
            "_model_module": "@jupyter-widgets/controls",
            "_model_module_version": "1.5.0",
            "_model_name": "HTMLModel",
            "_view_count": null,
            "_view_module": "@jupyter-widgets/controls",
            "_view_module_version": "1.5.0",
            "_view_name": "HTMLView",
            "description": "",
            "description_tooltip": null,
            "layout": "IPY_MODEL_74ed10ba3703482bb5b321afe9302de1",
            "placeholder": "​",
            "style": "IPY_MODEL_fe1411c0b3f94984a5448ed824c30ab9",
            "value": "config.json: 100%"
          }
        },
        "bf7001c76ce743f59bad72d924f7974e": {
          "model_module": "@jupyter-widgets/controls",
          "model_name": "FloatProgressModel",
          "model_module_version": "1.5.0",
          "state": {
            "_dom_classes": [],
            "_model_module": "@jupyter-widgets/controls",
            "_model_module_version": "1.5.0",
            "_model_name": "FloatProgressModel",
            "_view_count": null,
            "_view_module": "@jupyter-widgets/controls",
            "_view_module_version": "1.5.0",
            "_view_name": "ProgressView",
            "bar_style": "success",
            "description": "",
            "description_tooltip": null,
            "layout": "IPY_MODEL_df2eb364d76041e3925498638c192414",
            "max": 465,
            "min": 0,
            "orientation": "horizontal",
            "style": "IPY_MODEL_b7d4c4ccbfad480e82f48814dc0735a8",
            "value": 465
          }
        },
        "a2aa9efb6d1a46d3a2a78c60c8b0a1a1": {
          "model_module": "@jupyter-widgets/controls",
          "model_name": "HTMLModel",
          "model_module_version": "1.5.0",
          "state": {
            "_dom_classes": [],
            "_model_module": "@jupyter-widgets/controls",
            "_model_module_version": "1.5.0",
            "_model_name": "HTMLModel",
            "_view_count": null,
            "_view_module": "@jupyter-widgets/controls",
            "_view_module_version": "1.5.0",
            "_view_name": "HTMLView",
            "description": "",
            "description_tooltip": null,
            "layout": "IPY_MODEL_749875be3286443e85e97a04e715d7eb",
            "placeholder": "​",
            "style": "IPY_MODEL_7437c06359ba4315a9ae3d2f02d23068",
            "value": " 465/465 [00:00&lt;00:00, 13.2kB/s]"
          }
        },
        "cd68d24eb83f4e90b37428fb97b49867": {
          "model_module": "@jupyter-widgets/base",
          "model_name": "LayoutModel",
          "model_module_version": "1.2.0",
          "state": {
            "_model_module": "@jupyter-widgets/base",
            "_model_module_version": "1.2.0",
            "_model_name": "LayoutModel",
            "_view_count": null,
            "_view_module": "@jupyter-widgets/base",
            "_view_module_version": "1.2.0",
            "_view_name": "LayoutView",
            "align_content": null,
            "align_items": null,
            "align_self": null,
            "border": null,
            "bottom": null,
            "display": null,
            "flex": null,
            "flex_flow": null,
            "grid_area": null,
            "grid_auto_columns": null,
            "grid_auto_flow": null,
            "grid_auto_rows": null,
            "grid_column": null,
            "grid_gap": null,
            "grid_row": null,
            "grid_template_areas": null,
            "grid_template_columns": null,
            "grid_template_rows": null,
            "height": null,
            "justify_content": null,
            "justify_items": null,
            "left": null,
            "margin": null,
            "max_height": null,
            "max_width": null,
            "min_height": null,
            "min_width": null,
            "object_fit": null,
            "object_position": null,
            "order": null,
            "overflow": null,
            "overflow_x": null,
            "overflow_y": null,
            "padding": null,
            "right": null,
            "top": null,
            "visibility": null,
            "width": null
          }
        },
        "74ed10ba3703482bb5b321afe9302de1": {
          "model_module": "@jupyter-widgets/base",
          "model_name": "LayoutModel",
          "model_module_version": "1.2.0",
          "state": {
            "_model_module": "@jupyter-widgets/base",
            "_model_module_version": "1.2.0",
            "_model_name": "LayoutModel",
            "_view_count": null,
            "_view_module": "@jupyter-widgets/base",
            "_view_module_version": "1.2.0",
            "_view_name": "LayoutView",
            "align_content": null,
            "align_items": null,
            "align_self": null,
            "border": null,
            "bottom": null,
            "display": null,
            "flex": null,
            "flex_flow": null,
            "grid_area": null,
            "grid_auto_columns": null,
            "grid_auto_flow": null,
            "grid_auto_rows": null,
            "grid_column": null,
            "grid_gap": null,
            "grid_row": null,
            "grid_template_areas": null,
            "grid_template_columns": null,
            "grid_template_rows": null,
            "height": null,
            "justify_content": null,
            "justify_items": null,
            "left": null,
            "margin": null,
            "max_height": null,
            "max_width": null,
            "min_height": null,
            "min_width": null,
            "object_fit": null,
            "object_position": null,
            "order": null,
            "overflow": null,
            "overflow_x": null,
            "overflow_y": null,
            "padding": null,
            "right": null,
            "top": null,
            "visibility": null,
            "width": null
          }
        },
        "fe1411c0b3f94984a5448ed824c30ab9": {
          "model_module": "@jupyter-widgets/controls",
          "model_name": "DescriptionStyleModel",
          "model_module_version": "1.5.0",
          "state": {
            "_model_module": "@jupyter-widgets/controls",
            "_model_module_version": "1.5.0",
            "_model_name": "DescriptionStyleModel",
            "_view_count": null,
            "_view_module": "@jupyter-widgets/base",
            "_view_module_version": "1.2.0",
            "_view_name": "StyleView",
            "description_width": ""
          }
        },
        "df2eb364d76041e3925498638c192414": {
          "model_module": "@jupyter-widgets/base",
          "model_name": "LayoutModel",
          "model_module_version": "1.2.0",
          "state": {
            "_model_module": "@jupyter-widgets/base",
            "_model_module_version": "1.2.0",
            "_model_name": "LayoutModel",
            "_view_count": null,
            "_view_module": "@jupyter-widgets/base",
            "_view_module_version": "1.2.0",
            "_view_name": "LayoutView",
            "align_content": null,
            "align_items": null,
            "align_self": null,
            "border": null,
            "bottom": null,
            "display": null,
            "flex": null,
            "flex_flow": null,
            "grid_area": null,
            "grid_auto_columns": null,
            "grid_auto_flow": null,
            "grid_auto_rows": null,
            "grid_column": null,
            "grid_gap": null,
            "grid_row": null,
            "grid_template_areas": null,
            "grid_template_columns": null,
            "grid_template_rows": null,
            "height": null,
            "justify_content": null,
            "justify_items": null,
            "left": null,
            "margin": null,
            "max_height": null,
            "max_width": null,
            "min_height": null,
            "min_width": null,
            "object_fit": null,
            "object_position": null,
            "order": null,
            "overflow": null,
            "overflow_x": null,
            "overflow_y": null,
            "padding": null,
            "right": null,
            "top": null,
            "visibility": null,
            "width": null
          }
        },
        "b7d4c4ccbfad480e82f48814dc0735a8": {
          "model_module": "@jupyter-widgets/controls",
          "model_name": "ProgressStyleModel",
          "model_module_version": "1.5.0",
          "state": {
            "_model_module": "@jupyter-widgets/controls",
            "_model_module_version": "1.5.0",
            "_model_name": "ProgressStyleModel",
            "_view_count": null,
            "_view_module": "@jupyter-widgets/base",
            "_view_module_version": "1.2.0",
            "_view_name": "StyleView",
            "bar_color": null,
            "description_width": ""
          }
        },
        "749875be3286443e85e97a04e715d7eb": {
          "model_module": "@jupyter-widgets/base",
          "model_name": "LayoutModel",
          "model_module_version": "1.2.0",
          "state": {
            "_model_module": "@jupyter-widgets/base",
            "_model_module_version": "1.2.0",
            "_model_name": "LayoutModel",
            "_view_count": null,
            "_view_module": "@jupyter-widgets/base",
            "_view_module_version": "1.2.0",
            "_view_name": "LayoutView",
            "align_content": null,
            "align_items": null,
            "align_self": null,
            "border": null,
            "bottom": null,
            "display": null,
            "flex": null,
            "flex_flow": null,
            "grid_area": null,
            "grid_auto_columns": null,
            "grid_auto_flow": null,
            "grid_auto_rows": null,
            "grid_column": null,
            "grid_gap": null,
            "grid_row": null,
            "grid_template_areas": null,
            "grid_template_columns": null,
            "grid_template_rows": null,
            "height": null,
            "justify_content": null,
            "justify_items": null,
            "left": null,
            "margin": null,
            "max_height": null,
            "max_width": null,
            "min_height": null,
            "min_width": null,
            "object_fit": null,
            "object_position": null,
            "order": null,
            "overflow": null,
            "overflow_x": null,
            "overflow_y": null,
            "padding": null,
            "right": null,
            "top": null,
            "visibility": null,
            "width": null
          }
        },
        "7437c06359ba4315a9ae3d2f02d23068": {
          "model_module": "@jupyter-widgets/controls",
          "model_name": "DescriptionStyleModel",
          "model_module_version": "1.5.0",
          "state": {
            "_model_module": "@jupyter-widgets/controls",
            "_model_module_version": "1.5.0",
            "_model_name": "DescriptionStyleModel",
            "_view_count": null,
            "_view_module": "@jupyter-widgets/base",
            "_view_module_version": "1.2.0",
            "_view_name": "StyleView",
            "description_width": ""
          }
        },
        "b342390d90ae46cdb26fb8d4e08764cf": {
          "model_module": "@jupyter-widgets/controls",
          "model_name": "HBoxModel",
          "model_module_version": "1.5.0",
          "state": {
            "_dom_classes": [],
            "_model_module": "@jupyter-widgets/controls",
            "_model_module_version": "1.5.0",
            "_model_name": "HBoxModel",
            "_view_count": null,
            "_view_module": "@jupyter-widgets/controls",
            "_view_module_version": "1.5.0",
            "_view_name": "HBoxView",
            "box_style": "",
            "children": [
              "IPY_MODEL_027b629604b949f3ac30f24b45d4b12d",
              "IPY_MODEL_21c584f0134549b6af2e3ecf3238a924",
              "IPY_MODEL_a2c39b8e8b0546d59b0634ded014ddfb"
            ],
            "layout": "IPY_MODEL_9bf6dcad7c834687b157cdb3c126727b"
          }
        },
        "027b629604b949f3ac30f24b45d4b12d": {
          "model_module": "@jupyter-widgets/controls",
          "model_name": "HTMLModel",
          "model_module_version": "1.5.0",
          "state": {
            "_dom_classes": [],
            "_model_module": "@jupyter-widgets/controls",
            "_model_module_version": "1.5.0",
            "_model_name": "HTMLModel",
            "_view_count": null,
            "_view_module": "@jupyter-widgets/controls",
            "_view_module_version": "1.5.0",
            "_view_name": "HTMLView",
            "description": "",
            "description_tooltip": null,
            "layout": "IPY_MODEL_bba4bd80b2a744e6a4140daa68264f74",
            "placeholder": "​",
            "style": "IPY_MODEL_dafd6fa0b2d94dae9fdec73493cc400f",
            "value": "vocab.txt: 100%"
          }
        },
        "21c584f0134549b6af2e3ecf3238a924": {
          "model_module": "@jupyter-widgets/controls",
          "model_name": "FloatProgressModel",
          "model_module_version": "1.5.0",
          "state": {
            "_dom_classes": [],
            "_model_module": "@jupyter-widgets/controls",
            "_model_module_version": "1.5.0",
            "_model_name": "FloatProgressModel",
            "_view_count": null,
            "_view_module": "@jupyter-widgets/controls",
            "_view_module_version": "1.5.0",
            "_view_name": "ProgressView",
            "bar_style": "success",
            "description": "",
            "description_tooltip": null,
            "layout": "IPY_MODEL_0a754e8465f24cc6a7a0f75381806f69",
            "max": 213450,
            "min": 0,
            "orientation": "horizontal",
            "style": "IPY_MODEL_e443f63f3a1946fe8b90e1a29fd4f0f1",
            "value": 213450
          }
        },
        "a2c39b8e8b0546d59b0634ded014ddfb": {
          "model_module": "@jupyter-widgets/controls",
          "model_name": "HTMLModel",
          "model_module_version": "1.5.0",
          "state": {
            "_dom_classes": [],
            "_model_module": "@jupyter-widgets/controls",
            "_model_module_version": "1.5.0",
            "_model_name": "HTMLModel",
            "_view_count": null,
            "_view_module": "@jupyter-widgets/controls",
            "_view_module_version": "1.5.0",
            "_view_name": "HTMLView",
            "description": "",
            "description_tooltip": null,
            "layout": "IPY_MODEL_adfe068a0e9549b0b00355b801bd74e4",
            "placeholder": "​",
            "style": "IPY_MODEL_b0ef2684ddbb47888b6a5e83f97dfa31",
            "value": " 213k/213k [00:00&lt;00:00, 4.45MB/s]"
          }
        },
        "9bf6dcad7c834687b157cdb3c126727b": {
          "model_module": "@jupyter-widgets/base",
          "model_name": "LayoutModel",
          "model_module_version": "1.2.0",
          "state": {
            "_model_module": "@jupyter-widgets/base",
            "_model_module_version": "1.2.0",
            "_model_name": "LayoutModel",
            "_view_count": null,
            "_view_module": "@jupyter-widgets/base",
            "_view_module_version": "1.2.0",
            "_view_name": "LayoutView",
            "align_content": null,
            "align_items": null,
            "align_self": null,
            "border": null,
            "bottom": null,
            "display": null,
            "flex": null,
            "flex_flow": null,
            "grid_area": null,
            "grid_auto_columns": null,
            "grid_auto_flow": null,
            "grid_auto_rows": null,
            "grid_column": null,
            "grid_gap": null,
            "grid_row": null,
            "grid_template_areas": null,
            "grid_template_columns": null,
            "grid_template_rows": null,
            "height": null,
            "justify_content": null,
            "justify_items": null,
            "left": null,
            "margin": null,
            "max_height": null,
            "max_width": null,
            "min_height": null,
            "min_width": null,
            "object_fit": null,
            "object_position": null,
            "order": null,
            "overflow": null,
            "overflow_x": null,
            "overflow_y": null,
            "padding": null,
            "right": null,
            "top": null,
            "visibility": null,
            "width": null
          }
        },
        "bba4bd80b2a744e6a4140daa68264f74": {
          "model_module": "@jupyter-widgets/base",
          "model_name": "LayoutModel",
          "model_module_version": "1.2.0",
          "state": {
            "_model_module": "@jupyter-widgets/base",
            "_model_module_version": "1.2.0",
            "_model_name": "LayoutModel",
            "_view_count": null,
            "_view_module": "@jupyter-widgets/base",
            "_view_module_version": "1.2.0",
            "_view_name": "LayoutView",
            "align_content": null,
            "align_items": null,
            "align_self": null,
            "border": null,
            "bottom": null,
            "display": null,
            "flex": null,
            "flex_flow": null,
            "grid_area": null,
            "grid_auto_columns": null,
            "grid_auto_flow": null,
            "grid_auto_rows": null,
            "grid_column": null,
            "grid_gap": null,
            "grid_row": null,
            "grid_template_areas": null,
            "grid_template_columns": null,
            "grid_template_rows": null,
            "height": null,
            "justify_content": null,
            "justify_items": null,
            "left": null,
            "margin": null,
            "max_height": null,
            "max_width": null,
            "min_height": null,
            "min_width": null,
            "object_fit": null,
            "object_position": null,
            "order": null,
            "overflow": null,
            "overflow_x": null,
            "overflow_y": null,
            "padding": null,
            "right": null,
            "top": null,
            "visibility": null,
            "width": null
          }
        },
        "dafd6fa0b2d94dae9fdec73493cc400f": {
          "model_module": "@jupyter-widgets/controls",
          "model_name": "DescriptionStyleModel",
          "model_module_version": "1.5.0",
          "state": {
            "_model_module": "@jupyter-widgets/controls",
            "_model_module_version": "1.5.0",
            "_model_name": "DescriptionStyleModel",
            "_view_count": null,
            "_view_module": "@jupyter-widgets/base",
            "_view_module_version": "1.2.0",
            "_view_name": "StyleView",
            "description_width": ""
          }
        },
        "0a754e8465f24cc6a7a0f75381806f69": {
          "model_module": "@jupyter-widgets/base",
          "model_name": "LayoutModel",
          "model_module_version": "1.2.0",
          "state": {
            "_model_module": "@jupyter-widgets/base",
            "_model_module_version": "1.2.0",
            "_model_name": "LayoutModel",
            "_view_count": null,
            "_view_module": "@jupyter-widgets/base",
            "_view_module_version": "1.2.0",
            "_view_name": "LayoutView",
            "align_content": null,
            "align_items": null,
            "align_self": null,
            "border": null,
            "bottom": null,
            "display": null,
            "flex": null,
            "flex_flow": null,
            "grid_area": null,
            "grid_auto_columns": null,
            "grid_auto_flow": null,
            "grid_auto_rows": null,
            "grid_column": null,
            "grid_gap": null,
            "grid_row": null,
            "grid_template_areas": null,
            "grid_template_columns": null,
            "grid_template_rows": null,
            "height": null,
            "justify_content": null,
            "justify_items": null,
            "left": null,
            "margin": null,
            "max_height": null,
            "max_width": null,
            "min_height": null,
            "min_width": null,
            "object_fit": null,
            "object_position": null,
            "order": null,
            "overflow": null,
            "overflow_x": null,
            "overflow_y": null,
            "padding": null,
            "right": null,
            "top": null,
            "visibility": null,
            "width": null
          }
        },
        "e443f63f3a1946fe8b90e1a29fd4f0f1": {
          "model_module": "@jupyter-widgets/controls",
          "model_name": "ProgressStyleModel",
          "model_module_version": "1.5.0",
          "state": {
            "_model_module": "@jupyter-widgets/controls",
            "_model_module_version": "1.5.0",
            "_model_name": "ProgressStyleModel",
            "_view_count": null,
            "_view_module": "@jupyter-widgets/base",
            "_view_module_version": "1.2.0",
            "_view_name": "StyleView",
            "bar_color": null,
            "description_width": ""
          }
        },
        "adfe068a0e9549b0b00355b801bd74e4": {
          "model_module": "@jupyter-widgets/base",
          "model_name": "LayoutModel",
          "model_module_version": "1.2.0",
          "state": {
            "_model_module": "@jupyter-widgets/base",
            "_model_module_version": "1.2.0",
            "_model_name": "LayoutModel",
            "_view_count": null,
            "_view_module": "@jupyter-widgets/base",
            "_view_module_version": "1.2.0",
            "_view_name": "LayoutView",
            "align_content": null,
            "align_items": null,
            "align_self": null,
            "border": null,
            "bottom": null,
            "display": null,
            "flex": null,
            "flex_flow": null,
            "grid_area": null,
            "grid_auto_columns": null,
            "grid_auto_flow": null,
            "grid_auto_rows": null,
            "grid_column": null,
            "grid_gap": null,
            "grid_row": null,
            "grid_template_areas": null,
            "grid_template_columns": null,
            "grid_template_rows": null,
            "height": null,
            "justify_content": null,
            "justify_items": null,
            "left": null,
            "margin": null,
            "max_height": null,
            "max_width": null,
            "min_height": null,
            "min_width": null,
            "object_fit": null,
            "object_position": null,
            "order": null,
            "overflow": null,
            "overflow_x": null,
            "overflow_y": null,
            "padding": null,
            "right": null,
            "top": null,
            "visibility": null,
            "width": null
          }
        },
        "b0ef2684ddbb47888b6a5e83f97dfa31": {
          "model_module": "@jupyter-widgets/controls",
          "model_name": "DescriptionStyleModel",
          "model_module_version": "1.5.0",
          "state": {
            "_model_module": "@jupyter-widgets/controls",
            "_model_module_version": "1.5.0",
            "_model_name": "DescriptionStyleModel",
            "_view_count": null,
            "_view_module": "@jupyter-widgets/base",
            "_view_module_version": "1.2.0",
            "_view_name": "StyleView",
            "description_width": ""
          }
        },
        "27b3a0204bfa437ba42c2c6a69d23446": {
          "model_module": "@jupyter-widgets/controls",
          "model_name": "HBoxModel",
          "model_module_version": "1.5.0",
          "state": {
            "_dom_classes": [],
            "_model_module": "@jupyter-widgets/controls",
            "_model_module_version": "1.5.0",
            "_model_name": "HBoxModel",
            "_view_count": null,
            "_view_module": "@jupyter-widgets/controls",
            "_view_module_version": "1.5.0",
            "_view_name": "HBoxView",
            "box_style": "",
            "children": [
              "IPY_MODEL_70b35ffd883a40eea09a235391eb7d03",
              "IPY_MODEL_9a75603186ec4086b393b7164a635421",
              "IPY_MODEL_764e8ee42b0f41dfb04985bf0d770e5f"
            ],
            "layout": "IPY_MODEL_bae0ef763ac341b39a02fca5b7ed69a2"
          }
        },
        "70b35ffd883a40eea09a235391eb7d03": {
          "model_module": "@jupyter-widgets/controls",
          "model_name": "HTMLModel",
          "model_module_version": "1.5.0",
          "state": {
            "_dom_classes": [],
            "_model_module": "@jupyter-widgets/controls",
            "_model_module_version": "1.5.0",
            "_model_name": "HTMLModel",
            "_view_count": null,
            "_view_module": "@jupyter-widgets/controls",
            "_view_module_version": "1.5.0",
            "_view_name": "HTMLView",
            "description": "",
            "description_tooltip": null,
            "layout": "IPY_MODEL_ac5b8822880642b589bab2f80b4f47ad",
            "placeholder": "​",
            "style": "IPY_MODEL_1fd311360d204037a631ea30cce8449f",
            "value": "tokenizer.json: 100%"
          }
        },
        "9a75603186ec4086b393b7164a635421": {
          "model_module": "@jupyter-widgets/controls",
          "model_name": "FloatProgressModel",
          "model_module_version": "1.5.0",
          "state": {
            "_dom_classes": [],
            "_model_module": "@jupyter-widgets/controls",
            "_model_module_version": "1.5.0",
            "_model_name": "FloatProgressModel",
            "_view_count": null,
            "_view_module": "@jupyter-widgets/controls",
            "_view_module_version": "1.5.0",
            "_view_name": "ProgressView",
            "bar_style": "success",
            "description": "",
            "description_tooltip": null,
            "layout": "IPY_MODEL_c89f1c32d25b4365a3eed86c9c7a3c9b",
            "max": 435797,
            "min": 0,
            "orientation": "horizontal",
            "style": "IPY_MODEL_e02640bfafaa419abff087d0f4e4aeeb",
            "value": 435797
          }
        },
        "764e8ee42b0f41dfb04985bf0d770e5f": {
          "model_module": "@jupyter-widgets/controls",
          "model_name": "HTMLModel",
          "model_module_version": "1.5.0",
          "state": {
            "_dom_classes": [],
            "_model_module": "@jupyter-widgets/controls",
            "_model_module_version": "1.5.0",
            "_model_name": "HTMLModel",
            "_view_count": null,
            "_view_module": "@jupyter-widgets/controls",
            "_view_module_version": "1.5.0",
            "_view_name": "HTMLView",
            "description": "",
            "description_tooltip": null,
            "layout": "IPY_MODEL_15f30c4c0cae4f0e8066bef514204765",
            "placeholder": "​",
            "style": "IPY_MODEL_ab8df394a5b0477f99471b7efd181827",
            "value": " 436k/436k [00:00&lt;00:00, 4.65MB/s]"
          }
        },
        "bae0ef763ac341b39a02fca5b7ed69a2": {
          "model_module": "@jupyter-widgets/base",
          "model_name": "LayoutModel",
          "model_module_version": "1.2.0",
          "state": {
            "_model_module": "@jupyter-widgets/base",
            "_model_module_version": "1.2.0",
            "_model_name": "LayoutModel",
            "_view_count": null,
            "_view_module": "@jupyter-widgets/base",
            "_view_module_version": "1.2.0",
            "_view_name": "LayoutView",
            "align_content": null,
            "align_items": null,
            "align_self": null,
            "border": null,
            "bottom": null,
            "display": null,
            "flex": null,
            "flex_flow": null,
            "grid_area": null,
            "grid_auto_columns": null,
            "grid_auto_flow": null,
            "grid_auto_rows": null,
            "grid_column": null,
            "grid_gap": null,
            "grid_row": null,
            "grid_template_areas": null,
            "grid_template_columns": null,
            "grid_template_rows": null,
            "height": null,
            "justify_content": null,
            "justify_items": null,
            "left": null,
            "margin": null,
            "max_height": null,
            "max_width": null,
            "min_height": null,
            "min_width": null,
            "object_fit": null,
            "object_position": null,
            "order": null,
            "overflow": null,
            "overflow_x": null,
            "overflow_y": null,
            "padding": null,
            "right": null,
            "top": null,
            "visibility": null,
            "width": null
          }
        },
        "ac5b8822880642b589bab2f80b4f47ad": {
          "model_module": "@jupyter-widgets/base",
          "model_name": "LayoutModel",
          "model_module_version": "1.2.0",
          "state": {
            "_model_module": "@jupyter-widgets/base",
            "_model_module_version": "1.2.0",
            "_model_name": "LayoutModel",
            "_view_count": null,
            "_view_module": "@jupyter-widgets/base",
            "_view_module_version": "1.2.0",
            "_view_name": "LayoutView",
            "align_content": null,
            "align_items": null,
            "align_self": null,
            "border": null,
            "bottom": null,
            "display": null,
            "flex": null,
            "flex_flow": null,
            "grid_area": null,
            "grid_auto_columns": null,
            "grid_auto_flow": null,
            "grid_auto_rows": null,
            "grid_column": null,
            "grid_gap": null,
            "grid_row": null,
            "grid_template_areas": null,
            "grid_template_columns": null,
            "grid_template_rows": null,
            "height": null,
            "justify_content": null,
            "justify_items": null,
            "left": null,
            "margin": null,
            "max_height": null,
            "max_width": null,
            "min_height": null,
            "min_width": null,
            "object_fit": null,
            "object_position": null,
            "order": null,
            "overflow": null,
            "overflow_x": null,
            "overflow_y": null,
            "padding": null,
            "right": null,
            "top": null,
            "visibility": null,
            "width": null
          }
        },
        "1fd311360d204037a631ea30cce8449f": {
          "model_module": "@jupyter-widgets/controls",
          "model_name": "DescriptionStyleModel",
          "model_module_version": "1.5.0",
          "state": {
            "_model_module": "@jupyter-widgets/controls",
            "_model_module_version": "1.5.0",
            "_model_name": "DescriptionStyleModel",
            "_view_count": null,
            "_view_module": "@jupyter-widgets/base",
            "_view_module_version": "1.2.0",
            "_view_name": "StyleView",
            "description_width": ""
          }
        },
        "c89f1c32d25b4365a3eed86c9c7a3c9b": {
          "model_module": "@jupyter-widgets/base",
          "model_name": "LayoutModel",
          "model_module_version": "1.2.0",
          "state": {
            "_model_module": "@jupyter-widgets/base",
            "_model_module_version": "1.2.0",
            "_model_name": "LayoutModel",
            "_view_count": null,
            "_view_module": "@jupyter-widgets/base",
            "_view_module_version": "1.2.0",
            "_view_name": "LayoutView",
            "align_content": null,
            "align_items": null,
            "align_self": null,
            "border": null,
            "bottom": null,
            "display": null,
            "flex": null,
            "flex_flow": null,
            "grid_area": null,
            "grid_auto_columns": null,
            "grid_auto_flow": null,
            "grid_auto_rows": null,
            "grid_column": null,
            "grid_gap": null,
            "grid_row": null,
            "grid_template_areas": null,
            "grid_template_columns": null,
            "grid_template_rows": null,
            "height": null,
            "justify_content": null,
            "justify_items": null,
            "left": null,
            "margin": null,
            "max_height": null,
            "max_width": null,
            "min_height": null,
            "min_width": null,
            "object_fit": null,
            "object_position": null,
            "order": null,
            "overflow": null,
            "overflow_x": null,
            "overflow_y": null,
            "padding": null,
            "right": null,
            "top": null,
            "visibility": null,
            "width": null
          }
        },
        "e02640bfafaa419abff087d0f4e4aeeb": {
          "model_module": "@jupyter-widgets/controls",
          "model_name": "ProgressStyleModel",
          "model_module_version": "1.5.0",
          "state": {
            "_model_module": "@jupyter-widgets/controls",
            "_model_module_version": "1.5.0",
            "_model_name": "ProgressStyleModel",
            "_view_count": null,
            "_view_module": "@jupyter-widgets/base",
            "_view_module_version": "1.2.0",
            "_view_name": "StyleView",
            "bar_color": null,
            "description_width": ""
          }
        },
        "15f30c4c0cae4f0e8066bef514204765": {
          "model_module": "@jupyter-widgets/base",
          "model_name": "LayoutModel",
          "model_module_version": "1.2.0",
          "state": {
            "_model_module": "@jupyter-widgets/base",
            "_model_module_version": "1.2.0",
            "_model_name": "LayoutModel",
            "_view_count": null,
            "_view_module": "@jupyter-widgets/base",
            "_view_module_version": "1.2.0",
            "_view_name": "LayoutView",
            "align_content": null,
            "align_items": null,
            "align_self": null,
            "border": null,
            "bottom": null,
            "display": null,
            "flex": null,
            "flex_flow": null,
            "grid_area": null,
            "grid_auto_columns": null,
            "grid_auto_flow": null,
            "grid_auto_rows": null,
            "grid_column": null,
            "grid_gap": null,
            "grid_row": null,
            "grid_template_areas": null,
            "grid_template_columns": null,
            "grid_template_rows": null,
            "height": null,
            "justify_content": null,
            "justify_items": null,
            "left": null,
            "margin": null,
            "max_height": null,
            "max_width": null,
            "min_height": null,
            "min_width": null,
            "object_fit": null,
            "object_position": null,
            "order": null,
            "overflow": null,
            "overflow_x": null,
            "overflow_y": null,
            "padding": null,
            "right": null,
            "top": null,
            "visibility": null,
            "width": null
          }
        },
        "ab8df394a5b0477f99471b7efd181827": {
          "model_module": "@jupyter-widgets/controls",
          "model_name": "DescriptionStyleModel",
          "model_module_version": "1.5.0",
          "state": {
            "_model_module": "@jupyter-widgets/controls",
            "_model_module_version": "1.5.0",
            "_model_name": "DescriptionStyleModel",
            "_view_count": null,
            "_view_module": "@jupyter-widgets/base",
            "_view_module_version": "1.2.0",
            "_view_name": "StyleView",
            "description_width": ""
          }
        },
        "41c50f075ab84190979b3e45dee6a44e": {
          "model_module": "@jupyter-widgets/controls",
          "model_name": "HBoxModel",
          "model_module_version": "1.5.0",
          "state": {
            "_dom_classes": [],
            "_model_module": "@jupyter-widgets/controls",
            "_model_module_version": "1.5.0",
            "_model_name": "HBoxModel",
            "_view_count": null,
            "_view_module": "@jupyter-widgets/controls",
            "_view_module_version": "1.5.0",
            "_view_name": "HBoxView",
            "box_style": "",
            "children": [
              "IPY_MODEL_550f00f2f4824b529a48b81cfac9ab0e",
              "IPY_MODEL_4adbc930262d4f89b6f174f2d890a7b4",
              "IPY_MODEL_72fd48fd92b14e878ccdf17a73b7fe1a"
            ],
            "layout": "IPY_MODEL_89c4876d82c94bc8ab8a753a094dec16"
          }
        },
        "550f00f2f4824b529a48b81cfac9ab0e": {
          "model_module": "@jupyter-widgets/controls",
          "model_name": "HTMLModel",
          "model_module_version": "1.5.0",
          "state": {
            "_dom_classes": [],
            "_model_module": "@jupyter-widgets/controls",
            "_model_module_version": "1.5.0",
            "_model_name": "HTMLModel",
            "_view_count": null,
            "_view_module": "@jupyter-widgets/controls",
            "_view_module_version": "1.5.0",
            "_view_name": "HTMLView",
            "description": "",
            "description_tooltip": null,
            "layout": "IPY_MODEL_a43237201eed4e8a8f11d15615b8ef11",
            "placeholder": "​",
            "style": "IPY_MODEL_0a07ffa2a4374800be95a46763e502eb",
            "value": "Map: 100%"
          }
        },
        "4adbc930262d4f89b6f174f2d890a7b4": {
          "model_module": "@jupyter-widgets/controls",
          "model_name": "FloatProgressModel",
          "model_module_version": "1.5.0",
          "state": {
            "_dom_classes": [],
            "_model_module": "@jupyter-widgets/controls",
            "_model_module_version": "1.5.0",
            "_model_name": "FloatProgressModel",
            "_view_count": null,
            "_view_module": "@jupyter-widgets/controls",
            "_view_module_version": "1.5.0",
            "_view_name": "ProgressView",
            "bar_style": "success",
            "description": "",
            "description_tooltip": null,
            "layout": "IPY_MODEL_ff492d0cc5524f60acf2f35729bcbb66",
            "max": 220,
            "min": 0,
            "orientation": "horizontal",
            "style": "IPY_MODEL_a468147963af48b1aa759a8a76b00685",
            "value": 220
          }
        },
        "72fd48fd92b14e878ccdf17a73b7fe1a": {
          "model_module": "@jupyter-widgets/controls",
          "model_name": "HTMLModel",
          "model_module_version": "1.5.0",
          "state": {
            "_dom_classes": [],
            "_model_module": "@jupyter-widgets/controls",
            "_model_module_version": "1.5.0",
            "_model_name": "HTMLModel",
            "_view_count": null,
            "_view_module": "@jupyter-widgets/controls",
            "_view_module_version": "1.5.0",
            "_view_name": "HTMLView",
            "description": "",
            "description_tooltip": null,
            "layout": "IPY_MODEL_002f7cc0fc14495092e9e2583273a068",
            "placeholder": "​",
            "style": "IPY_MODEL_3e2191225db340d9956493bb65b8a57d",
            "value": " 220/220 [00:02&lt;00:00, 94.21 examples/s]"
          }
        },
        "89c4876d82c94bc8ab8a753a094dec16": {
          "model_module": "@jupyter-widgets/base",
          "model_name": "LayoutModel",
          "model_module_version": "1.2.0",
          "state": {
            "_model_module": "@jupyter-widgets/base",
            "_model_module_version": "1.2.0",
            "_model_name": "LayoutModel",
            "_view_count": null,
            "_view_module": "@jupyter-widgets/base",
            "_view_module_version": "1.2.0",
            "_view_name": "LayoutView",
            "align_content": null,
            "align_items": null,
            "align_self": null,
            "border": null,
            "bottom": null,
            "display": null,
            "flex": null,
            "flex_flow": null,
            "grid_area": null,
            "grid_auto_columns": null,
            "grid_auto_flow": null,
            "grid_auto_rows": null,
            "grid_column": null,
            "grid_gap": null,
            "grid_row": null,
            "grid_template_areas": null,
            "grid_template_columns": null,
            "grid_template_rows": null,
            "height": null,
            "justify_content": null,
            "justify_items": null,
            "left": null,
            "margin": null,
            "max_height": null,
            "max_width": null,
            "min_height": null,
            "min_width": null,
            "object_fit": null,
            "object_position": null,
            "order": null,
            "overflow": null,
            "overflow_x": null,
            "overflow_y": null,
            "padding": null,
            "right": null,
            "top": null,
            "visibility": null,
            "width": null
          }
        },
        "a43237201eed4e8a8f11d15615b8ef11": {
          "model_module": "@jupyter-widgets/base",
          "model_name": "LayoutModel",
          "model_module_version": "1.2.0",
          "state": {
            "_model_module": "@jupyter-widgets/base",
            "_model_module_version": "1.2.0",
            "_model_name": "LayoutModel",
            "_view_count": null,
            "_view_module": "@jupyter-widgets/base",
            "_view_module_version": "1.2.0",
            "_view_name": "LayoutView",
            "align_content": null,
            "align_items": null,
            "align_self": null,
            "border": null,
            "bottom": null,
            "display": null,
            "flex": null,
            "flex_flow": null,
            "grid_area": null,
            "grid_auto_columns": null,
            "grid_auto_flow": null,
            "grid_auto_rows": null,
            "grid_column": null,
            "grid_gap": null,
            "grid_row": null,
            "grid_template_areas": null,
            "grid_template_columns": null,
            "grid_template_rows": null,
            "height": null,
            "justify_content": null,
            "justify_items": null,
            "left": null,
            "margin": null,
            "max_height": null,
            "max_width": null,
            "min_height": null,
            "min_width": null,
            "object_fit": null,
            "object_position": null,
            "order": null,
            "overflow": null,
            "overflow_x": null,
            "overflow_y": null,
            "padding": null,
            "right": null,
            "top": null,
            "visibility": null,
            "width": null
          }
        },
        "0a07ffa2a4374800be95a46763e502eb": {
          "model_module": "@jupyter-widgets/controls",
          "model_name": "DescriptionStyleModel",
          "model_module_version": "1.5.0",
          "state": {
            "_model_module": "@jupyter-widgets/controls",
            "_model_module_version": "1.5.0",
            "_model_name": "DescriptionStyleModel",
            "_view_count": null,
            "_view_module": "@jupyter-widgets/base",
            "_view_module_version": "1.2.0",
            "_view_name": "StyleView",
            "description_width": ""
          }
        },
        "ff492d0cc5524f60acf2f35729bcbb66": {
          "model_module": "@jupyter-widgets/base",
          "model_name": "LayoutModel",
          "model_module_version": "1.2.0",
          "state": {
            "_model_module": "@jupyter-widgets/base",
            "_model_module_version": "1.2.0",
            "_model_name": "LayoutModel",
            "_view_count": null,
            "_view_module": "@jupyter-widgets/base",
            "_view_module_version": "1.2.0",
            "_view_name": "LayoutView",
            "align_content": null,
            "align_items": null,
            "align_self": null,
            "border": null,
            "bottom": null,
            "display": null,
            "flex": null,
            "flex_flow": null,
            "grid_area": null,
            "grid_auto_columns": null,
            "grid_auto_flow": null,
            "grid_auto_rows": null,
            "grid_column": null,
            "grid_gap": null,
            "grid_row": null,
            "grid_template_areas": null,
            "grid_template_columns": null,
            "grid_template_rows": null,
            "height": null,
            "justify_content": null,
            "justify_items": null,
            "left": null,
            "margin": null,
            "max_height": null,
            "max_width": null,
            "min_height": null,
            "min_width": null,
            "object_fit": null,
            "object_position": null,
            "order": null,
            "overflow": null,
            "overflow_x": null,
            "overflow_y": null,
            "padding": null,
            "right": null,
            "top": null,
            "visibility": null,
            "width": null
          }
        },
        "a468147963af48b1aa759a8a76b00685": {
          "model_module": "@jupyter-widgets/controls",
          "model_name": "ProgressStyleModel",
          "model_module_version": "1.5.0",
          "state": {
            "_model_module": "@jupyter-widgets/controls",
            "_model_module_version": "1.5.0",
            "_model_name": "ProgressStyleModel",
            "_view_count": null,
            "_view_module": "@jupyter-widgets/base",
            "_view_module_version": "1.2.0",
            "_view_name": "StyleView",
            "bar_color": null,
            "description_width": ""
          }
        },
        "002f7cc0fc14495092e9e2583273a068": {
          "model_module": "@jupyter-widgets/base",
          "model_name": "LayoutModel",
          "model_module_version": "1.2.0",
          "state": {
            "_model_module": "@jupyter-widgets/base",
            "_model_module_version": "1.2.0",
            "_model_name": "LayoutModel",
            "_view_count": null,
            "_view_module": "@jupyter-widgets/base",
            "_view_module_version": "1.2.0",
            "_view_name": "LayoutView",
            "align_content": null,
            "align_items": null,
            "align_self": null,
            "border": null,
            "bottom": null,
            "display": null,
            "flex": null,
            "flex_flow": null,
            "grid_area": null,
            "grid_auto_columns": null,
            "grid_auto_flow": null,
            "grid_auto_rows": null,
            "grid_column": null,
            "grid_gap": null,
            "grid_row": null,
            "grid_template_areas": null,
            "grid_template_columns": null,
            "grid_template_rows": null,
            "height": null,
            "justify_content": null,
            "justify_items": null,
            "left": null,
            "margin": null,
            "max_height": null,
            "max_width": null,
            "min_height": null,
            "min_width": null,
            "object_fit": null,
            "object_position": null,
            "order": null,
            "overflow": null,
            "overflow_x": null,
            "overflow_y": null,
            "padding": null,
            "right": null,
            "top": null,
            "visibility": null,
            "width": null
          }
        },
        "3e2191225db340d9956493bb65b8a57d": {
          "model_module": "@jupyter-widgets/controls",
          "model_name": "DescriptionStyleModel",
          "model_module_version": "1.5.0",
          "state": {
            "_model_module": "@jupyter-widgets/controls",
            "_model_module_version": "1.5.0",
            "_model_name": "DescriptionStyleModel",
            "_view_count": null,
            "_view_module": "@jupyter-widgets/base",
            "_view_module_version": "1.2.0",
            "_view_name": "StyleView",
            "description_width": ""
          }
        },
        "0bb019ddf45a4ab2849a70f996e69024": {
          "model_module": "@jupyter-widgets/controls",
          "model_name": "HBoxModel",
          "model_module_version": "1.5.0",
          "state": {
            "_dom_classes": [],
            "_model_module": "@jupyter-widgets/controls",
            "_model_module_version": "1.5.0",
            "_model_name": "HBoxModel",
            "_view_count": null,
            "_view_module": "@jupyter-widgets/controls",
            "_view_module_version": "1.5.0",
            "_view_name": "HBoxView",
            "box_style": "",
            "children": [
              "IPY_MODEL_ec33445624fa46018e0d8c5105d5b148",
              "IPY_MODEL_42db00254c594a48bb1b330ac0779c78",
              "IPY_MODEL_191e72579f004767ae7c7c4782f4835c"
            ],
            "layout": "IPY_MODEL_bf2b3e5fe1b1412eabb6a8cebfa98e9f"
          }
        },
        "ec33445624fa46018e0d8c5105d5b148": {
          "model_module": "@jupyter-widgets/controls",
          "model_name": "HTMLModel",
          "model_module_version": "1.5.0",
          "state": {
            "_dom_classes": [],
            "_model_module": "@jupyter-widgets/controls",
            "_model_module_version": "1.5.0",
            "_model_name": "HTMLModel",
            "_view_count": null,
            "_view_module": "@jupyter-widgets/controls",
            "_view_module_version": "1.5.0",
            "_view_name": "HTMLView",
            "description": "",
            "description_tooltip": null,
            "layout": "IPY_MODEL_f4cfa27566e744febabd6f2c50a03b2a",
            "placeholder": "​",
            "style": "IPY_MODEL_50468e52022a4fe1b2c98601b66fe3ec",
            "value": "model.safetensors: 100%"
          }
        },
        "42db00254c594a48bb1b330ac0779c78": {
          "model_module": "@jupyter-widgets/controls",
          "model_name": "FloatProgressModel",
          "model_module_version": "1.5.0",
          "state": {
            "_dom_classes": [],
            "_model_module": "@jupyter-widgets/controls",
            "_model_module_version": "1.5.0",
            "_model_name": "FloatProgressModel",
            "_view_count": null,
            "_view_module": "@jupyter-widgets/controls",
            "_view_module_version": "1.5.0",
            "_view_name": "ProgressView",
            "bar_style": "success",
            "description": "",
            "description_tooltip": null,
            "layout": "IPY_MODEL_5feb0000333d409e83e170bc9e5b2997",
            "max": 263260784,
            "min": 0,
            "orientation": "horizontal",
            "style": "IPY_MODEL_c05d59ddd6784f05bd035aa9b8c6aea7",
            "value": 263260784
          }
        },
        "191e72579f004767ae7c7c4782f4835c": {
          "model_module": "@jupyter-widgets/controls",
          "model_name": "HTMLModel",
          "model_module_version": "1.5.0",
          "state": {
            "_dom_classes": [],
            "_model_module": "@jupyter-widgets/controls",
            "_model_module_version": "1.5.0",
            "_model_name": "HTMLModel",
            "_view_count": null,
            "_view_module": "@jupyter-widgets/controls",
            "_view_module_version": "1.5.0",
            "_view_name": "HTMLView",
            "description": "",
            "description_tooltip": null,
            "layout": "IPY_MODEL_597ac579d9084f8e98b851d84d3bc7c9",
            "placeholder": "​",
            "style": "IPY_MODEL_264fe9c045cb47b9a77c4bc3c115e639",
            "value": " 263M/263M [00:04&lt;00:00, 78.9MB/s]"
          }
        },
        "bf2b3e5fe1b1412eabb6a8cebfa98e9f": {
          "model_module": "@jupyter-widgets/base",
          "model_name": "LayoutModel",
          "model_module_version": "1.2.0",
          "state": {
            "_model_module": "@jupyter-widgets/base",
            "_model_module_version": "1.2.0",
            "_model_name": "LayoutModel",
            "_view_count": null,
            "_view_module": "@jupyter-widgets/base",
            "_view_module_version": "1.2.0",
            "_view_name": "LayoutView",
            "align_content": null,
            "align_items": null,
            "align_self": null,
            "border": null,
            "bottom": null,
            "display": null,
            "flex": null,
            "flex_flow": null,
            "grid_area": null,
            "grid_auto_columns": null,
            "grid_auto_flow": null,
            "grid_auto_rows": null,
            "grid_column": null,
            "grid_gap": null,
            "grid_row": null,
            "grid_template_areas": null,
            "grid_template_columns": null,
            "grid_template_rows": null,
            "height": null,
            "justify_content": null,
            "justify_items": null,
            "left": null,
            "margin": null,
            "max_height": null,
            "max_width": null,
            "min_height": null,
            "min_width": null,
            "object_fit": null,
            "object_position": null,
            "order": null,
            "overflow": null,
            "overflow_x": null,
            "overflow_y": null,
            "padding": null,
            "right": null,
            "top": null,
            "visibility": null,
            "width": null
          }
        },
        "f4cfa27566e744febabd6f2c50a03b2a": {
          "model_module": "@jupyter-widgets/base",
          "model_name": "LayoutModel",
          "model_module_version": "1.2.0",
          "state": {
            "_model_module": "@jupyter-widgets/base",
            "_model_module_version": "1.2.0",
            "_model_name": "LayoutModel",
            "_view_count": null,
            "_view_module": "@jupyter-widgets/base",
            "_view_module_version": "1.2.0",
            "_view_name": "LayoutView",
            "align_content": null,
            "align_items": null,
            "align_self": null,
            "border": null,
            "bottom": null,
            "display": null,
            "flex": null,
            "flex_flow": null,
            "grid_area": null,
            "grid_auto_columns": null,
            "grid_auto_flow": null,
            "grid_auto_rows": null,
            "grid_column": null,
            "grid_gap": null,
            "grid_row": null,
            "grid_template_areas": null,
            "grid_template_columns": null,
            "grid_template_rows": null,
            "height": null,
            "justify_content": null,
            "justify_items": null,
            "left": null,
            "margin": null,
            "max_height": null,
            "max_width": null,
            "min_height": null,
            "min_width": null,
            "object_fit": null,
            "object_position": null,
            "order": null,
            "overflow": null,
            "overflow_x": null,
            "overflow_y": null,
            "padding": null,
            "right": null,
            "top": null,
            "visibility": null,
            "width": null
          }
        },
        "50468e52022a4fe1b2c98601b66fe3ec": {
          "model_module": "@jupyter-widgets/controls",
          "model_name": "DescriptionStyleModel",
          "model_module_version": "1.5.0",
          "state": {
            "_model_module": "@jupyter-widgets/controls",
            "_model_module_version": "1.5.0",
            "_model_name": "DescriptionStyleModel",
            "_view_count": null,
            "_view_module": "@jupyter-widgets/base",
            "_view_module_version": "1.2.0",
            "_view_name": "StyleView",
            "description_width": ""
          }
        },
        "5feb0000333d409e83e170bc9e5b2997": {
          "model_module": "@jupyter-widgets/base",
          "model_name": "LayoutModel",
          "model_module_version": "1.2.0",
          "state": {
            "_model_module": "@jupyter-widgets/base",
            "_model_module_version": "1.2.0",
            "_model_name": "LayoutModel",
            "_view_count": null,
            "_view_module": "@jupyter-widgets/base",
            "_view_module_version": "1.2.0",
            "_view_name": "LayoutView",
            "align_content": null,
            "align_items": null,
            "align_self": null,
            "border": null,
            "bottom": null,
            "display": null,
            "flex": null,
            "flex_flow": null,
            "grid_area": null,
            "grid_auto_columns": null,
            "grid_auto_flow": null,
            "grid_auto_rows": null,
            "grid_column": null,
            "grid_gap": null,
            "grid_row": null,
            "grid_template_areas": null,
            "grid_template_columns": null,
            "grid_template_rows": null,
            "height": null,
            "justify_content": null,
            "justify_items": null,
            "left": null,
            "margin": null,
            "max_height": null,
            "max_width": null,
            "min_height": null,
            "min_width": null,
            "object_fit": null,
            "object_position": null,
            "order": null,
            "overflow": null,
            "overflow_x": null,
            "overflow_y": null,
            "padding": null,
            "right": null,
            "top": null,
            "visibility": null,
            "width": null
          }
        },
        "c05d59ddd6784f05bd035aa9b8c6aea7": {
          "model_module": "@jupyter-widgets/controls",
          "model_name": "ProgressStyleModel",
          "model_module_version": "1.5.0",
          "state": {
            "_model_module": "@jupyter-widgets/controls",
            "_model_module_version": "1.5.0",
            "_model_name": "ProgressStyleModel",
            "_view_count": null,
            "_view_module": "@jupyter-widgets/base",
            "_view_module_version": "1.2.0",
            "_view_name": "StyleView",
            "bar_color": null,
            "description_width": ""
          }
        },
        "597ac579d9084f8e98b851d84d3bc7c9": {
          "model_module": "@jupyter-widgets/base",
          "model_name": "LayoutModel",
          "model_module_version": "1.2.0",
          "state": {
            "_model_module": "@jupyter-widgets/base",
            "_model_module_version": "1.2.0",
            "_model_name": "LayoutModel",
            "_view_count": null,
            "_view_module": "@jupyter-widgets/base",
            "_view_module_version": "1.2.0",
            "_view_name": "LayoutView",
            "align_content": null,
            "align_items": null,
            "align_self": null,
            "border": null,
            "bottom": null,
            "display": null,
            "flex": null,
            "flex_flow": null,
            "grid_area": null,
            "grid_auto_columns": null,
            "grid_auto_flow": null,
            "grid_auto_rows": null,
            "grid_column": null,
            "grid_gap": null,
            "grid_row": null,
            "grid_template_areas": null,
            "grid_template_columns": null,
            "grid_template_rows": null,
            "height": null,
            "justify_content": null,
            "justify_items": null,
            "left": null,
            "margin": null,
            "max_height": null,
            "max_width": null,
            "min_height": null,
            "min_width": null,
            "object_fit": null,
            "object_position": null,
            "order": null,
            "overflow": null,
            "overflow_x": null,
            "overflow_y": null,
            "padding": null,
            "right": null,
            "top": null,
            "visibility": null,
            "width": null
          }
        },
        "264fe9c045cb47b9a77c4bc3c115e639": {
          "model_module": "@jupyter-widgets/controls",
          "model_name": "DescriptionStyleModel",
          "model_module_version": "1.5.0",
          "state": {
            "_model_module": "@jupyter-widgets/controls",
            "_model_module_version": "1.5.0",
            "_model_name": "DescriptionStyleModel",
            "_view_count": null,
            "_view_module": "@jupyter-widgets/base",
            "_view_module_version": "1.2.0",
            "_view_name": "StyleView",
            "description_width": ""
          }
        }
      }
    }
  },
  "nbformat": 4,
  "nbformat_minor": 5
}